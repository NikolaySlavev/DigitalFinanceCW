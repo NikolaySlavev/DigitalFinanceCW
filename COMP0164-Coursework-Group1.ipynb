{
 "cells": [
  {
   "cell_type": "code",
   "execution_count": 1,
   "metadata": {},
   "outputs": [],
   "source": [
    "import pandas as pd\n",
    "import numpy as np\n",
    "import numpy_financial as npf\n",
    "import math as m\n",
    "\n",
    "import yfinance as yf\n",
    "import matplotlib.pylab as plt\n",
    "import matplotlib.dates as mdates\n",
    "\n",
    "from scipy.stats import norm"
   ]
  },
  {
   "cell_type": "markdown",
   "metadata": {},
   "source": [
    "# Question 1"
   ]
  },
  {
   "cell_type": "markdown",
   "metadata": {},
   "source": [
    "## A"
   ]
  },
  {
   "cell_type": "code",
   "execution_count": 2,
   "metadata": {},
   "outputs": [
    {
     "name": "stdout",
     "output_type": "stream",
     "text": [
      "The Weighted Average Cost of Capital is: 8.17%\n"
     ]
    }
   ],
   "source": [
    "# initialise the variables necessary for the Weighted Average Cost of Capital (WACC) calculations\n",
    "erp = 0.0482 # the equity risk premium\n",
    "r = 0.0425 # the risk-free interest rate\n",
    "D = 900*(10e6) # ABC's debt portion\n",
    "E = 2.4*(10e9) # ABC's equity portion\n",
    "r_D = 0.0925 # the return on debt (Comment on why it was taken as rd)\n",
    "t_c = 0.375 # the corporate tax rate\n",
    "\n",
    "# determine the return on equity\n",
    "r_E = r + erp\n",
    "\n",
    "# determine the WACC, also known as the return on all assets [r_A]\n",
    "WoD = D / (D + E) # Weightage of Debt\n",
    "WoE = E / (D + E) # Weightage of Equity\n",
    "r_A = (WoD * r_D * (1 - t_c)) + (WoE * r_E)\n",
    "\n",
    "# print the results\n",
    "print(\"The Weighted Average Cost of Capital is: {:.2f}%\".format(r_A*100))"
   ]
  },
  {
   "cell_type": "markdown",
   "metadata": {},
   "source": [
    "### Working for question 1a\n",
    "\n",
    "The equation for the Weighted Average Cost of Capital (WACC) after-tax is defined as below:\n",
    "\n",
    "\\begin{equation}\n",
    "\\operatorname{r_{A}}=\\frac{\\text {D}}{\\left(\\text {D + E} \\right)} \\times \\left(\\operatorname{r_{D}} \\times \\left(\\text{1} - \\text{T}_ \\text{C}\\right)\\right) + \\frac{\\text {E}}{\\left(\\text {D + E}\\right)} \\times \\operatorname{r_{E}}\n",
    "\\end{equation}\n",
    "\n",
    "Given our $D$, $E$ and $r_D$ we only need to determine our $r_E$ to complete the calculation for the WACC. \n",
    "\n",
    "As we are also given our equity risk premium ($erp$) and our risk-free rate of interest ($r_f$) we can determine our return on equity. This is achieved by doing a simple reworking of the CAPM equation.\n",
    "\n",
    "CAPM Equation:\n",
    "\\begin{equation}\n",
    "\\mathrm{r}_{\\mathrm{E}}=\\mathrm{r}_{\\mathrm{f}}+\\beta \\times \\left(\\mathrm{r}_{\\mathrm{M}}-\\mathrm{r}_{\\mathrm{f}}\\right)\n",
    "\\end{equation}\n",
    "\n",
    "Reworked into the Equity risk premium equation:\n",
    "\\begin{equation}\n",
    "\\mathrm{erp}=\\mathrm{r}_{\\mathrm{E}}-\\mathrm{r}_{\\mathrm{f}}=\\beta \\times \\left(\\mathrm{r}_{\\mathrm{M}}-\\mathrm{r}_{\\mathrm{f}}\\right)\n",
    "\\end{equation}\n",
    "\n",
    "Therefore, the return on equity will be determined through\n",
    "\\begin{equation}\n",
    "\\mathrm{r}_{\\mathrm{E}}=\\mathrm{erp}+\\mathrm{r}_{\\mathrm{f}}\n",
    "\\end{equation}\n",
    "\n",
    "This is gives us a value of \n",
    "\\begin{equation}\n",
    "\\operatorname{r_{E}} = \\text{4.82\\% + 4.25\\%} = \\text{9.07\\%}\n",
    "\\end{equation}\n",
    "\n",
    "Therefore, we achieve a value for the WACC \n",
    "\\begin{equation}\n",
    "\\operatorname{r_{A}} = \\frac{\\text{900} \\times \\text{10}^{\\text{6}}}{\\left(\\text{900} \\times \\text{10}^{\\text{6}} + \\text{2.4} \\times \\text{10}^{\\text{9}}\\right)} \\times \\left(\\text{0.0925} \\times \\left(\\text{1} - \\text{0.375}\\right)\\right) + \\frac{\\text{2.4} \\times \\text{10}^{\\text{9}}}{\\left(\\text{900} \\times \\text{10}^{\\text{6}} + \\text{2.4} \\times \\text{10}^{\\text{9}}\\right)} \\times \\text{0.0907} = \\text{8.17\\%}\n",
    "\\end{equation}"
   ]
  },
  {
   "cell_type": "markdown",
   "metadata": {},
   "source": [
    "## B"
   ]
  },
  {
   "cell_type": "code",
   "execution_count": 3,
   "metadata": {},
   "outputs": [
    {
     "name": "stdout",
     "output_type": "stream",
     "text": [
      "The asset beta prior to the new project is: 1.0531645569620254\n"
     ]
    }
   ],
   "source": [
    "# initialise the variables necessary for the asset beta calculations prior to the new project\n",
    "beta_E = 1.3\n",
    "\n",
    "# We need to determine the asset (unlevered) beta.\n",
    "# this can be done by dividing the equity (levered) beta by 1+(1-T_c)*debt equity ratio\n",
    "\n",
    "denom = 1 + ((1 - t_c) * (D / E)) # the denominator of the debt beta equation\n",
    "\n",
    "beta_A = beta_E / denom # using this to determine the asset beta\n",
    "\n",
    "# present the results\n",
    "print(\"The asset beta prior to the new project is: {0}\".format(beta_A))"
   ]
  },
  {
   "cell_type": "markdown",
   "metadata": {},
   "source": [
    "### Working for question 1b\n",
    "\n",
    "The relationship between the asset (unlevered) beta [$\\beta_{A}$] and the equity (levered) beta [$\\beta_{E}$] is seen below\n",
    "\n",
    "\\begin{equation}\n",
    "\\operatorname{\\beta_{A}} = \\frac{\\operatorname{\\beta_{E}}}{\\text{1} + \\left(\\left(\\text{1} - \\operatorname{T_{C}}\\right) \\times \\frac{\\text{D}}{\\text{E}}\\right)}\n",
    "\\end{equation}\n",
    "\n",
    "we already know the value for the corporate tax rate $T_C$, the debt $D$, the equity $E$, and the equity beta $\\beta_{E}$. Therefore we can determine [$\\beta_{A}$] and achieve a result as seen below\n",
    "\n",
    "\\begin{equation}\n",
    "\\operatorname{\\beta_{A}} = \\frac{\\text{1.3}}{\\text{1} + \\left(\\left(\\text{1} - \\text{0.375}\\right) \\times \\frac{\\text{900} \\times \\text{10}^{\\text{6}}}{\\text{2.4} \\times \\text{10}^{\\text{9}}}\\right)} = \\text{1.1}\n",
    "\\end{equation}"
   ]
  },
  {
   "cell_type": "markdown",
   "metadata": {},
   "source": [
    "## C"
   ]
  },
  {
   "cell_type": "code",
   "execution_count": 4,
   "metadata": {},
   "outputs": [
    {
     "name": "stdout",
     "output_type": "stream",
     "text": [
      "The equity beta of the new project is: 3.6860759493670887\n"
     ]
    }
   ],
   "source": [
    "# Assume beta asset is unlevered beta and use the project debt to equity ratio\n",
    "\n",
    "# initialise the terms used to determine the equity beta of a project\n",
    "epp = 20 * 10e6 # the equity portion of the project\n",
    "dpp = 80 * 10e6 # the debt portion of the project\n",
    "\n",
    "# we use the same asset beta as stated in the question\n",
    "beta_PE = beta_A * (1 + ((1 - t_c) * (dpp / epp))) # the project equity beta\n",
    "\n",
    "# present the results\n",
    "print(\"The equity beta of the new project is: {0}\".format(beta_PE))"
   ]
  },
  {
   "cell_type": "markdown",
   "metadata": {},
   "source": [
    "### Working for question 1c\n",
    "\n",
    "We use the same relationship between the asset (unlevered) beta [$\\beta_{A}$] and the equity (levered) beta [$\\beta_{E}$] as the one used in question 1b, however we will have different values for the debt [$D$] and equity [$E$] portions as we are focussing on the project to achieve the project equity beta.\n",
    "\n",
    "**$D_{p} = 80 \\times 10^{6}$**\n",
    "\n",
    "**$E_{p} = 20 \\times 10^{6}$**\n",
    "\n",
    "Thus we can re-arrange the \n",
    "\n",
    "\\begin{equation}\n",
    "\\operatorname{\\beta_{E'}} = \\operatorname{\\beta_{A}} \\times \\left(\\text{1} + \\left(\\left(\\text{1} - \\operatorname{T_{C}}\\right) \\times \\frac{\\text{D}_ \\text{p}}{\\text{E}_ \\text{p}}\\right)\\right)\n",
    "\\end{equation}\n",
    "\n",
    "we already know the value for the corporate tax rate $T_C$, the debt $D_{p}$, the equity $E_{p}$, and the asset beta $\\beta_{A}$. Therefore we can determine the project equity beta [$\\beta_{E'}$] and achieve a result as seen below\n",
    "\n",
    "\\begin{equation}\n",
    "\\operatorname{\\beta_{E'}} = \\text{1.1} \\times \\left(\\text{1} + \\left(\\left(\\text{1} - \\text{0.375}\\right) \\times \\frac{\\text{80} \\times \\text{10}^{\\text{6}}}{\\text{20} \\times \\text{10}^{\\text{6}}}\\right)\\right) = \\text{3.7}\n",
    "\\end{equation}"
   ]
  },
  {
   "cell_type": "markdown",
   "metadata": {},
   "source": [
    "## D"
   ]
  },
  {
   "cell_type": "code",
   "execution_count": 5,
   "metadata": {},
   "outputs": [
    {
     "data": {
      "text/html": [
       "<div>\n",
       "<style scoped>\n",
       "    .dataframe tbody tr th:only-of-type {\n",
       "        vertical-align: middle;\n",
       "    }\n",
       "\n",
       "    .dataframe tbody tr th {\n",
       "        vertical-align: top;\n",
       "    }\n",
       "\n",
       "    .dataframe thead th {\n",
       "        text-align: right;\n",
       "    }\n",
       "</style>\n",
       "<table border=\"1\" class=\"dataframe\">\n",
       "  <thead>\n",
       "    <tr style=\"text-align: right;\">\n",
       "      <th></th>\n",
       "      <th>Revenues</th>\n",
       "      <th>Operating Cost</th>\n",
       "      <th>Depreciation</th>\n",
       "      <th>FCF [mil]</th>\n",
       "    </tr>\n",
       "  </thead>\n",
       "  <tbody>\n",
       "    <tr>\n",
       "      <th>Year 1</th>\n",
       "      <td>99.20</td>\n",
       "      <td>32</td>\n",
       "      <td>16</td>\n",
       "      <td>48.0</td>\n",
       "    </tr>\n",
       "    <tr>\n",
       "      <th>Year 2</th>\n",
       "      <td>109.60</td>\n",
       "      <td>36</td>\n",
       "      <td>16</td>\n",
       "      <td>52.0</td>\n",
       "    </tr>\n",
       "    <tr>\n",
       "      <th>Year 3</th>\n",
       "      <td>115.44</td>\n",
       "      <td>38</td>\n",
       "      <td>16</td>\n",
       "      <td>54.4</td>\n",
       "    </tr>\n",
       "  </tbody>\n",
       "</table>\n",
       "</div>"
      ],
      "text/plain": [
       "        Revenues  Operating Cost  Depreciation  FCF [mil]\n",
       "Year 1     99.20              32            16       48.0\n",
       "Year 2    109.60              36            16       52.0\n",
       "Year 3    115.44              38            16       54.4"
      ]
     },
     "execution_count": 5,
     "metadata": {},
     "output_type": "execute_result"
    }
   ],
   "source": [
    "# Initialising the 3 rows of exhibit 2\n",
    "rev = [99.2, 109.6, 115.44] # Revenues\n",
    "OC = [32, 36, 38] # operating cost\n",
    "dep = [16, 16, 16] # depreciation\n",
    "\n",
    "# create a dataframe that holds all the info for exhibit 2\n",
    "dictionary = {'Revenues': rev, 'Operating Cost': OC, 'Depreciation': dep}\n",
    "epf = pd.DataFrame(data = dictionary, index = ['Year 1', 'Year 2', 'Year 3']) # estimated project financials\n",
    "\n",
    "# creating a function to calculate the fcf of entered data\n",
    "def get_fcf(row):\n",
    "    return ((row['Revenues'] - row['Operating Cost'] - row['Depreciation']) * (1 - t_c)) + row['Depreciation']\n",
    "\n",
    "# creating a new column to add to the epf data frame with the corresponding fcf for each year\n",
    "epf['FCF [mil]'] = epf.apply(get_fcf, axis = 1)\n",
    "epf"
   ]
  },
  {
   "cell_type": "markdown",
   "metadata": {},
   "source": [
    "### Working for question 1d\n",
    "\n",
    "Given our information in 'Exhibit 2: Estimated Project Financials' we can determine our Free Cash Flow (FCF) for the 3 years of data on the project. The equation given for the FCF,\n",
    "\n",
    "\\begin{equation}\n",
    "\\text{FCF} = \\left(\\text{Revenues} - \\text{Operating Cost} - \\text{Depreciation}\\right) \\times \\left(\\text{1} - \\text{Tax Rate}\\right) + \\text{Depreciation}\n",
    "\\end{equation}\n",
    "\n",
    "Therefore, with the tax rate being $37.5%$ we determine the value for the next 3 years to be $48$ million, $52$ million and $54.4$ million. "
   ]
  },
  {
   "cell_type": "markdown",
   "metadata": {},
   "source": [
    "## E"
   ]
  },
  {
   "cell_type": "code",
   "execution_count": 6,
   "metadata": {},
   "outputs": [
    {
     "name": "stdout",
     "output_type": "stream",
     "text": [
      "The NPV, of the project, at a Risk-Free interest rate of  0.0425  is 41.90\n",
      "\n",
      "The IRR value is:  0.2469145404466444\n"
     ]
    }
   ],
   "source": [
    "values = []\n",
    "values.append(-100) # adding the original $100mil investment\n",
    "for z in range(len(epf['FCF [mil]'])):\n",
    "    values.append(epf['FCF [mil]'][z]) # add the fcf values to the list\n",
    "\n",
    "# As we have initialised all the variables needed we can directly determine the NPV using the numpy_financial library\n",
    "print(\"The NPV, of the project, at a Risk-Free interest rate of \", r, \" is {:.2f}\".format(npf.npv(r, values)))\n",
    "\n",
    "# Same goes for the IRR (make a new one with the function built)\n",
    "print(\"\\nThe IRR value is: \", npf.irr(values))"
   ]
  },
  {
   "cell_type": "markdown",
   "metadata": {},
   "source": [
    "### Working on question 1e\n",
    "\n",
    "**Working for the NPV**\n",
    "\n",
    "We determine the NPV by using its equation:\n",
    "\n",
    "\\begin{equation}\n",
    "\\operatorname{NPV} = \\frac{\\operatorname{FCF_{t}}}{\\left(\\text{1} + \\operatorname{r}\\right)^{t}}\n",
    "\\end{equation}\n",
    "\n",
    "Therefore, we compute the result by summing the results from $1$ to $t$:\n",
    "\n",
    "\\begin{equation}\n",
    "\\operatorname{NPV} = \\frac{\\text{48}}{\\left(\\text{1 + 0.0425}\\right)^{1}} + \\frac{\\text{52}}{\\left(\\text{1 + 0.0425}\\right)^{2}} + \\frac{\\text{54.4}}{\\left(\\text{1 + 0.0425}\\right)^{3}} = \\text{147.94 million}\n",
    "\\end{equation}\n",
    "\n",
    "**Working for IRR**\n",
    "\n",
    "We determine the $IRR$ by using it's equation:\n",
    "\n",
    "\\begin{equation}\n",
    "\\operatorname{NPV} = \\text{0} =  \\frac{\\operatorname{FCF_{t}}}{\\left(\\text{1} + \\operatorname{IRR}\\right)^{t}} - \\operatorname{C_{0}}\n",
    "\\end{equation}\n",
    "\n",
    "With the $NPV$ value being 0 we solve for the $IRR$. In addition, we also know that $C_0$ is the original investment of $100$ million\n",
    "\n",
    "The $IRR$ is then determined to be:\n",
    "\n",
    "\\begin{equation}\n",
    "\\operatorname{IRR} = \\text{0.247}\n",
    "\\end{equation}"
   ]
  },
  {
   "cell_type": "markdown",
   "metadata": {},
   "source": [
    "## F"
   ]
  },
  {
   "cell_type": "code",
   "execution_count": 7,
   "metadata": {},
   "outputs": [
    {
     "name": "stdout",
     "output_type": "stream",
     "text": [
      "When the economy is booming we have the stock current value of: $23.60\n",
      "\n",
      "When the economy is falling we have the stock current value of: $17.47\n"
     ]
    }
   ],
   "source": [
    "# create a function to determine the current value of DEF stock\n",
    "def ddm(booming = True):\n",
    "    # initialising the original dividend and a variable to determine which time period\n",
    "    d0 = 0.65\n",
    "    t = 1\n",
    "    rate = 1\n",
    "    ror = 0.0735\n",
    "    \n",
    "    # create a while loop for the infinite series of the ddm model\n",
    "    while True:\n",
    "        if (t < 5 and booming): # the condition for when economy is booming and to have growth of 12%\n",
    "            g = 1.12\n",
    "        else:\n",
    "            g = 1.035\n",
    "            \n",
    "        rate *= g\n",
    "\n",
    "        num = d0 * rate # the numerator\n",
    "        den = (1 + ror)**t # the denominator\n",
    "        \n",
    "        if (num / den) < 10e-8: # when the addition of ddm becomes negligable to the current value\n",
    "            break\n",
    "        \n",
    "        t += 1 # incrementing the time period for each loop\n",
    "        yield num / den # returning a lazy iterator to compute an infinite series\n",
    "\n",
    "rise_econ = sum(ddm(booming = True)) # when we have a booming economy\n",
    "fall_econ = sum(ddm(booming = False)) # when we have a falling economy\n",
    "\n",
    "print(\"When the economy is booming we have the stock current value of: ${:.2f}\".format(rise_econ))\n",
    "print(\"\\nWhen the economy is falling we have the stock current value of: ${:.2f}\".format(fall_econ))"
   ]
  },
  {
   "cell_type": "markdown",
   "metadata": {},
   "source": [
    "### Working on question 1f\n",
    "\n",
    "We know the discount dividend model (DDM) to be:\n",
    "\n",
    "\\begin{equation}\n",
    "\\operatorname{P_{\\text{current value of stock}}} = \\sum_{t = 1}^\\infty \\frac{\\operatorname{D_{\\text{t}}}}{\\left(\\text{1} + \\operatorname{r}\\right)^{\\text{t}}}\n",
    "\\end{equation}\n",
    "\n",
    "where $D_t$ is equivalent to $D_0 \\times g^t$. $g$ is the growth the dividend will face.\n",
    "\n",
    "Therefore we need to re-apply this model for the two scenarios given:\n",
    "\n",
    "*Economy is booming*\n",
    "\n",
    "In this case the first 4 time periods will have a growth $g$ of $12$% while than stabilizing at a $3.5$% growth for the remainder. Therefore the current value of company DEF stock will be compute:\n",
    "\n",
    "\\begin{equation}\n",
    "\\operatorname{P_{\\text{booming}}} = \\sum_{t = 1}^{H} \\frac{\\text{0.65} \\times \\text{1.12}^{\\text{t}}}{\\left(\\text{1} + \\text{0.0735}\\right)^{\\text{t}}} + \\sum_{t = 5}^\\infty \\frac{\\text{0.65} \\times g_{t}}{\\left(\\text{1} + \\text{0.0735}\\right)^{\\text{t}}} = \\$\\text{23.60}\n",
    "\\end{equation}\n",
    "\n",
    "where the original value of $g_{t}$ is $1.12^{4}$ and will then be multiplied by $1.035$ for each iteration of $t$, as follows $g_{t} = g_{t} \\times 1.035$\n",
    "\n",
    "\n",
    "*Economy is in recession*\n",
    "\n",
    "In this case the growth is stable at a growth rate $g$ of $3.5$%, which means we will compute the equation shown below:\n",
    "\n",
    "\\begin{equation}\n",
    "\\operatorname{P_{\\text{recession}}} = \\sum_{t = 1}^\\infty \\frac{\\text{0.65} \\times \\text{1.035}^{\\text{t}}}{\\left(\\text{1} + \\text{0.0735}\\right)^{\\text{t}}} = \\$\\text{17.47}\n",
    "\\end{equation}"
   ]
  },
  {
   "cell_type": "markdown",
   "metadata": {},
   "source": [
    "## G"
   ]
  },
  {
   "cell_type": "code",
   "execution_count": 8,
   "metadata": {},
   "outputs": [
    {
     "name": "stdout",
     "output_type": "stream",
     "text": [
      "The sustainable growth rate of company GHI:  0.084\n",
      "\n",
      "The value of the company GHI's stock: $30.77\n",
      "\n",
      "The present value of growth opportunities: 12.59\n"
     ]
    }
   ],
   "source": [
    "# initializing the variables required for the calculations in this question\n",
    "b = 0.6 # plowback ratio\n",
    "eps = 2 # Earnings Per Share\n",
    "roe = 0.14 # return on equity (for company GHI)\n",
    "ror = 0.11 # rate of return\n",
    "\n",
    "# determing the sustainable growth rate g\n",
    "g = roe * b \n",
    "print(\"The sustainable growth rate of company GHI: \", g)\n",
    "\n",
    "# determine thevalue of the company's stock at the beginning of 2022\n",
    "# EPS remains the same\n",
    "por = 1 - b # the payout ratio\n",
    "\n",
    "# we know that the payout ratio also is the ratio of the dividends to the EPS thus we can determine the d_0\n",
    "d_1 = eps * por\n",
    "\n",
    "# we can therefore determine the value of the company stock to be\n",
    "p_0 = d_1 / (ror - g)\n",
    "print(\"\\nThe value of the company GHI's stock: ${:.2f}\".format(p_0))\n",
    "\n",
    "# we can now determine the present value of growth opportunity\n",
    "# use the relationship between stock price and earnings to achieve this result\n",
    "pvgo = p_0 - (eps / ror)\n",
    "print(\"\\nThe present value of growth opportunities: {:.2f}\".format(pvgo))"
   ]
  },
  {
   "cell_type": "markdown",
   "metadata": {},
   "source": [
    "### Working for question 1g\n",
    "\n",
    "**Sustainable Growth Rate [$g$]**\n",
    "\n",
    "To determine the sustainable growth rate we follow the equation below:\n",
    "\n",
    "\\begin{equation}\n",
    "\\operatorname{g} = \\operatorname{b} \\times \\operatorname{ROE}\n",
    "\\end{equation}\n",
    "\n",
    "where $b$ is the plowback ratio\n",
    "\n",
    "We are given both the plowback ratio and the return on equity therefore we can determine the sustainable growth to be\n",
    "\n",
    "\\begin{equation}\n",
    "\\operatorname{g} = \\text{0.6} \\times \\text{0.14} = \\text{0.084}\n",
    "\\end{equation}\n",
    "\n",
    "**The Value of the Company's Stock [$P_{company's stock value}$]**\n",
    "\n",
    "We will be able to determine the value of the company's stock by modelling the value of a business as the value of growing perpetuity:\n",
    "\n",
    "\\begin{equation}\n",
    "\\operatorname{P_{\\text{Company's stock value}}} = \\frac{\\operatorname{D_{\\text{0}}} \\times \\left(\\text{1} + \\operatorname{g}\\right)}{\\operatorname{r} - \\operatorname{g}}\n",
    "\\end{equation}\n",
    "\n",
    "We first need to determine the value for the current dividend $D_0$:\n",
    "\n",
    "\\begin{equation}\n",
    "\\operatorname{D_{\\text{0}}} = \\operatorname{EPS} \\times \\operatorname{Payout ratio}\n",
    "\\end{equation}\n",
    "\n",
    "Furthermore, the payout ratio is known to be $1 - b$, where $b$ is the plowback ratio. Therefore, we know the payout ratio to be $0.4$\n",
    "\n",
    "Thus, the current dividend is:\n",
    "\n",
    "\\begin{equation}\n",
    "\\operatorname{D_{\\text{0}}} = 2 \\times 0.4 = 0.8\n",
    "\\end{equation}\n",
    "\n",
    "To conclude, we can now determine the value of the stock, which will give us:\n",
    "\n",
    "\\begin{equation}\n",
    "\\operatorname{P_{\\text{Company's stock value}}} = \\frac{0.8 \\times \\left(1 + 0.084\\right)}{0.11 \\times 0.084} = \\$33.35\n",
    "\\end{equation}\n",
    "\n",
    "**The Company's Present Value of Growth Opportunities [$PVGO$]**\n",
    "\n",
    "We can utilise the relationship between the stock price and earnings to determine the present value of growth opportunities. This is achieved by re-arranging the above relationship into:\n",
    "\n",
    "\\begin{equation}\n",
    "\\operatorname{PVGO} = \\operatorname{P_{\\text{Company's stock value}}} - \\frac{\\operatorname{EPS}}{\\operatorname{r}}\n",
    "\\end{equation}\n",
    "\n",
    "As we determine the value of the company's stock previously we can determine the $PVGO$ to be:\n",
    "\n",
    "\\begin{equation}\n",
    "\\operatorname{PVGO} = 33.35 - \\frac{2}{0.11} = 15.17\n",
    "\\end{equation}"
   ]
  },
  {
   "cell_type": "markdown",
   "metadata": {},
   "source": [
    "# Question 2"
   ]
  },
  {
   "cell_type": "code",
   "execution_count": 167,
   "metadata": {},
   "outputs": [],
   "source": [
    "# inputs exhibit 1\n",
    "maturities = [1, 2, 3, 4, 5]\n",
    "par_rates = [2.5, 2.99, 3.48, 3.95, 4.37]\n",
    "spot_rates = [2.5, 3.0, 3.5, 4.0, np.nan]\n",
    "curve_data = {'Mat' : maturities,\n",
    "              'Par' : [x / 100 for x in par_rates],\n",
    "              'Spot': [x / 100 for x in spot_rates]\n",
    "             }\n",
    "curve_data = pd.DataFrame.from_dict(curve_data)\n",
    "\n",
    "# inputs exhibit 2\n",
    "bond_names = ['A', 'B', 'C']\n",
    "FV = [1000, 1000, 1000]\n",
    "maturities = [3, 3, 3]\n",
    "coupon = [6.0, 4.4, 4.4]\n",
    "type_bond = ['Vanilla', 'Callable', 'Putable']\n",
    "idx_option = [np.nan, [1, 2], [1, 2]] # years in which bond can be recalled (by issuer or holder)\n",
    "bond_data = {'Name'  : bond_names,\n",
    "             'FV'    : FV,\n",
    "             'Mat'   : maturities,\n",
    "             'Cpn'   : [x / 100 for x in coupon],\n",
    "             'Type'  : type_bond,\n",
    "             'Idx_op': idx_option\n",
    "            }\n",
    "bond_data = pd.DataFrame.from_dict(bond_data)\n",
    "# inputs exhibit 3\n",
    "data_ir = [[2.2500, 3.5930, 4.6470], \n",
    "           [np.nan, 2.9417, 3.8046],\n",
    "           [np.nan, np.nan, 3.1150]]\n",
    "\n",
    "ir_tree = np.array([[i / 100 for i in data_ir[j]] \n",
    "                        for j in range(len(data_ir[1]))])"
   ]
  },
  {
   "cell_type": "code",
   "execution_count": 168,
   "metadata": {},
   "outputs": [
    {
     "name": "stdout",
     "output_type": "stream",
     "text": [
      "\n",
      "Vanilla\n",
      " [[1036.88232314 1009.419295    997.63968389]\n",
      " [          nan 1023.00505583 1005.73577664]\n",
      " [          nan           nan 1012.46181448]]\n",
      "\n",
      "Callable\n",
      " [[1021.02689487 1006.65087597  997.63968389]\n",
      " [          nan 1014.16627081 1005.73577664]\n",
      " [          nan           nan 1012.46181448]]\n",
      "\n",
      "Putable\n",
      " [[1037.43940171 1010.55852067  997.63968389]\n",
      " [          nan 1023.00505583 1005.73577664]\n",
      " [          nan           nan 1012.46181448]]\n"
     ]
    }
   ],
   "source": [
    "def discount_factors(spot_rates, mats):\n",
    "    df = 1 / ((1 + spot_rates)**mats)\n",
    "    return df\n",
    "\n",
    "def spot_rates_calc(df_cumsum, par_value, par_rates, mats):\n",
    "    spot_rate = ((par_value * (1 + par_rates)) / \n",
    "                 (par_value * (1 - par_rates * df_cumsum)))**(1 / mats) - 1\n",
    "    return spot_rate\n",
    "\n",
    "def bond_cashflow(T, par_value, coupon_rate):\n",
    "    cfs = np.zeros(T)\n",
    "    for t in range(T):\n",
    "        if (t < T):\n",
    "            cash_flow = par_value * coupon_rate\n",
    "        if (t == T - 1):\n",
    "            cash_flow = par_value * (1 + coupon_rate)\n",
    "            \n",
    "        cfs[t] = cash_flow\n",
    "        \n",
    "    return cfs"
   ]
  },
  {
   "cell_type": "markdown",
   "metadata": {},
   "source": [
    "## A"
   ]
  },
  {
   "cell_type": "code",
   "execution_count": 169,
   "metadata": {},
   "outputs": [
    {
     "name": "stdout",
     "output_type": "stream",
     "text": [
      "   Mat     Par     Spot        DF\n",
      "0    1  0.0250  0.02500  0.975610\n",
      "1    2  0.0299  0.03000  0.942596\n",
      "2    3  0.0348  0.03500  0.901943\n",
      "3    4  0.0395  0.04000  0.854804\n",
      "4    5  0.0437  0.04453  0.804258\n",
      "\n",
      "Five-year spot rate is 4.45%\n"
     ]
    }
   ],
   "source": [
    "# inputs\n",
    "mat = 5 # chosen maturity (years)\n",
    "par_value = 100\n",
    "\n",
    "# calculate discount factors\n",
    "curve_data['DF'] = discount_factors(curve_data['Spot'].values, curve_data['Mat'].values)\n",
    "curve_data['Cum_DF'] = curve_data['DF'].cumsum()\n",
    "\n",
    "# calculate spot rate for chosen maturity\n",
    "idx = curve_data['Mat'] == mat\n",
    "idx2 = idx.shift(-1)\n",
    "idx2[mat-1] = False\n",
    "curve_data.loc[idx, 'Spot'] = spot_rates_calc(curve_data['Cum_DF'][idx2].values, \n",
    "                                              par_value, \n",
    "                                              curve_data['Par'][idx].values, \n",
    "                                              curve_data['Mat'][idx].values)\n",
    "\n",
    "# recalculate discount factors for all maturities\n",
    "curve_data['DF'] = discount_factors(curve_data['Spot'].values,\n",
    "                                   curve_data['Mat'].values)\n",
    "curve_data.drop(['Cum_DF'], axis = 1, inplace = True) # delete col\n",
    "print(curve_data) # display table\n",
    "\n",
    "print(\"\\nFive-year spot rate is {:.2f}%\".format(curve_data[\"Spot\"][4] * 100))"
   ]
  },
  {
   "cell_type": "markdown",
   "metadata": {},
   "source": [
    "### Working for question 2a\n",
    "\n",
    "\\begin{equation} \n",
    "    100 = \\frac{\\text {4.37\\%}}{\\left(\\text ({1 + 2.5}) \\right)} + \\frac{\\text {4.37\\%}}{\\left(\\text ({1 + 2.99})^2 \\right)} + \\frac{\\text {4.37\\%}}{\\left(\\text ({1 + 3.48})^3 \\right)} + \\frac{\\text {4.37\\%}}{\\left(\\text ({1 + 3.95})^4 \\right)} + \\frac{\\text {4.37\\%}}{\\left(\\text ({1 + X})^5 \\right)}\n",
    "\\end{equation}\n",
    "\n",
    "then we solve for X to find the spot rate. "
   ]
  },
  {
   "cell_type": "markdown",
   "metadata": {},
   "source": [
    "## B"
   ]
  },
  {
   "cell_type": "code",
   "execution_count": 170,
   "metadata": {},
   "outputs": [
    {
     "name": "stdout",
     "output_type": "stream",
     "text": [
      "Forward rate is 5.51%\n"
     ]
    }
   ],
   "source": [
    "# inputs\n",
    "mat1 = 3 # loan maturity\n",
    "mat2 = 4 # loan start, mat2 > mat1\n",
    "\n",
    "# select spot rate for chosen maturities\n",
    "spotrate1 = curve_data.Spot[curve_data.Mat == mat1].values\n",
    "spotrate2 = curve_data.Spot[curve_data.Mat == mat2].values\n",
    "fwd_rate = (((1 + spotrate2)**mat2) / ((1 + spotrate1)**mat1)) - 1\n",
    "\n",
    "print(\"Forward rate is {:.2f}%\".format(fwd_rate[0] *100 ))"
   ]
  },
  {
   "cell_type": "markdown",
   "metadata": {},
   "source": [
    "### Working for question 2b\n",
    "\n",
    "Finding the forward interest rate can be achieved with the following equation\n",
    "\n",
    "\\begin{equation}\n",
    "\\operatorname{R_{\\text{f}}} = \\frac{R_{\\text{2}}T_{\\text{2}} - R_{\\text{1}}T_{\\text{1}}}{T_{\\text{2}} - T_{\\text{1}}}\n",
    "\\end{equation}\n",
    "\n",
    "\n",
    "$R_1$ = zero rate for $T_1$ <br>\n",
    "$R_2$ = zero rate for $T_2$ <br>\n",
    "$R_f$ = forward interest rate for the period between $T_2$ and $T_2$ <br>\n",
    "\n",
    "Since we want the one-year forward rate in three years, we would set $T_1$ = 3 and $T_2$ = 4, and get the appropriate spot rates\n",
    "\n"
   ]
  },
  {
   "cell_type": "markdown",
   "metadata": {},
   "source": [
    "## C"
   ]
  },
  {
   "cell_type": "markdown",
   "metadata": {},
   "source": [
    "* n = 1, n combos = 0\n",
    "* n = 2, n combos = 2  : 2y1y, 1y2y \n",
    "* n = 3, n combos = 6  : 3y1y, 1y3y, 3y2y, 2y3y [...]\n",
    "* n = 4, n combos = 12 : 4y1y, 1y4y, 3y4y, 4y3y, 4y2y, 2y4y [...]\n",
    "\n",
    "<p style = 'text-align: justify;'>Given n consecutive points on spot curve, the number of forward rates is equal to n combos. For one point only, there is no forward rate that can be calculated. For a spot curve with more than two points, the number of forward rate combinations equals the cumulative number of combinations up to (and including) that point. For instance, given spot rates for one-, two-, and three-year zero bonds, 6 forward rates can be calculated: 2y1y and 1y2y are the forward rates that can be already calculated with 2 points (1y, and 2y spot), then with the added 3y point (on the spot curve) we count 4 combinations, making the total $\\text{n combos} = 6$. Extending the curve to 4 points we count 12 forward rate combinations, and we derive the formula: </p>\n",
    "\n",
    "$$ \\text{n combos} = n (n -1) \\quad \\forall n >= 1 $$"
   ]
  },
  {
   "cell_type": "markdown",
   "metadata": {},
   "source": [
    "## D"
   ]
  },
  {
   "cell_type": "code",
   "execution_count": 171,
   "metadata": {},
   "outputs": [
    {
     "name": "stdout",
     "output_type": "stream",
     "text": [
      "Yield to maturity is 6.00%\n"
     ]
    }
   ],
   "source": [
    "# inputs\n",
    "bond_name = 'A' # bond name\n",
    "\n",
    "# bond-specific info\n",
    "idx = (bond_data['Name'] == bond_name)\n",
    "T = bond_data['Mat'][idx].values[0]\n",
    "fv = bond_data['FV'][idx].values[0]\n",
    "cpn = bond_data['Cpn'][idx].values[0]\n",
    "\n",
    "# calculate bond cash flows (T x 1)\n",
    "cashFlows = bond_cashflow(T, fv, cpn) # without initial investment\n",
    "initial_inv = np.array([-bond_data['FV'][idx].values[0]])\n",
    "cashflows = np.concatenate((initial_inv, cashFlows), axis = 0)\n",
    "\n",
    "# find IRR\n",
    "irr = npf.irr(cashflows)\n",
    "print(\"Yield to maturity is {:.2f}%\".format(irr * 100))"
   ]
  },
  {
   "cell_type": "markdown",
   "metadata": {},
   "source": [
    "### Working for question 2d\n",
    "\n",
    "The IRR (Internal Rate of Return) function returns the periodically compounded rate of return that gives a net present value of 0.\n",
    "We would only need to provide a list of all cashflows and since the maturity is 3 years, we would get the cashflows [-1000, 60, 60, 1060].\n",
    "The coupon payment is worth 60 after multiplying the face value with the 6% annual coupon.\n",
    "\n",
    "The equation would look as follows:\n",
    "\n",
    "\\begin{equation}\n",
    "-1000 + \\frac{60}{1 + r} + \\frac{60}{(1 + r)^{\\text{2}}} + \\frac{1060}{(1 + r)^{\\text{3}}} = 0\n",
    "\\end{equation}\n",
    "\n",
    "where r is our yield to maturity\n"
   ]
  },
  {
   "cell_type": "markdown",
   "metadata": {},
   "source": [
    "## E"
   ]
  },
  {
   "cell_type": "code",
   "execution_count": 176,
   "metadata": {},
   "outputs": [
    {
     "name": "stdout",
     "output_type": "stream",
     "text": [
      "\n",
      "Vanilla\n",
      " [[1036.88232314 1009.419295    997.63968389]\n",
      " [          nan 1023.00505583 1005.73577664]\n",
      " [          nan           nan 1012.46181448]]\n",
      "Value of Vanilla bond is 1036.88\n",
      "\n",
      "Callable\n",
      " [[1021.02689487 1006.65087597  997.63968389]\n",
      " [          nan 1014.16627081 1005.73577664]\n",
      " [          nan           nan 1012.46181448]]\n",
      "Value of bond B is 1021.03\n",
      "\n",
      "Putable\n",
      " [[1037.43940171 1010.55852067  997.63968389]\n",
      " [          nan 1023.00505583 1005.73577664]\n",
      " [          nan           nan 1012.46181448]]\n",
      "Value of bond C is 1037.44\n"
     ]
    }
   ],
   "source": [
    "def adjust_bond_type(value, par_value, type = \"Vanilla\"):\n",
    "    if type == \"Callable\":\n",
    "        return min(value, par_value)\n",
    "    elif type == \"Putable\":\n",
    "        return max(value, par_value)\n",
    "    else:\n",
    "        return value\n",
    "\n",
    "def discount_bond_tree(x, y, bond_tree, ir_tree, discounted_tree, type = \"Vanilla\", par_value = 1000, p_up = 0.5, p_down = 0.5):\n",
    "    current_value = bond_tree[x][y] / (1 + ir_tree[x][y])\n",
    "    children_value = 0\n",
    "    if y + 1 < len(bond_tree):\n",
    "        up = discount_bond_tree(x, y + 1, bond_tree, ir_tree, discounted_tree, type)\n",
    "        up = adjust_bond_type(up, par_value, type)\n",
    "        down = discount_bond_tree(x + 1, y + 1, bond_tree, ir_tree, discounted_tree, type)\n",
    "        down = adjust_bond_type(down, par_value, type)\n",
    "        children_value = (p_up * up + p_down * down) / (1 + ir_tree[x][y])\n",
    "    \n",
    "    discounted_tree[x][y] = current_value + children_value\n",
    "    return current_value + children_value\n",
    "\n",
    "def price_bond_tree(bond_name, bond_data, ir_tree, p_up, p_down):\n",
    "    # bond-specific info\n",
    "    idx = (bond_data['Name'] == bond_name)\n",
    "    T = bond_data['Mat'][idx].values[0]\n",
    "    fv = bond_data['FV'][idx].values[0]\n",
    "    cpn = bond_data['Cpn'][idx].values[0]\n",
    "    type_bond = bond_data['Type'][idx].values[0]\n",
    "    idx_op = bond_data['Idx_op'][idx].values[0]\n",
    "    \n",
    "    # initialise tree\n",
    "    bond_tree = np.empty([T, T])\n",
    "    bond_tree[:] = np.nan\n",
    "    \n",
    "    # cashflows\n",
    "    for i in range(0, T):\n",
    "        if (i == T - 1):\n",
    "            bond_tree[:, i] = [fv * (1 + cpn)] * (i + 1)\n",
    "        else:\n",
    "            node_new = [fv * cpn] * (i + 1)\n",
    "            bond_tree[:, i] = np.concatenate((np.array(node_new), [np.nan] * (T - i - 1)))\n",
    "    \n",
    "    # print(\"Cashflows\\n\", bond_tree)\n",
    "    \n",
    "    # # interest rates\n",
    "    # print(\"\\nInterest Rates\\n\", ir_tree)\n",
    "    \n",
    "    # discounted cashflows\n",
    "    discounted_bond_tree = np.empty([T, T])\n",
    "    discounted_bond_tree[:] = np.nan\n",
    "    \n",
    "    # recursive function to discount all cashflows with the current and previous interest rates + sum them\n",
    "    discount_bond_tree(0, 0, bond_tree, ir_tree, discounted_bond_tree, type_bond, fv, p_up, p_down)\n",
    "\n",
    "    return discounted_bond_tree\n",
    "\n",
    "# inputs\n",
    "p_up = 0.5\n",
    "p_down = 0.5\n",
    "\n",
    "# step 1: price a bullet (vanilla/straight) bond with the same characteristics as bonds B and C\n",
    "bond_name = 'B'\n",
    "aux_df = bond_data.copy()\n",
    "aux_df.loc[aux_df.Name == bond_name, 'Type'] = 'Vanilla'\n",
    "aux_df.loc[aux_df.Name == bond_name, 'Idx_op'] = np.nan\n",
    "aux_df = aux_df.loc[aux_df.Name == bond_name, :]\n",
    "vanilla_bond_tree = price_bond_tree(bond_name, aux_df, ir_tree, p_up, p_down)\n",
    "print(\"\\nVanilla\\n\", vanilla_bond_tree)\n",
    "print(\"Value of Vanilla bond is {:.2f}\".format(vanilla_bond_tree[0][0]))\n",
    "\n",
    "# step 2: price callable and putable bonds\n",
    "bond_name = 'B' # bond name\n",
    "b_bond_tree = price_bond_tree(bond_name, bond_data, ir_tree, p_up, p_down)\n",
    "bond_name = 'C' # bond name\n",
    "c_bond_tree = price_bond_tree(bond_name, bond_data, ir_tree, p_up, p_down)\n",
    "\n",
    "print(\"\\nCallable\\n\", b_bond_tree)\n",
    "print(\"Value of bond B is {:.2f}\".format(b_bond_tree[0][0]))\n",
    "print(\"\\nPutable\\n\", c_bond_tree)\n",
    "print(\"Value of bond C is {:.2f}\".format(c_bond_tree[0][0]))"
   ]
  },
  {
   "cell_type": "markdown",
   "metadata": {},
   "source": [
    "### Working for question 2e\n",
    "\n",
    "**Results**\n",
    "\n",
    "Bond B (callable) < Vanilla Bond < Bond C (putable)\n",
    "\n",
    "- The price of a callable bond is always lower than the price of a straight bond, because the call option adds value to the issuer. \n",
    "- The price of a puttable bond is always higher than the price of a straight bond, due to the option premium (put) that the investors pay to the issuer.\n",
    "\n",
    "**Steps**\n",
    "\n",
    "We assume a par value of 1000 USD like in bond A from exhibit 2. The overall method of finding the value of bonds B and C is backward induction methodology where we start from the leafs of the binomial tree and go backwards to the root.\n",
    "\n",
    "The code first sets the interest rates for each tree node taken from exhibit 3.<br>\n",
    "[0.0225, 0.03593, 0.04647]<br>\n",
    "[nan, 0.029417, 0.038046]<br>\n",
    "[nan, nan, 0.03115]<br>\n",
    "\n",
    "Then, we can calculate the bond's cashflows with par value of 1000 and coupon rate of 4.4%.<br>\n",
    "[44, 44, 1044]<br>\n",
    "[nan, 44, 1044]<br>\n",
    "[nan, nan, 1044]<br>\n",
    "\n",
    "The cashflows can then be discounted by the corresponding interest rates and summed together considering the 0.5 interest probability of going up and down. A breakdown of the equations can be see below:<br>\n",
    "\\begin{equation}\n",
    "Suu = \\frac{1000 + 44}{1 + 0.04647}\n",
    "\\end{equation}\n",
    "\\begin{equation}\n",
    "Suu = \\frac{parValue + coupon}{1 + ruu}\n",
    "\\end{equation}\n",
    "\\begin{equation}\n",
    "Sud = \\frac{parValue + coupon}{1 + rud}\n",
    "\\end{equation}\n",
    "\\begin{equation}\n",
    "Sdd = \\frac{parValue + coupon}{1 + rdd}\n",
    "\\end{equation}\n",
    "\\begin{equation}\n",
    "Su = \\frac{pUp * Suu + pDown * Sud + coupon}{1 + ru}\n",
    "\\end{equation}\n",
    "\\begin{equation}\n",
    "Sd = \\frac{pUp * Sud + pDown * Sdd + coupon}{1 + rd}\n",
    "\\end{equation}\n",
    "\\begin{equation}\n",
    "S = \\frac{pUp * Su + pDown * Sd + coupon}{1 + r}\n",
    "\\end{equation}\n",
    "\n",
    "**Callable**\n",
    "\n",
    "Since bond B is callable at the start of year 1 and 2, the issuer can redeem the bond when it is about to exceed the par value (1000 USD). \n",
    "In this case, the issuer can pay off the bond at 1000 and issue a new one at a lower interest rate. Adjusting the algorithm to tak the minimum of the par value and the computed bond price during the backward valuation would meet this additional feature.\n",
    "\n",
    "\\begin{equation}\n",
    "Su = \\frac{pUp * min(Suu, 1000) + pDown * min(Sud, 1000) + coupon}{1 + ru}\n",
    "\\end{equation}\n",
    "\n",
    "Note: the same modifications apply to Sd and S\n",
    "\n",
    "**Putable**\n",
    "\n",
    "Bond C is putable at the start of year 1 and 2, meaning that the investor can redeem the bond at 1000 when the computed bond price is less than 1000 USD. In this case, we will do the opposite of call and take the maximum of the computed bond price and the par value.\n",
    "\n",
    "\\begin{equation}\n",
    "Su = \\frac{pUp * max(Suu, 1000) + pDown * max(Sud, 1000) + coupon}{1 + ru}\n",
    "\\end{equation}\n",
    "\n",
    "Note: the same modifications apply to Sd and S\n",
    "\n"
   ]
  },
  {
   "cell_type": "markdown",
   "metadata": {},
   "source": [
    "## F"
   ]
  },
  {
   "cell_type": "markdown",
   "metadata": {},
   "source": [
    "<p style = 'text-align: justify;'>A fall in interest rates on the vanilla (bullet) bond with the same characteristics as B and C (price=1036.88), causes the bond to appreciate since future cash flows are discounted at at a lower rate (price new > price). \n",
    "\n",
    "<p style = 'text-align: justify;'>Bond B is callable, offering the issuer the option to recall/redeem the bond at a specified price (par in this case) during certain periods before maturity (start of year 1 and year 2). An issuer may choose to recall a bond if it forecasts lower interest rates, so that it can proceed to re-issue the bond at a lower rate. A fall in interest rates makes it more likely for the issuer to redeem a callable bond, which is reflected in the price of the option embedded in the bond (option value = vanilla bond price - callable/putable bond price). When an issuer sells a callable bond, it also sells (writes) a call option: the option writer gets the premium up-front, but has a downside if the option is exercised. In case of a fall in interest rates, the option is more likely to be exercised and its premium (price) increases. The issuer has to offer a discount (relative to the vanilla bond) in order to attract investors. Everything else being equal, the fall in interest rates causes the price of bond B to be wider relative to its vanilla counterpart (which increases in the first place because of a fall in interest rates).\n",
    "\n",
    "<p style = 'text-align: justify;'>Bond C is putable, which means that the bond-holder has the right to demand early repayment of the principal (it protects investors, contrarily to a callable bond which protects the issuer). The price behaviour of puttable bonds is the opposite of that of a callable bond, because the issuer effectively sells (writes) a put option to the investors. In case of a fall in interest rates, it is less likely that the investors sell the bond back to the issuer (before maturity) and do not benefit from the low rates environment. The issuer writes a put and receives the premium, and after the fall in interest rates the price of the put is lower with respect to its initial level. Everything else being equal, the fall in interest rates causes the price of bond C to be closer relative to its vanilla counterpart (which increases in the first place because of a fall in interest rates). </p>"
   ]
  },
  {
   "cell_type": "markdown",
   "metadata": {},
   "source": [
    "## G"
   ]
  },
  {
   "cell_type": "markdown",
   "metadata": {},
   "source": [
    "<p style = 'text-align: justify;'>Because of the optionality embedded in the callable and putable bonds, I analyse the effect of an increase in realised volatility on the option premia (call and put respectively). An increase in realised vol (which translates into higher implied vol) makes the option premia increase equally for puts and calls. When the issuer sells a put to the investor, the price of the putable bond is equal to the vanilla price plus the put premium, thus bond C is most likely to increase in value if interest rate volatility increases. </p>"
   ]
  },
  {
   "cell_type": "markdown",
   "metadata": {},
   "source": [
    "# Question 3"
   ]
  },
  {
   "cell_type": "code",
   "execution_count": 19,
   "metadata": {},
   "outputs": [],
   "source": [
    "def d1(stock, strike, r, sigma, T):\n",
    "    moneyness = m.log(stock / strike)\n",
    "    shift = r + 0.5 * (sigma**2)\n",
    "    d1 = (1 / (sigma * m.sqrt(T)) * (moneyness + shift * T))\n",
    "    return d1\n",
    "    \n",
    "def d2(d1, sigma, T):\n",
    "    d2 = d1 - sigma * m.sqrt(T)\n",
    "    return d2\n",
    "\n",
    "def call_option(d1, d2, stock, strike, r, T):\n",
    "    call = stock * norm.cdf(d1) - m.exp(-r * T) * strike * norm.cdf(d2)\n",
    "    return call \n",
    "\n",
    "def put_option(call_price, S, K, r, T):\n",
    "    put_price = call_price - S + (K * np.exp(-r * T)) # put-call parity\n",
    "    return put_price\n",
    "\n",
    "def num_comb(n, j):\n",
    "    y = m.factorial(n) / (m.factorial(j) * m.factorial(n - j))\n",
    "    return y\n",
    "\n",
    "def binomial_prob(p, n, j):\n",
    "    y = (p**j) * ((1 - p)**(n - j))\n",
    "    return y\n",
    "\n",
    "def stock_price(up, down, n, j, S):\n",
    "    y = ((up**j) * (down**(n-j)) * S)\n",
    "    return y\n",
    "\n",
    "def payoff_call(up, down, n, j, S, K):\n",
    "    y = np.max((stock_price(up, down, n, j, S) - K, 0))\n",
    "    return y\n",
    "\n",
    "def price_option(n, S, K, T, vol, r):\n",
    "    # inputs\n",
    "    time_factor = T / n\n",
    "    up = m.exp(vol * np.sqrt(time_factor)) # up move\n",
    "    down = 1 / up # down move\n",
    "    R = m.exp(r * time_factor) # denominator of discount factor\n",
    "    p = (R - down) / (up - down) # implied probability\n",
    "    \n",
    "    # initialise\n",
    "    partial_prices = np.empty((n, 1))\n",
    "    payoffs = np.empty((n, 1))\n",
    "    stock_prices = np.empty((n, 1))\n",
    "    \n",
    "    # binomial method\n",
    "    for j in range(n):\n",
    "        stock_prices[j] = stock_price(up, down, n, j, S) # stock prices at maturity\n",
    "        payoffs[j] = payoff_call(up, down, n, j, S, K) # payoffs at maturity\n",
    "        partial_prices[j] = num_comb(n, j) * binomial_prob(p, n, j) * payoff_call(up, down, n, j, S, K)\n",
    "    \n",
    "    # call price\n",
    "    call_price = (1 / R) * np.sum(partial_prices) \n",
    "    # put price\n",
    "    put_price = call_price - S + (K * np.exp(-r * T)) # put-call parity\n",
    "\n",
    "    return call_price, put_price, payoffs, stock_prices"
   ]
  },
  {
   "cell_type": "markdown",
   "metadata": {},
   "source": [
    "## A"
   ]
  },
  {
   "cell_type": "markdown",
   "metadata": {},
   "source": [
    "<p style = 'text-align: justify;'>Forward Contracts are usually traded Over The Counter (OTC) and do not have a single delivery date. In most cases they are settled at the end of the contract and delivery usually takes place. There is credit risk as the counterparty may not be able to meet the obligation. \n",
    "\n",
    "<p style = 'text-align: justify;'>In contrast, a future contract is traded on an exchange. There is a wide range of delivery dates, and the contracts can be closed prior to maturity. There is also no credit risk involved because these instruments are traded on an exchange and a clearing house guarantees against default risk by taking both sides of the trade and marking to market their positions every night.</p>"
   ]
  },
  {
   "cell_type": "markdown",
   "metadata": {},
   "source": [
    "## B"
   ]
  },
  {
   "cell_type": "markdown",
   "metadata": {},
   "source": [
    "$T=1y$ ; $F_0=110$\n",
    "\n",
    "$S_0=100 ; r=2%$\n",
    "\n",
    "$F_t=S_t(1+r)-div$\n",
    "\n",
    "$F_t=S_t(1+r(x/365))-div$\n",
    "\n",
    "\n",
    "$F_0=110$  \n",
    "\n",
    "$\\hat{F_0} = 100(1+0.02)=102 (Fair Price)$\n",
    "\n",
    "if $\\hat{F_0} < F_0$ then $F_0$ will decline -> short the future \n",
    "\n",
    "otherwise -> long future\n",
    " \n",
    " Now:\n",
    " - Sell futures contract; \n",
    " - Borrow Stock at risk free rate;\n",
    " - Buy Stock;\n",
    " \n",
    " At time t:\n",
    " - delivery of futureds contract\n",
    " - pay back the loan"
   ]
  },
  {
   "cell_type": "markdown",
   "metadata": {},
   "source": [
    "## C"
   ]
  },
  {
   "cell_type": "markdown",
   "metadata": {},
   "source": [
    "$T=1y$ ; $F_0=95$\n",
    "\n",
    "$S_0=100 ; r=2%$\n",
    "\n",
    "$F_t=S_t(1+r)-div$\n",
    "\n",
    "$F_t=S_t(1+r(x/365))-div$\n",
    "\n",
    "\n",
    "$F_0=95$  \n",
    "\n",
    "$\\hat{F_0} = 100(1+0.02)=102 (Fair Price)$\n",
    "\n",
    "if $\\hat{F_0} > F_0$ then $F_0$ will increase -> long the future\n",
    " \n",
    " Now:\n",
    " - buy futures contract; \n",
    " - short sell stock;\n",
    " - lend the premium collected from short selling at the risk free rate;\n",
    " \n",
    " At time t:\n",
    " - collect interest on loan\n",
    " - take the delivery of the futures contract\n",
    " - return the borrowed stock (from short selling)"
   ]
  },
  {
   "cell_type": "markdown",
   "metadata": {},
   "source": [
    "## D"
   ]
  },
  {
   "cell_type": "code",
   "execution_count": 20,
   "metadata": {},
   "outputs": [
    {
     "data": {
      "text/plain": [
       "4.694615032107006"
      ]
     },
     "execution_count": 20,
     "metadata": {},
     "output_type": "execute_result"
    }
   ],
   "source": [
    "# inputs\n",
    "S = 57.03 # current stock price\n",
    "K = 55 # strike\n",
    "r = 0.22 / 100 # risk-free rate (p.a.)\n",
    "vol = 0.32 # implied vol (p.a.)\n",
    "T = 0.25 # time to expiration (in years)\n",
    "\n",
    "# Black-Scholes price\n",
    "d1_input = d1(S, K, r, vol, T)\n",
    "d2_input = d2(d1_input, vol, T)\n",
    "call_price_BS = call_option(d1_input, d2_input, S, K, r, T)\n",
    "call_price_BS "
   ]
  },
  {
   "cell_type": "markdown",
   "metadata": {},
   "source": [
    "## E"
   ]
  },
  {
   "cell_type": "markdown",
   "metadata": {},
   "source": [
    "To replicate a call consider: \n",
    "    Δc units of Stock\n",
    "    B units of lending \n",
    "    \n",
    "Call = Borrowing B + buying Δ of underlying stock "
   ]
  },
  {
   "cell_type": "markdown",
   "metadata": {},
   "source": [
    "## F"
   ]
  },
  {
   "cell_type": "code",
   "execution_count": 21,
   "metadata": {},
   "outputs": [
    {
     "data": {
      "text/plain": [
       "4.696228989748564"
      ]
     },
     "execution_count": 21,
     "metadata": {},
     "output_type": "execute_result"
    }
   ],
   "source": [
    "# inputs\n",
    "n = 100 # number of periods in the binomial tree (number of terminal values)\n",
    "\n",
    "# binomial formula for a European call/put on non-dividend paying stock n periods from expiration\n",
    "call_price_BN, cut_price_BN, payoffs_BN, stock_prices_BN = price_option(n, S, K, T, vol, r)\n",
    "call_price_BN"
   ]
  },
  {
   "cell_type": "markdown",
   "metadata": {},
   "source": [
    "## G"
   ]
  },
  {
   "cell_type": "code",
   "execution_count": 22,
   "metadata": {},
   "outputs": [
    {
     "data": {
      "image/png": "[encoded data removed]",
      "text/plain": [
       "<Figure size 432x288 with 1 Axes>"
      ]
     },
     "metadata": {
      "needs_background": "light"
     },
     "output_type": "display_data"
    }
   ],
   "source": [
    "# inputs\n",
    "N = 100 # number of steps\n",
    "\n",
    "# calculate option prices using the binomial formula\n",
    "range_N = range(N)\n",
    "prices = np.empty([N, 1])\n",
    "\n",
    "for i in range_N:\n",
    "    ii = i + 1 # n loop\n",
    "    call_price_BN, put_price_BN, payoffs_BN, stock_prices_BN = price_option(ii, S, K, T, vol, r)\n",
    "    prices[i] = call_price_BN\n",
    "\n",
    "# plot    \n",
    "fig, ax = plt.subplots()    \n",
    "ax.plot(range_N, prices)\n",
    "ax.axhline(y = call_price_BS, color = 'r', linestyle = '--')\n",
    "ax.legend(['Binomial', 'Black-Scholes'])\n",
    "plt.xlabel('n')\n",
    "plt.ylabel('Call Price ($)')\n",
    "plt.show()"
   ]
  },
  {
   "cell_type": "markdown",
   "metadata": {},
   "source": [
    "With increasing number of terminal values/steps in the Binomial tree (n), the Binomial price converges to the Black-Scholes price. This is because the binomial tree is in practice a discretisation of the solution in B-S, which is developed in a continous-time framework.  "
   ]
  },
  {
   "cell_type": "markdown",
   "metadata": {},
   "source": [
    "## H"
   ]
  },
  {
   "cell_type": "code",
   "execution_count": 23,
   "metadata": {},
   "outputs": [],
   "source": [
    "def call_payoff (S, K, premium):\n",
    "    return np.where(S > K, S - K, 0) - premium\n",
    "\n",
    "# inputs\n",
    "S = 57.03 # current stock price\n",
    "\n",
    "# long call position\n",
    "higher_strike_price_long_call = 60\n",
    "lower_strike_price_long_call = 50\n",
    "premium_higher_strike_long_call = 5\n",
    "premium_lower_strike_long_call = 10\n",
    "\n",
    "# short call position\n",
    "strike_price_short_call = 55\n",
    "premium_short_call = 7\n",
    "sT = np.arange(10, 100, 1) # range of prices"
   ]
  },
  {
   "cell_type": "code",
   "execution_count": 24,
   "metadata": {},
   "outputs": [
    {
     "data": {
      "image/png": "[encoded data removed]",
      "text/plain": [
       "<Figure size 432x288 with 1 Axes>"
      ]
     },
     "metadata": {
      "needs_background": "light"
     },
     "output_type": "display_data"
    }
   ],
   "source": [
    "# long call lower strike\n",
    "lower_strike_long_call_payoff = call_payoff(sT, lower_strike_price_long_call, premium_lower_strike_long_call)\n",
    "\n",
    "# long call higher strike\n",
    "higher_strike_long_call_payoff = call_payoff(sT, higher_strike_price_long_call, premium_higher_strike_long_call)\n",
    "\n",
    "# short call \n",
    "short_call_payoff = call_payoff(sT, strike_price_short_call, premium_short_call) * -1\n",
    "\n",
    "# calculate strategy payoff\n",
    "butterfly_spread_payoff = lower_strike_long_call_payoff + higher_strike_long_call_payoff + (2 * short_call_payoff)\n",
    "\n",
    "# plot strategy payoff\n",
    "fig, ax = plt.subplots()\n",
    "ax.plot(sT, butterfly_spread_payoff , color = 'b', label = 'Butterfly Spread')\n",
    "ax.plot(sT, lower_strike_long_call_payoff, '--', color = 'g', label = '50 Strike Long Call')\n",
    "ax.plot(sT, higher_strike_long_call_payoff, '--', color = 'g', label = '60 Strike Long Call')\n",
    "ax.plot(sT, short_call_payoff, '--', color='r', label = '55 Strike Short call')\n",
    "plt.legend()\n",
    "plt.xlabel('Stock Price ($)')\n",
    "plt.ylabel('Profit & Loss ($)')\n",
    "plt.show()"
   ]
  },
  {
   "cell_type": "markdown",
   "metadata": {},
   "source": [
    "## I"
   ]
  },
  {
   "cell_type": "markdown",
   "metadata": {},
   "source": [
    "Investors can enter this strategy if they believe that the stock price will stay in between K1 and K3. The profit is maximized when the stock price lies in the middle of these two strike prices at expiry. Therefore in a low volatility environment this strategy can yield nice short term returns for investors. "
   ]
  },
  {
   "cell_type": "markdown",
   "metadata": {},
   "source": [
    "# Question 4"
   ]
  },
  {
   "cell_type": "markdown",
   "metadata": {},
   "source": [
    "## A"
   ]
  },
  {
   "cell_type": "code",
   "execution_count": 25,
   "metadata": {},
   "outputs": [
    {
     "data": {
      "text/html": [
       "<div>\n",
       "<style scoped>\n",
       "    .dataframe tbody tr th:only-of-type {\n",
       "        vertical-align: middle;\n",
       "    }\n",
       "\n",
       "    .dataframe tbody tr th {\n",
       "        vertical-align: top;\n",
       "    }\n",
       "\n",
       "    .dataframe thead th {\n",
       "        text-align: right;\n",
       "    }\n",
       "</style>\n",
       "<table border=\"1\" class=\"dataframe\">\n",
       "  <thead>\n",
       "    <tr style=\"text-align: right;\">\n",
       "      <th></th>\n",
       "      <th>AAPL</th>\n",
       "      <th>AMZN</th>\n",
       "      <th>FB</th>\n",
       "      <th>GOOG</th>\n",
       "    </tr>\n",
       "    <tr>\n",
       "      <th>Date</th>\n",
       "      <th></th>\n",
       "      <th></th>\n",
       "      <th></th>\n",
       "      <th></th>\n",
       "    </tr>\n",
       "  </thead>\n",
       "  <tbody>\n",
       "    <tr>\n",
       "      <th>2017-01-04</th>\n",
       "      <td>-0.001119</td>\n",
       "      <td>0.004657</td>\n",
       "      <td>0.015660</td>\n",
       "      <td>0.000967</td>\n",
       "    </tr>\n",
       "    <tr>\n",
       "      <th>2017-01-05</th>\n",
       "      <td>0.005085</td>\n",
       "      <td>0.030732</td>\n",
       "      <td>0.016682</td>\n",
       "      <td>0.009048</td>\n",
       "    </tr>\n",
       "    <tr>\n",
       "      <th>2017-01-06</th>\n",
       "      <td>0.011148</td>\n",
       "      <td>0.019912</td>\n",
       "      <td>0.022707</td>\n",
       "      <td>0.015277</td>\n",
       "    </tr>\n",
       "    <tr>\n",
       "      <th>2017-01-09</th>\n",
       "      <td>0.009160</td>\n",
       "      <td>0.001168</td>\n",
       "      <td>0.012074</td>\n",
       "      <td>0.000620</td>\n",
       "    </tr>\n",
       "    <tr>\n",
       "      <th>2017-01-10</th>\n",
       "      <td>0.001009</td>\n",
       "      <td>-0.001280</td>\n",
       "      <td>-0.004404</td>\n",
       "      <td>-0.002306</td>\n",
       "    </tr>\n",
       "  </tbody>\n",
       "</table>\n",
       "</div>"
      ],
      "text/plain": [
       "                AAPL      AMZN        FB      GOOG\n",
       "Date                                              \n",
       "2017-01-04 -0.001119  0.004657  0.015660  0.000967\n",
       "2017-01-05  0.005085  0.030732  0.016682  0.009048\n",
       "2017-01-06  0.011148  0.019912  0.022707  0.015277\n",
       "2017-01-09  0.009160  0.001168  0.012074  0.000620\n",
       "2017-01-10  0.001009 -0.001280 -0.004404 -0.002306"
      ]
     },
     "execution_count": 25,
     "metadata": {},
     "output_type": "execute_result"
    }
   ],
   "source": [
    "# inputs\n",
    "tickers = ['GOOG', 'AAPL', 'AMZN', 'FB']\n",
    "start_date = '2017-01-01'\n",
    "end_date = '2020-12-31'\n",
    "freq = '1d' # daily\n",
    "\n",
    "# download data using yahoo finance API\n",
    "data_df = yf.download(tickers, \n",
    "                      start = start_date,\n",
    "                      end = end_date,\n",
    "                      interval = freq,\n",
    "                      progress = False,\n",
    "                      auto_adjust = True)\n",
    "\n",
    "# calculate arithmetic (simple) returns on closing end-of-day prices\n",
    "simple_return = ((data_df.Close / data_df.Close.shift(1)) - 1) \n",
    "simple_return = simple_return.iloc[1:, :].dropna() # delete nans\n",
    "\n",
    "# calculate cumulative returns\n",
    "cum_ret = simple_return.apply(lambda x : (x+1).cumprod()) -1\n",
    "simple_return.head()"
   ]
  },
  {
   "cell_type": "markdown",
   "metadata": {},
   "source": [
    "## B"
   ]
  },
  {
   "cell_type": "code",
   "execution_count": 26,
   "metadata": {},
   "outputs": [
    {
     "data": {
      "text/html": [
       "<div>\n",
       "<style scoped>\n",
       "    .dataframe tbody tr th:only-of-type {\n",
       "        vertical-align: middle;\n",
       "    }\n",
       "\n",
       "    .dataframe tbody tr th {\n",
       "        vertical-align: top;\n",
       "    }\n",
       "\n",
       "    .dataframe thead th {\n",
       "        text-align: right;\n",
       "    }\n",
       "</style>\n",
       "<table border=\"1\" class=\"dataframe\">\n",
       "  <thead>\n",
       "    <tr style=\"text-align: right;\">\n",
       "      <th></th>\n",
       "      <th>GOOG</th>\n",
       "      <th>AAPL</th>\n",
       "      <th>AMZN</th>\n",
       "      <th>FB</th>\n",
       "    </tr>\n",
       "  </thead>\n",
       "  <tbody>\n",
       "    <tr>\n",
       "      <th>GOOG</th>\n",
       "      <td>0.000398</td>\n",
       "      <td>0.000246</td>\n",
       "      <td>0.000263</td>\n",
       "      <td>0.000237</td>\n",
       "    </tr>\n",
       "    <tr>\n",
       "      <th>AAPL</th>\n",
       "      <td>0.000246</td>\n",
       "      <td>0.000372</td>\n",
       "      <td>0.000261</td>\n",
       "      <td>0.000230</td>\n",
       "    </tr>\n",
       "    <tr>\n",
       "      <th>AMZN</th>\n",
       "      <td>0.000263</td>\n",
       "      <td>0.000261</td>\n",
       "      <td>0.000459</td>\n",
       "      <td>0.000263</td>\n",
       "    </tr>\n",
       "    <tr>\n",
       "      <th>FB</th>\n",
       "      <td>0.000237</td>\n",
       "      <td>0.000230</td>\n",
       "      <td>0.000263</td>\n",
       "      <td>0.000306</td>\n",
       "    </tr>\n",
       "  </tbody>\n",
       "</table>\n",
       "</div>"
      ],
      "text/plain": [
       "          GOOG      AAPL      AMZN        FB\n",
       "GOOG  0.000398  0.000246  0.000263  0.000237\n",
       "AAPL  0.000246  0.000372  0.000261  0.000230\n",
       "AMZN  0.000263  0.000261  0.000459  0.000263\n",
       "FB    0.000237  0.000230  0.000263  0.000306"
      ]
     },
     "execution_count": 26,
     "metadata": {},
     "output_type": "execute_result"
    }
   ],
   "source": [
    "# calculate sample covariance\n",
    "cov_matrix = np.cov(simple_return.T, bias = True)\n",
    "\n",
    "# structure dataframe\n",
    "cov_matrix_aux = pd.DataFrame(data = cov_matrix,\n",
    "                             columns = tickers,\n",
    "                             index = tickers)\n",
    "cov_matrix_aux"
   ]
  },
  {
   "cell_type": "markdown",
   "metadata": {},
   "source": [
    "## C"
   ]
  },
  {
   "cell_type": "code",
   "execution_count": 41,
   "metadata": {},
   "outputs": [
    {
     "name": "stdout",
     "output_type": "stream",
     "text": [
      "Portfolio Annualised Return 34.74%\n"
     ]
    }
   ],
   "source": [
    "# calculate weights\n",
    "n = simple_return.shape[1]\n",
    "weights = [1 / n] * n\n",
    "\n",
    "# number of business days in a year in the US\n",
    "ndays = 252 \n",
    "\n",
    "# Return part\n",
    "total_returns = (1 + simple_return).prod()\n",
    "\n",
    "# All trading days over the past 4 years\n",
    "N = len(simple_return)\n",
    "\n",
    "# annualise return values\n",
    "annualised_return = total_returns ** (ndays / N) - 1\n",
    "\n",
    "# weighted returns\n",
    "weighted_annualised_return = annualised_return * weights\n",
    "final_annualised_return = sum(weighted_annualised_return)\n",
    "\n",
    "print(\"Portfolio Annualised Return {:.2f}%\".format(final_annualised_return * 100)) # in %"
   ]
  },
  {
   "cell_type": "code",
   "execution_count": 46,
   "metadata": {},
   "outputs": [
    {
     "name": "stdout",
     "output_type": "stream",
     "text": [
      "Portfolio Annualised Variance (with cov() from np) 0.07141902224626975\n",
      "Portfolio Annualised Variance (with cov() from pandas) 0.07149015673057879\n"
     ]
    }
   ],
   "source": [
    "# Portfolio variance\n",
    "w_aux = np.matmul(weights, cov_matrix * ndays) # if it was volatility we would have done * np.sqrt(ndays)\n",
    "portfolio_variance = np.matmul(w_aux, weights)\n",
    "portfolio_variance_annual = portfolio_variance\n",
    "print(\"Portfolio Annualised Variance (with cov() from np)\", portfolio_variance_annual)\n",
    "\n",
    "# Pandas rounds the cov values sooner than np\n",
    "portfolio_variance_annual2 = np.dot(weights, np.dot(simple_return.cov() * ndays, weights))\n",
    "print(\"Portfolio Annualised Variance (with cov() from pandas)\", portfolio_variance_annual2)"
   ]
  },
  {
   "cell_type": "markdown",
   "metadata": {},
   "source": [
    "### Working for question 4c\n",
    "\n",
    "**Annualised Portfolio Return**<br>\n",
    "The Annualised Portfolio Return formula is as follows:<br>\n",
    "\n",
    "\\begin{equation}\n",
    "\\operatorname{Annualised Return} =  (TotalReturn)^\\frac{252}{N} - 1\n",
    "\\end{equation}\n",
    "\n",
    "\\begin{equation}\n",
    "\\operatorname{Total Return} = \\prod_{n = 1}^\\N (1 + Return(n))\n",
    "\\end{equation}\n",
    "\n",
    "where Return is the set of simple returns, N is the total number of trading days, and 252 is the trading days per year.<br>\n",
    "N can also be interpreted as the total period the investment was held.\n",
    "To find the final answer, we multiply the resulting annualised return of each company by its weight and sum everything together.\n",
    "\n",
    "**Portfolio Variance**<br>\n",
    "Finding the Portfolio Variance can be achieved with:<br>\n",
    "$Var_p = w' \\Sigma w = \\sum_{i = 1}^{N} w_{i} w_{j} cov(i, j)$ with $i \\neq j$ s.t. $\\Sigma$ (NxN) covariance matrix\n",
    "\n",
    "We have also calculated that over the 4 years, the number of trading days average at 252 <br>\n",
    "2017 had 251 days, 2018 had 252 days, 2019 had 252 days, 2020 had 253 days"
   ]
  },
  {
   "cell_type": "markdown",
   "metadata": {},
   "source": [
    "## D"
   ]
  },
  {
   "cell_type": "code",
   "execution_count": 29,
   "metadata": {},
   "outputs": [],
   "source": [
    "# inputs\n",
    "rf = 0.01 # zero risk-free rate (p.a.)\n",
    "N_sim = 1000\n",
    "\n",
    "# estimate asset moments\n",
    "means = np.mean(simple_return, axis = 0)\n",
    "\n",
    "# structure dataframe\n",
    "means_aux = pd.DataFrame(data = means)\n",
    "\n",
    "# initialise\n",
    "mean_variance_pairs = []\n",
    "weights_list = [] \n",
    "tickers_list = []\n",
    "\n",
    "# calculate efficient frontier\n",
    "for i in range(N_sim): # simulations\n",
    "    next_i = False\n",
    "    while True:\n",
    "        # draw assets randomly without replacement\n",
    "        assets = np.random.choice(tickers, n, replace = False)\n",
    "        \n",
    "        # draw random weights\n",
    "        weights = np.random.rand(n)\n",
    "        weights = weights / sum(weights)\n",
    "        \n",
    "        # loop over asset pairs and compute portfolio moments\n",
    "        portfolio_e_variance = 0\n",
    "        portfolio_e_return = 0\n",
    "        \n",
    "        for i in range(len(assets)):\n",
    "            portfolio_e_return += weights[i] * means_aux.loc[assets[i]][0]\n",
    "            \n",
    "            for j in range(len(assets)):\n",
    "                portfolio_e_variance += weights[i] * weights[j] * cov_matrix_aux.loc[assets[i], assets[j]]\n",
    "        \n",
    "        # delete dominated portfolios (portfolios with ret < avg ret and/or with var > avg var)\n",
    "        for R, V in mean_variance_pairs:\n",
    "            if (R > portfolio_e_return) & (V < portfolio_e_variance): # not dominated\n",
    "                next_i = True\n",
    "                break\n",
    "        \n",
    "        # exit loop condition        \n",
    "        if next_i:\n",
    "            break\n",
    "        \n",
    "        # append mean/variance pairs\n",
    "        mean_variance_pairs.append([portfolio_e_return, portfolio_e_variance])\n",
    "        \n",
    "        # append weights\n",
    "        weights_list.append(weights)\n",
    "        \n",
    "        # append asset list\n",
    "        tickers_list.append(assets)\n",
    "        break\n",
    "\n",
    "# structure dataframes\n",
    "mean_variance_pairs_aux = pd.DataFrame(data = mean_variance_pairs,\n",
    "                                       columns = ['mean', 'var'])\n",
    "\n",
    "weights_aux = pd.DataFrame(data = weights_list,\n",
    "                                       columns = tickers)\n",
    "\n",
    "# calculate max sharpe ratio (from daily estimates)\n",
    "mean_variance_pairs_aux['SR'] = (mean_variance_pairs_aux['mean'] - (rf / ndays)) / mean_variance_pairs_aux['var'] \n",
    "max_SR = np.max(mean_variance_pairs_aux['SR'])\n",
    "idx_opt = (mean_variance_pairs_aux['SR'] == max_SR).values"
   ]
  },
  {
   "cell_type": "code",
   "execution_count": 30,
   "metadata": {},
   "outputs": [
    {
     "data": {
      "text/html": [
       "<div>\n",
       "<style scoped>\n",
       "    .dataframe tbody tr th:only-of-type {\n",
       "        vertical-align: middle;\n",
       "    }\n",
       "\n",
       "    .dataframe tbody tr th {\n",
       "        vertical-align: top;\n",
       "    }\n",
       "\n",
       "    .dataframe thead th {\n",
       "        text-align: right;\n",
       "    }\n",
       "</style>\n",
       "<table border=\"1\" class=\"dataframe\">\n",
       "  <thead>\n",
       "    <tr style=\"text-align: right;\">\n",
       "      <th></th>\n",
       "      <th>GOOG</th>\n",
       "      <th>AAPL</th>\n",
       "      <th>AMZN</th>\n",
       "      <th>FB</th>\n",
       "    </tr>\n",
       "  </thead>\n",
       "  <tbody>\n",
       "    <tr>\n",
       "      <th>80</th>\n",
       "      <td>0.266093</td>\n",
       "      <td>0.148581</td>\n",
       "      <td>0.009258</td>\n",
       "      <td>0.576069</td>\n",
       "    </tr>\n",
       "  </tbody>\n",
       "</table>\n",
       "</div>"
      ],
      "text/plain": [
       "        GOOG      AAPL      AMZN        FB\n",
       "80  0.266093  0.148581  0.009258  0.576069"
      ]
     },
     "execution_count": 30,
     "metadata": {},
     "output_type": "execute_result"
    }
   ],
   "source": [
    "weights_aux[idx_opt]"
   ]
  },
  {
   "cell_type": "code",
   "execution_count": 31,
   "metadata": {},
   "outputs": [
    {
     "data": {
      "text/plain": [
       "5.170062157151543"
      ]
     },
     "execution_count": 31,
     "metadata": {},
     "output_type": "execute_result"
    }
   ],
   "source": [
    "max_SR # based on daily figures (means, vars)"
   ]
  },
  {
   "cell_type": "markdown",
   "metadata": {},
   "source": [
    "## E"
   ]
  },
  {
   "cell_type": "code",
   "execution_count": 32,
   "metadata": {},
   "outputs": [
    {
     "data": {
      "image/png": "[encoded data removed]",
      "text/plain": [
       "<Figure size 432x288 with 2 Axes>"
      ]
     },
     "metadata": {
      "needs_background": "light"
     },
     "output_type": "display_data"
    }
   ],
   "source": [
    "# # annualise values\n",
    "mean_variance_pairs_aux['mean'] = mean_variance_pairs_aux['mean'] * ndays\n",
    "mean_variance_pairs_aux['var'] = mean_variance_pairs_aux['var'] * np.sqrt(ndays)\n",
    "\n",
    "# create plot\n",
    "ax = mean_variance_pairs_aux.plot.scatter(x = 'var',\n",
    "                                          y = 'mean',\n",
    "                                          c = 'SR',\n",
    "                                          title = 'Efficient Frontier',\n",
    "                                          sharex = False)\n",
    "plt.xlabel('Annualised Variance')\n",
    "plt.ylabel('Annualised Return')\n",
    "plt.show()\n",
    "# note: shades of grey represent portfolio sharpe ratios"
   ]
  },
  {
   "cell_type": "markdown",
   "metadata": {},
   "source": [
    "## F"
   ]
  },
  {
   "cell_type": "markdown",
   "metadata": {},
   "source": [
    "The current portfolio consists of four US tech stocks which means the portfolio is cyclical. The portfolio includes only largely capitalised companies.\n",
    "\n",
    "To improve the portfolio diversification, the following should be considered: \n",
    "-\tEquities unrelated to the economic cycle, examples of non-cyclical stocks are Coca Cola, Walmart, Mc Donalds. Tech stocks perform poorly in high interest rate environments because they are valued using discounted cash flow models. Higher interest rates result in a lower value of the future cashflows of these companies which means that their valuations will decrease and hence the performance of the whole portfolio will suffer. \n",
    "-\tEmerging market equities including far east in order to diversify the geographical locations of the stocks in the portfolio. \n",
    "-\tAdd stocks with lower market capitalizations. Usually those stocks have higher risk return profiles. By merging small and big caps stocks in a portfolio, you are including stocks with different risk profiles hence the portfolio is being diversified. \n",
    "-\tInclude different asset classes such as bonds, options, mutual funds, indexes, and commodities. This will help to diversify the portfolio on an asset class level and this is the most effective diversification for a portfolio. \n"
   ]
  },
  {
   "cell_type": "markdown",
   "metadata": {},
   "source": [
    "# Question 5"
   ]
  },
  {
   "cell_type": "code",
   "execution_count": 33,
   "metadata": {},
   "outputs": [],
   "source": [
    "import datetime\n",
    "\n",
    "# Read the correct xlsx sheet and skip the first two rows\n",
    "data = pd.read_excel(\"2015-vbt-smoker-distinct-alb-anb.xlsx\", sheet_name=\"2015 FSM ANB\", skiprows=2)\n",
    "\n",
    "# Set the index to the age for easier indexing\n",
    "data = data.set_index(\"Iss. Age\")\n",
    "\n",
    "# Drop Att. Age as it won't be needed in the calculations\n",
    "data = data.drop(columns=[\"Att. Age\"])\n",
    "\n",
    "# Divide the data by 1000 to get it for a single person. We can iterate over all columns because the Iss. Age is already in the index and Att. Age was removed\n",
    "for col in data.columns:\n",
    "    data[col] /= 1000\n",
    " \n",
    "# 26th period (Ultimate) is treated differently\n",
    "TOTAL_PERIODS = data.shape[1] - 1\n",
    "TOTAL_AGE = data.shape[0] - 1 + data.index.min()\n",
    "\n",
    "# Calculate Alice's age\n",
    "today =  datetime.datetime(2022, 3, 13)\n",
    "born = datetime.datetime(1983, 10, 28)\n",
    "age = today.year - born.year - ((today.month, today.day) < (born.month, born.day))"
   ]
  },
  {
   "cell_type": "markdown",
   "metadata": {},
   "source": [
    "2015 Valuation Basic Table (VBT) includes the mortality evaluation of male / female, smoker / nonsmoker and age-nearest birthday (ANB) / age-last birthday (ALB).\n",
    "Since Alice is born on 28th October 1983 and today's date is 13th March 2022, she classifies as 38 years old according to the ANB.\n",
    "She is also a female smoker which concludes that her mortality rate will be taken for Iss. Age 38 from the 2015 FSM ANB sheet.\n",
    "The mortality rates are presented per 1000 meaning that we need to divide the data by 1000 to get the % mortality per person.\n",
    "\n"
   ]
  },
  {
   "attachments": {
    "Q5.png": {
     "image/png": "[encoded data removed]"
    }
   },
   "cell_type": "markdown",
   "metadata": {},
   "source": [
    "![Q5.png](attachment:Q5.png)"
   ]
  },
  {
   "cell_type": "markdown",
   "metadata": {},
   "source": [
    "## A"
   ]
  },
  {
   "cell_type": "code",
   "execution_count": 34,
   "metadata": {},
   "outputs": [
    {
     "name": "stdout",
     "output_type": "stream",
     "text": [
      "Survival Rate to Age 38 is 1\n",
      "Survival Rate to Age 39 is 0.99963\n",
      "Survival Rate to Age 40 is 0.9991001961\n",
      "Survival Rate to Age 41 is 0.998380843958808\n",
      "Survival Rate to Age 42 is 0.9975022688161242\n"
     ]
    }
   ],
   "source": [
    "# Survival Rate from age_current to age_survive (not by the end of age_survive)\n",
    "def survival_rate(data, age_current, age_survive, do_print = False):\n",
    "    duration = age_survive - age_current\n",
    "    npx = 1.0\n",
    "    \n",
    "    # Multiply all survival rates to indicate that all of them are occurring (survive the full 38, 39, 40 and 41 = survive from 38 to 42)\n",
    "    for i in range(duration + 1):\n",
    "        npx = survival_rate_shift(data, npx, age_current, i)\n",
    "        if (do_print):\n",
    "            print(\"Survival Rate to Age \" + str(age_current+i) + \" is \" + str(npx))\n",
    "        \n",
    "    return npx\n",
    "\n",
    "# Survival Rate from age to age + duration. The code was separated into a function for reusability purposes because survavial_rate() is inefficient\n",
    "def survival_rate_shift(data, npx, age, duration):\n",
    "    if duration <= 0:\n",
    "        return 1\n",
    "    else:\n",
    "        # Decrease the duration by one because npx takes 1 - n-1qx. Only doing these increase and decrease because I'm using the functions on their own somewhere else.\n",
    "        return npx * (1 - mortality_rate(data, age, duration - 1))\n",
    "\n",
    "# Mortality rate taken from the xlsx file\n",
    "def mortality_rate(data, age, duration):\n",
    "    if duration < 0:\n",
    "        return 0\n",
    "    \n",
    "    # Increase by one because the n|qx in the xlsx equals duration of n + 1; 0|qx is duration 0 + 1\n",
    "    duration += 1\n",
    "        \n",
    "    if (duration >= TOTAL_PERIODS):\n",
    "        # We go down the ultimate column when the maximum periods in the row are reached. Note that we also want the Ult for the current age\n",
    "        return data[\"Ult.\"][age + duration - (TOTAL_PERIODS + 1)]\n",
    "    else:\n",
    "        return data[duration][age]\n",
    "\n",
    "sr = survival_rate(data, age, 42, True)"
   ]
  },
  {
   "cell_type": "markdown",
   "metadata": {},
   "source": [
    "### Working for question 5a\n",
    "\n",
    "The unconditional survival rate npx represents the probability that a person aged x is alive at the end of the nth year. If someone is aged x, he will survive to age $x+n+1$. In our case, we would want Alice to survive to age 42 which will be equivalent to $_{3}$ $p_{38}$ (i.e. alive at the end of $3 + 38 = 41$ or survive to age $3 + 38 + 1 = 42$)\n",
    "\n",
    "The equation is as follows:\n",
    "\n",
    "\n",
    "$$ _{n}p_{x} =\\begin{equation}\n",
    "\\left\\{ \n",
    "  \\begin{aligned}\n",
    "    1,& &\\text{n}\\leq{0}\\\\\n",
    "    \\prod_{m=0}^{n-1}\\,\\left(1 - _{m|}q_{x}\\right),&   &\\text{n}\\geq{1}\\\\   \n",
    "  \\end{aligned}\n",
    "  \\right.\n",
    "\\end{equation}\n",
    "$$\n",
    "\n",
    "where\n",
    "\n",
    "$_{n-1|}q_{x}$ is the probability that a person is dead at the end of the nth year given that he is alive at the end of $(n-1)^{th}$ year:\n",
    "- $_{0|}q_{38} =$ Alice dies by the end of 39$^{\\text{th}}$ age, given she survived 38$^{\\text{th}}$ age!\n",
    "- $_{1|}q_{38} =$ Alice dies by the end of 40$^{\\text{th}}$ age, given she survived 39$^{\\text{th}}$ age!\n",
    "\n",
    "\n",
    "$1 - _{n-1|}q_{x}$ is the probability that a person is alive at the end of the nth year, given that he survived at the end of (n-1)th year:\n",
    "- $1 - _{0|}q_{38} =$ Alice survives by the end of 39$^{\\text{th}}$ age, given she survived 38$^{\\text{th}}$ age!\n",
    "- $1 - _{1|}q_{38} =$ Alice survives by the end of 40$^{\\text{th}}$ age, given she survived 39$^{\\text{th}}$ age!\n",
    "\n",
    "\n",
    "\n",
    "Note that multiplying these two probabilities is equivalent to both of them occurring.\n",
    "\n",
    "Therefore,\n",
    "\n",
    "$$ \\begin{equation}\n",
    "\\left(1 - _{0|}q_{38}\\right)\\left(1 - _{1|}q_{38}\\right)\\left(1 - _{2|}q_{38}\\right)\\left(1 - _{3|}q_{38}\\right)\n",
    "\\end{equation}\n",
    "$$"
   ]
  },
  {
   "attachments": {
    "q6a.png": {
     "image/png": "[encoded data removed]"
    }
   },
   "cell_type": "markdown",
   "metadata": {},
   "source": [
    "![q6a.png](attachment:q6a.png)"
   ]
  },
  {
   "cell_type": "markdown",
   "metadata": {},
   "source": [
    "will give us the probability that Alice lives from 38 to at least 42."
   ]
  },
  {
   "cell_type": "markdown",
   "metadata": {},
   "source": [
    "## B"
   ]
  },
  {
   "cell_type": "code",
   "execution_count": 35,
   "metadata": {},
   "outputs": [
    {
     "name": "stdout",
     "output_type": "stream",
     "text": [
      "Person is expected to live 42.9 more years\n"
     ]
    }
   ],
   "source": [
    "# Remaining life Expectancy from given age\n",
    "def life_expectancy(data, age):\n",
    "    life_expectancy = 0\n",
    "    rate = 1\n",
    "    # Iterate over all periods and all Ultimate values. We have +1 because the iteration stops before the last value\n",
    "    # Other solution would be to iterate while the survival_rate is higher than a certain threshold like 0.00001\n",
    "    # +1 because the loop finished 1 value earlier and +1 because we want to consider the Ult value for the current age as well\n",
    "    for i in range(1, TOTAL_PERIODS + TOTAL_AGE - age + 2):\n",
    "        rate = survival_rate_shift(data, rate, age, i)\n",
    "        life_expectancy += rate\n",
    "        \n",
    "    # Add 0.5 to give on average that people could life half of their last year\n",
    "    return (life_expectancy + 0.5)\n",
    "\n",
    "print(\"Person is expected to live {:.1f} more years\".format(life_expectancy(data, 38)))"
   ]
  },
  {
   "cell_type": "markdown",
   "metadata": {},
   "source": [
    "### Working for question 5b\n",
    "\n",
    "The life expectancy of a person aged x is the expected future lifetime given survival to age x, which is shown below [1]\n",
    "\n",
    "$$\n",
    "\\begin{equation}\n",
    "LE = E[\\text{Lifetime}(x)] = \\sum_{n = 0}^\\infty n \\times \\left( _{n}p_{x}\\right) \\times q_{x+n}\n",
    "\\end{equation}\n",
    "$$\n",
    "\n",
    "where \n",
    "- $n =$ years lived\n",
    "- $q_{x + n} =$ probability of living these years\n",
    "\n",
    "If we substitute $q_{x + n} = \\left( _{n}p_{x}\\right) - \\left( _{n+1}p_{x}\\right)$ and simplify we get:\n",
    "\n",
    "$$\n",
    "\\begin{equation}\n",
    "LE = \\sum_{n = 1}^\\infty \\left( _{n}p_{x}\\right)\n",
    "\\end{equation}\n",
    "$$\n",
    "\n",
    "If we assume that on average people live half year in their last year, we can add 0.5 to the equation\n",
    "\n",
    "$$\n",
    "\\begin{equation}\n",
    "LE = \\sum_{n = 1}^\\infty \\left( _{n}p_{x}\\right) + 0.5\n",
    "\\end{equation}\n",
    "$$\n",
    "\n",
    "Note that this is equivalent to the equation in the lecture slides because this one starts from $n=1$ and adds 0.5, whereas the other starts from $n=0$ and subtracts 0.5.\n",
    "As we increase the surviving years (e.g. survives $38, 39,…, 50,…, 100,… \\infty$), the survival rate will start approaching 0\n",
    "\n",
    "$$\n",
    "\\begin{equation}\n",
    "\\lim_{n \\rightarrow \\infty} \\left( _{n}p_{x}\\right) = 0\n",
    "\\end{equation}\n",
    "$$\n",
    "\n",
    "Therefore, summing all the survival rates will converge to a certain number."
   ]
  },
  {
   "cell_type": "markdown",
   "metadata": {},
   "source": [
    "## C"
   ]
  },
  {
   "cell_type": "code",
   "execution_count": 36,
   "metadata": {},
   "outputs": [
    {
     "name": "stdout",
     "output_type": "stream",
     "text": [
      "Probability of death between year 6 and 9 is 0.00227\n"
     ]
    }
   ],
   "source": [
    "# Death between certain years\n",
    "def death_between_years(data, age_current, age_die_start, age_die_end):\n",
    "    # Retrieve probability of death until age_die_end assuming that the person is already at age_die_start\n",
    "    # Flipping the probability of surviving through all these years should give us the probability of dying in any of these years\n",
    "    q = 1 - survival_rate(data, age_die_start, age_die_end)\n",
    "    \n",
    "    # Retrieve probability of survival to age_die_start\n",
    "    p = survival_rate(data, age_current, age_die_start)\n",
    "    \n",
    "    # The product of two will assume both probabilities occurring (surviving to die_start and dying between die_start and die_end)\n",
    "    return p * q\n",
    "    \n",
    "print(\"Probability of death between year 6 and 9 is {:.5f}\".format(death_between_years(data, 38, 38+6, 38+9)))"
   ]
  },
  {
   "cell_type": "markdown",
   "metadata": {},
   "source": [
    "### Working for question 5c\n",
    "\n",
    "The probability that someone of age x will survive for y years and die in the following z years [2]:\n",
    "\n",
    "$$\n",
    "\\begin{equation}\n",
    "_{y|z}q_{x} = \\left( _{y}p_{x}\\right) \\times \\left( _{z}q_{x + y}\\right)\n",
    "\\end{equation}\n",
    "$$\n",
    "\n",
    "It is essentially the product of surviving from age 38 to 44 and dying between age 44 and the end of 46.\n",
    "The dying age will include the 3-year interval between the end of 6th year (beginning of 44) and the end of 9th year (end of 46).\n",
    "\n",
    "Getting the probability of dying at any of 44, 45 or 46 ages can be achieved by flipping the probability of surviving all 44, 45 and 46 years.\n",
    "\n",
    "$$\n",
    "\\begin{equation}\n",
    "\\left( _{3}q_{44}\\right) = 1 - \\left( _{3}p_{44}\\right)\n",
    "\\end{equation}\n",
    "$$"
   ]
  },
  {
   "cell_type": "markdown",
   "metadata": {},
   "source": [
    "## D"
   ]
  },
  {
   "cell_type": "code",
   "execution_count": 37,
   "metadata": {},
   "outputs": [
    {
     "name": "stdout",
     "output_type": "stream",
     "text": [
      "Minimum Annual Premium Rate is 0.01106\n"
     ]
    }
   ],
   "source": [
    "# Minimum Annual Premium Rate \n",
    "def minimum_premium_rate(data, age, interest_rate):\n",
    "    npx_a = 1\n",
    "    npx_b = 1\n",
    "    a = 0\n",
    "    b = 0\n",
    "    \n",
    "    # Iterate over all periods including the ultimate ones as n -> inf will converge\n",
    "    for i in range(TOTAL_PERIODS + TOTAL_AGE - age + 2):\n",
    "        # Discount rate\n",
    "        discount = (1 + interest_rate)**i \n",
    "        \n",
    "        npx_a = survival_rate_shift(data, npx_a, age, i-1)\n",
    "        mortality = mortality_rate(data, age, i-1)\n",
    "        pn =  npx_a * mortality\n",
    "        a += pn / discount\n",
    "        \n",
    "        npx_b = survival_rate_shift(data, npx_b, age, i)\n",
    "        b += npx_b / discount\n",
    "        \n",
    "    return a / b\n",
    "\n",
    "print(\"Minimum Annual Premium Rate is {:.5f}\".format(minimum_premium_rate(data, 38, 0.035)))"
   ]
  },
  {
   "cell_type": "markdown",
   "metadata": {},
   "source": [
    "### Working for question 5d\n",
    "\n",
    "Present Value of a permanent life insurance policy is:\n",
    "\n",
    "$$\n",
    "\\begin{equation}\n",
    "PV = \\sum_{n = 0}^\\infty \\frac{\\left( _{n}p_{x}\\right) \\times \\pi_{n} - \\mathbb{P}_{n} \\times DB}{\\left(1 + r\\right)^{n}}\n",
    "\\end{equation}\n",
    "$$\n",
    "\n",
    "- $\\pi_{n}$: premium to be paid at time $n$ (up-front payment, from time 0)\n",
    "- $DB$: death benefit amount\n",
    "- $r$: valuation interest rate\n",
    "\n",
    "The idea behind it is to get the cash inflows (premiums) multiplied by the survival probability (i.e. probability of receiving it) subtracted by the cash outflows (death benefits) multiplied by the death probability (i.e. probability of giving the death benefit). All of that is discounted by the interest rate and it is summed for all years.\n",
    "\n",
    "Since we want to get the premium rate (premium as a fraction of death benefit), we would need to rearrange the equation so that we get $\\frac{\\pi}{DB}$\n",
    "\n",
    "Finding the minimum premium rate means that we should set the present value to 0 (i.e. the company neither makes loss nor profit).\n",
    "\n",
    "The equation indicates that the premium could be different for the different years. However, since we are interested in the $\\frac{\\text{premium}}{\\text{death benefit}}$ ratio, we can assume that the premium will be a constant (or average over all different premiums). \n",
    "\n",
    "The equation can therefore be rearranged as follows:\n",
    "\n",
    "$$\n",
    "\\begin{equation}\n",
    "\\sum_{n = 0}^\\infty \\frac{\\left( _{n}p_{x}\\right) \\times \\pi}{\\left(1 + r\\right)^{n}} - \\sum_{n = 0}^\\infty \\frac{\\mathbb{P}_{n} \\times DB}{\\left(1 + r\\right)^{n}} = 0\n",
    "\\end{equation}\n",
    "$$\n",
    "\n",
    "$$\n",
    "\\begin{equation}\n",
    " \\pi \\times \\sum_{n = 0}^\\infty \\frac{\\left( _{n}p_{x}\\right)}{\\left(1 + r\\right)^{n}} = DB \\times \\sum_{n = 0}^\\infty \\frac{\\mathbb{P}_{n}}{\\left(1 + r\\right)^{n}}\n",
    "\\end{equation}\n",
    "$$\n",
    "\n",
    "$$\n",
    "\\begin{equation}\n",
    "\\frac{\\pi}{DB} = \\frac{\\sum_{n = 0}^\\infty \\frac{\\mathbb{P}_{n}}{\\left(1 + r\\right)^{n}}}{\\sum_{n = 0}^\\infty \\frac{\\left( _{n}p_{x}\\right)}{\\left(1 + r\\right)^{n}}}\n",
    "\\end{equation}\n",
    "$$\n",
    "\n",
    "$\\mathbb{P}_{n}$ is the probability that the person dies between year $n-1$ and $n$, and that he will survive by $n-1$\n",
    "\n",
    "$$\n",
    "\\begin{equation}\n",
    "\\mathbb{P}_{n} = \\left( _{n-1}p_{x}\\right) \\times \\left( _{n-1|}q_{x}\\right)\n",
    "\\end{equation}\n",
    "$$"
   ]
  },
  {
   "cell_type": "markdown",
   "metadata": {},
   "source": [
    "## E"
   ]
  },
  {
   "cell_type": "markdown",
   "metadata": {},
   "source": [
    "<p style = 'text-align: justify;'>Technology spreads throughout the insurance sector outpacing traditional approaches with better risk scoring and underwriting procedures. Wearable devices provide deep insights into customer’s general health like physical activity, blood pressure, pulse and temperature. Social media could also disclose customer risk tolerance. All these structured and unstructured data can be passed to predictive analytics engines to explore lifestyle patterns. Thus, risk of death can be calculated on an individual basis rather than using data generalised for groups of people. Providing personalised reminders around diet, doctor appointments, disease management, and physical activity will likely make customers healthier allowing insurers to get more accurate risk assessment and stable margins (i.e. more likely to collect the forecasted premium payments). Cloud computing also contributes to the closer prediction of cash flows as it provides scalable and efficient infrastructure for the more sophisticated risk models and calculations (e.g. big data, predictive analytics, AI). An implementation of blockchain can provide transparent and tamper-proof storage of insurance policies and claims. It will provide a mechanism against fraud and human input errors to eliminate unintended or inaccurate premium payments (cash inflows) and death benefits (cash outflows)[3][4].</p>"
   ]
  },
  {
   "cell_type": "markdown",
   "metadata": {},
   "source": [
    "# Question 6"
   ]
  },
  {
   "cell_type": "markdown",
   "metadata": {},
   "source": [
    "## A"
   ]
  },
  {
   "attachments": {},
   "cell_type": "markdown",
   "metadata": {},
   "source": [
    "<p style = 'text-align: justify;'>In wealth management and brokerage traditional assets such as bonds and stocks are typically well researched by many big banks and independent research houses. However, with the world so connected by technology, new data can’t be processed quickly enough, which is why we should consider the use of Artificial Intelligence (AI) to help us filter all this new information and data. This technology would offer a clear opportunity for the firm to further personalize our services, while being able to better understand our clients’ requirements as well [5]. Whilst several wealth management firms are already claiming the use of AI; it is mostly used on the trading side, such as pattern recognition focus. A manner to apply this to the business infrastructure would be to build a core team that can do fundamental bottom-up analysis utilizing virtual analysts. Whilst this may be a long and difficult process, if successful it would allow our firm to compete head-on with the largest firms in our sector and stay ahead of the pack. When taking on new clients, due diligence is a key process that must be undertaken, which is known as KYC (know your customer), to ensure the identity. This process is done to determine the risk in terms of identity test, terrorism, and money laundering. In common firms, such process still requires human involvement, which results in the process having an unnecessarily long completion time. We propose our business to seek third party KYC identity check providers, such as Harbor [6]. These third-party providers use a set of machine learning algorithms to verify the identity of our customers and return results in a much shorter period than our current methods. Furthermore, we will see a reduction in the amount of errors, it is cost effective and a smoother onboarding experience for our clients. Cloud computing is another emerging technology that is gradually becoming an industry standard. Replacing the on-premise servers with cloud alternatives would provide scalable computation power, durability due to data copies across data centres, and cheaper costs with fees only on the used resources. [words: 345]</p>"
   ]
  },
  {
   "cell_type": "markdown",
   "metadata": {},
   "source": [
    "## B"
   ]
  },
  {
   "attachments": {},
   "cell_type": "markdown",
   "metadata": {},
   "source": [
    "<p style = 'text-align: justify;'>Traditional brokerage and wealth management businesses resemble a high-touch business model where managing someone's wealth involves personal attention and service. The rise of technology, however, has made all investment services faster, smarter and cheaper. AI and ML have become the most used technologies for automation, with examples like electronic KYC, biometric authentication, robo-advisors, algorithmic trading and predictive stock rating. Considering the bullish technology future, a low-touch model would be advantageous as the business can focus on adapting the latest innovations while decreasing the sales force through automated services [7].\n",
    "    \n",
    "<p style = 'text-align: justify;'>Trading electronically has also changed the landscape of investing as the number of new entrants has dramatically increased, reducing single brokers' dominance. As a result, commission fees were gradually reduced, giving the birth of discount brokers with zero commission (e.g. Robinhood). Although the traditional businesses offer more services, a Freemium business model can stop customers from switching to the cheaper fees. The model is a pricing strategy that offers limited features at no cost and charges users for additional services and usage. Examples of successful adaptations are Youtube, Spotify, Dropbox and Revolut (Figure 1) [8].\n",
    "</p>"
   ]
  },
  {
   "attachments": {
    "q6b.png": {
     "image/png": "[encoded data removed]"
    }
   },
   "cell_type": "markdown",
   "metadata": {},
   "source": [
    "![q6b.png](attachment:q6b.png)"
   ]
  },
  {
   "attachments": {},
   "cell_type": "markdown",
   "metadata": {},
   "source": [
    "<p style = 'text-align: justify;'>The new Web3 paradigm may also hold important lessons in the wealth management space. In today's environment, with rising inflation expectations, VC and pre-IPO deals may have to become a bigger part of portfolios. In those markets, network effects are crucial. You need to be part of the inner circles to access the best deals. At the core of Web3 is a blockchain business model which rewards all participants who keep a decentralised network alive. This network is an immutable database that no one owns, but anyone can see and contribute. Such transparency could change the exclusive club mentality and broaden the reach for both investors and companies. Moreover, a company that develops a platform where everyone wins will undoubtedly gain market share. The days in which a sponsor of a SPAC automatically gets 20% of a target company seem numbered. [words: 323]</p>"
   ]
  },
  {
   "cell_type": "markdown",
   "metadata": {},
   "source": [
    "## C"
   ]
  },
  {
   "attachments": {},
   "cell_type": "markdown",
   "metadata": {},
   "source": [
    "<p style = 'text-align: justify;'>Traditionally, people looking to manage their wealth would consult a financial advisor to plan investment strategies based on their risk tolerance. However, the cost of such human service can be significant, and advisors tend to prefer high-value clients with upfront capital. Robo-advisory is an automated solution that could be ideal for younger investors as it offers low fees and low balance entry. The underlying AI technology also keeps improving, considering it can now handle tax-loss harvesting and portfolio rebalancing. Researchers also continuously work on machine learning algorithms that can be utilised in these virtual advisors for better market predictions [9].\n",
    "    \n",
    "<p style = 'text-align: justify;'>Copy trading is another complementary service suitable for people who are busy watching the markets or want to leverage other traders' expertise. In such a case, algorithms automatically enable users to copy positions opened and managed by top-performing trades. The trades would be instantly replicated in the user's portfolio, and the invested value will be calculated as a proportion of the chosen amount to copy [10]. \n",
    "    \n",
    "<p style = 'text-align: justify;'>Considering the recent blockchain trend, the business can also support new assets. For example, cryptocurrencies and NFTs are based on this technology and are becoming increasingly popular investments. Adding a staking functionality would further stimulate the buying of the former asset. However, entering this digital market would face a lot of competition from cryptocurrency exchanges. The largest one, Binance, issued a successful utility token for discounted trading and the incentive of holding it as its value increases due to a burning mechanism. This could be a strategy worth exploring to attract new clients. There is also a big challenge. In the age of cybercrime and regulators, any financial institution that wants to offer access to these assets has a fiduciary duty to build both a technologically robust solution and one that fits within the regulatory framework. Lastly, a decentralised exchange system can battle liquidity issues and the matching process of buyers and sellers on an order book. It implements an automated market maker that determines the asset price based on the state of the liquidity pool [11][12]. [words: 340]</p>"
   ]
  },
  {
   "cell_type": "markdown",
   "metadata": {},
   "source": [
    "# References"
   ]
  },
  {
   "cell_type": "markdown",
   "metadata": {},
   "source": [
    "1. Life expectancy - Wikipedia [Internet]. En.wikipedia.org. 2022 [cited 25 March 2022]. Available from: https://en.wikipedia.org/wiki/Life_expectancy\n",
    "2. Life table - Wikipedia [Internet]. En.wikipedia.org. 2022 [cited 25 March 2022]. Available from: https://en.wikipedia.org/wiki/Life_table\n",
    "3. Insurance Technologies: 13 Disruptive Ideas to Change Insurance Companies with Telematics, Blockchain, Machine Learning, and APIs [Internet]. AltexSoft. 2022 [cited 25 March 2022]. Available from: https://www.altexsoft.com/blog/insurance-technologies/\n",
    "4. How InsurTech influences risk scoring and underwriting [Internet]. Infopulse. 2022 [cited 25 March 2022]. Available from: https://www.infopulse.com/blog/insurtech-risk-management-risk-scoring-underwriting\n",
    "5. Bharadwaj R. An Overview of AI for Wealth Management - What's Possible Today? [Internet]. Emerj Artificial Intelligence Research. 2022 [cited 25 March 2022]. Available from: https://emerj.com/partner-content/an-overview-of-ai-for-wealth-management-whats-possible-today/\n",
    "6. Harbor is the digital platform for alternative assets [Internet]. Harbor. 2022 [cited 25 March 2022]. Available from: https://harbor.com/platform\n",
    "7. Pahwa A. What Is A Business Model? The 30 Types Explained [Internet]. Feedough. 2022 [cited 25 March 2022]. Available from: https://www.feedough.com/what-is-a-business-model/\n",
    "8. What Is Freemium? [Internet]. Investopedia. 2022 [cited 25 March 2022]. Available from: https://www.investopedia.com/terms/f/freemium.asp\n",
    "9. Trend 4: Digital risk reduction [Internet]. 2022 [cited 25 March 2022]. Available from: https://home.kpmg/xx/en/home/insights/2019/02/insurtech-10-digital-risk-reduction.html\n",
    "10. What is Copy Trading & How Does it Work? | CMC Markets [Internet]. Cmcmarkets.com. 2022 [cited 25 March 2022]. Available from: https://www.cmcmarkets.com/en-gb/trading-guides/what-is-copy-trading\n",
    "11. Binance Coin (BNB) Definition [Internet]. Investopedia. 2022 [cited 25 March 2022]. Available from: https://www.investopedia.com/terms/b/binance-coin-bnb.asp\n",
    "12. What Is a Decentralized Exchange (DEX)? [Internet]. 2022 [cited 25 March 2022]. Available from: https://www.gemini.com/cryptopedia/decentralized-exchange-crypto-dex"
   ]
  }
 ],
 "metadata": {
  "kernelspec": {
   "display_name": "Python 3",
   "language": "python",
   "name": "python3"
  },
  "language_info": {
   "codemirror_mode": {
    "name": "ipython",
    "version": 3
   },
   "file_extension": ".py",
   "mimetype": "text/x-python",
   "name": "python",
   "nbconvert_exporter": "python",
   "pygments_lexer": "ipython3",
   "version": "3.9.0"
  }
 },
 "nbformat": 4,
 "nbformat_minor": 4
}

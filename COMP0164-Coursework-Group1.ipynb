{
 "cells": [
  {
   "cell_type": "code",
   "execution_count": 132,
   "metadata": {},
   "outputs": [],
   "source": [
    "import pandas as pd\n",
    "import numpy as np\n",
    "import numpy_financial as npf\n",
    "import math as m\n",
    "\n",
    "import yfinance as yf\n",
    "import matplotlib.pylab as plt\n",
    "import matplotlib.dates as mdates\n",
    "\n",
    "from scipy.stats import norm"
   ]
  },
  {
   "cell_type": "markdown",
   "metadata": {},
   "source": [
    "# Question 1"
   ]
  },
  {
   "cell_type": "markdown",
   "metadata": {},
   "source": [
    "## A"
   ]
  },
  {
   "cell_type": "code",
   "execution_count": 137,
   "metadata": {},
   "outputs": [
    {
     "name": "stdout",
     "output_type": "stream",
     "text": [
      "The Weighted Average Cost of Capital is: 8.17306818181818%\n"
     ]
    }
   ],
   "source": [
    "#initialise the variables necessary for the Weighted Average Cost of Capital (WACC) calculations\n",
    "erp = 0.0482 #the equity risk premium\n",
    "r = 0.0425 #the risk-free interest rate\n",
    "D = 900*(10e6) #ABC's debt portion\n",
    "E = 2.4*(10e9) #ABC's equity portion\n",
    "r_D = 0.0925 #the return on debt (Comment on why it was taken as rd)\n",
    "t_c = 0.375 #the corporate tax rate\n",
    "\n",
    "#determine the return on equity\n",
    "r_E = r + erp\n",
    "\n",
    "#determine the WACC, also known as the return on all assets [r_A]\n",
    "WoD = D / (D + E) #Weightage of Debt\n",
    "WoE = E / (D + E) #Weightage of Equity\n",
    "r_A = (WoD * r_D * (1 - t_c)) + (WoE * r_E)\n",
    "\n",
    "#print the results\n",
    "print(\"The Weighted Average Cost of Capital is: {0}%\".format(r_A*100))"
   ]
  },
  {
   "cell_type": "markdown",
   "metadata": {},
   "source": [
    "### Working for question 1a\n",
    "\n",
    "The equation for the Weighted Average Cost of Capital (WACC) after-tax is defined as below:\n",
    "\n",
    "\\begin{equation}\n",
    "\\operatorname{r_{A}}=\\frac{\\text {D}}{\\left(\\text {D + E} \\right)} \\times \\left(\\operatorname{r_{D}} \\times \\left(\\text{1} - \\text{T}_ \\text{C}\\right)\\right) + \\frac{\\text {E}}{\\left(\\text {D + E}\\right)} \\times \\operatorname{r_{E}}\n",
    "\\end{equation}\n",
    "\n",
    "Given our $D$, $E$ and $r_D$ we only need to determine our $r_E$ to complete the calculation for the WACC. \n",
    "\n",
    "As we are also given our equity risk premium ($erp$) and our risk-free rate of interest ($r_f$) we can determine our return on equity. This is achieved by doing a simple reworking of the CAPM equation.\n",
    "\n",
    "CAPM Equation:\n",
    "\\begin{equation}\n",
    "\\mathrm{r}_{\\mathrm{E}}=\\mathrm{r}_{\\mathrm{f}}+\\beta \\times \\left(\\mathrm{r}_{\\mathrm{M}}-\\mathrm{r}_{\\mathrm{f}}\\right)\n",
    "\\end{equation}\n",
    "\n",
    "Reworked into the Equity risk premium equation:\n",
    "\\begin{equation}\n",
    "\\mathrm{erp}=\\mathrm{r}_{\\mathrm{E}}-\\mathrm{r}_{\\mathrm{f}}=\\beta \\times \\left(\\mathrm{r}_{\\mathrm{M}}-\\mathrm{r}_{\\mathrm{f}}\\right)\n",
    "\\end{equation}\n",
    "\n",
    "Therefore, the return on equity will be determined through\n",
    "\\begin{equation}\n",
    "\\mathrm{r}_{\\mathrm{E}}=\\mathrm{erp}+\\mathrm{r}_{\\mathrm{f}}\n",
    "\\end{equation}\n",
    "\n",
    "This is gives us a value of \n",
    "\\begin{equation}\n",
    "\\operatorname{r_{E}} = \\text {4.82% + 4.25%} = \\text{9.07%}\n",
    "\\end{equation}\n",
    "\n",
    "Therefore, we achieve a value for the WACC \n",
    "\\begin{equation}\n",
    "\\operatorname{r_{A}} = \\frac{\\text{900} \\times \\text{10}^{\\text{6}}}{\\left(\\text{900} \\times \\text{10}^{\\text{6}} + \\text{2.4} \\times \\text{10}^{\\text{9}}\\right)} \\times \\left(\\text{0.0925} \\times \\left(\\text{1} - \\text{0.375}\\right)\\right) + \\frac{\\text{2.4} \\times \\text{10}^{\\text{9}}}{\\left(\\text{900} \\times \\text{10}^{\\text{6}} + \\text{2.4} \\times \\text{10}^{\\text{9}}\\right)} \\times \\text{0.0907} = \\text{8.17%}\n",
    "\\end{equation}"
   ]
  },
  {
   "cell_type": "markdown",
   "metadata": {},
   "source": [
    "## B"
   ]
  },
  {
   "cell_type": "code",
   "execution_count": 138,
   "metadata": {},
   "outputs": [
    {
     "name": "stdout",
     "output_type": "stream",
     "text": [
      "The asset beta prior to the new project is: 1.0531645569620254\n"
     ]
    }
   ],
   "source": [
    "#initialise the variables necessary for the asset beta calculations prior to the new project\n",
    "beta_E = 1.3\n",
    "\n",
    "#We need to determine the asset (unlevered) beta.\n",
    "#this can be done by dividing the equity (levered) beta by 1+(1-T_c)*debt equity ratio\n",
    "\n",
    "denom = 1 + ((1 - t_c)*(D / E)) #the denominator of the debt beta equation\n",
    "\n",
    "beta_A = beta_E / denom #using this to determine the asset beta\n",
    "\n",
    "#present the results\n",
    "print(\"The asset beta prior to the new project is: {0}\".format(beta_A))"
   ]
  },
  {
   "cell_type": "markdown",
   "metadata": {},
   "source": [
    "### Working for question 1b\n",
    "\n",
    "The relationship between the asset (unlevered) beta [$\\beta_{A}$] and the equity (levered) beta [$\\beta_{E}$] is seen below\n",
    "\n",
    "\\begin{equation}\n",
    "\\operatorname{\\beta_{A}} = \\frac{\\operatorname{\\beta_{E}}}{\\text{1} + \\left(\\left(\\text{1} - \\operatorname{T_{C}}\\right) \\times \\frac{\\text{D}}{\\text{E}}\\right)}\n",
    "\\end{equation}\n",
    "\n",
    "we already know the value for the corporate tax rate $T_C$, the debt $D$, the equity $E$, and the equity beta $\\beta_{E}$. Therefore we can determine [$\\beta_{A}$] and achieve a result as seen below\n",
    "\n",
    "\\begin{equation}\n",
    "\\operatorname{\\beta_{A}} = \\frac{\\text{1.3}}{\\text{1} + \\left(\\left(\\text{1} - \\text{0.375}\\right) \\times \\frac{\\text{900} \\times \\text{10}^{\\text{6}}}{\\text{2.4} \\times \\text{10}^{\\text{9}}}\\right)} = \\text{1.1}\n",
    "\\end{equation}"
   ]
  },
  {
   "cell_type": "markdown",
   "metadata": {},
   "source": [
    "## C"
   ]
  },
  {
   "cell_type": "code",
   "execution_count": 139,
   "metadata": {},
   "outputs": [
    {
     "name": "stdout",
     "output_type": "stream",
     "text": [
      "The equity beta of the new project is: 3.6860759493670887\n"
     ]
    }
   ],
   "source": [
    "#Assume beta asset is unlevered beta and use the project debt to equity ratio\n",
    "#and equity is \n",
    "\n",
    "#initialise the terms used to determine the equity beta of a project\n",
    "epp = 20 * 10e6 #the equity portion of the project\n",
    "dpp = 80 * 10e6 #the debt portion of the project\n",
    "\n",
    "#we use the same asset beta as stated in the question\n",
    "beta_PE = beta_A * (1 + ((1 - t_c)*(dpp / epp))) #the project equity beta\n",
    "\n",
    "#present the results\n",
    "print(\"The equity beta of the new project is: {0}\".format(beta_PE))"
   ]
  },
  {
   "cell_type": "markdown",
   "metadata": {},
   "source": [
    "### Working for question 1c\n",
    "\n",
    "We use the same relationship between the asset (unlevered) beta [$\\beta_{A}$] and the equity (levered) beta [$\\beta_{E}$] as the one used in question 1b, however we will have different values for the debt [$D$] and equity [$E$] portions as we are focussing on the project to achieve the project equity beta.\n",
    "\n",
    "**$D_{p} = 80 \\times 10^{6}$**\n",
    "\n",
    "**$E_{p} = 20 \\times 10^{6}$**\n",
    "\n",
    "Thus we can re-arrange the \n",
    "\n",
    "\\begin{equation}\n",
    "\\operatorname{\\beta_{E'}} = \\operatorname{\\beta_{A}} \\times \\left(\\text{1} + \\left(\\left(\\text{1} - \\operatorname{T_{C}}\\right) \\times \\frac{\\text{D}_ \\text{p}}{\\text{E}_ \\text{p}}\\right)\\right)\n",
    "\\end{equation}\n",
    "\n",
    "we already know the value for the corporate tax rate $T_C$, the debt $D_{p}$, the equity $E_{p}$, and the asset beta $\\beta_{A}$. Therefore we can determine the project equity beta [$\\beta_{E'}$] and achieve a result as seen below\n",
    "\n",
    "\\begin{equation}\n",
    "\\operatorname{\\beta_{E'}} = \\text{1.1} \\times \\left(\\text{1} + \\left(\\left(\\text{1} - \\text{0.375}\\right) \\times \\frac{\\text{80} \\times \\text{10}^{\\text{6}}}{\\text{20} \\times \\text{10}^{\\text{6}}}\\right)\\right) = \\text{3.7}\n",
    "\\end{equation}"
   ]
  },
  {
   "cell_type": "markdown",
   "metadata": {},
   "source": [
    "## D"
   ]
  },
  {
   "cell_type": "code",
   "execution_count": 7,
   "metadata": {},
   "outputs": [
    {
     "data": {
      "text/html": [
       "<div>\n",
       "<style scoped>\n",
       "    .dataframe tbody tr th:only-of-type {\n",
       "        vertical-align: middle;\n",
       "    }\n",
       "\n",
       "    .dataframe tbody tr th {\n",
       "        vertical-align: top;\n",
       "    }\n",
       "\n",
       "    .dataframe thead th {\n",
       "        text-align: right;\n",
       "    }\n",
       "</style>\n",
       "<table border=\"1\" class=\"dataframe\">\n",
       "  <thead>\n",
       "    <tr style=\"text-align: right;\">\n",
       "      <th></th>\n",
       "      <th>Revenues</th>\n",
       "      <th>Operating Cost</th>\n",
       "      <th>Depreciation</th>\n",
       "      <th>FCF [mil]</th>\n",
       "    </tr>\n",
       "  </thead>\n",
       "  <tbody>\n",
       "    <tr>\n",
       "      <th>Year 1</th>\n",
       "      <td>99.20</td>\n",
       "      <td>32</td>\n",
       "      <td>16</td>\n",
       "      <td>48.0</td>\n",
       "    </tr>\n",
       "    <tr>\n",
       "      <th>Year 2</th>\n",
       "      <td>109.60</td>\n",
       "      <td>36</td>\n",
       "      <td>16</td>\n",
       "      <td>52.0</td>\n",
       "    </tr>\n",
       "    <tr>\n",
       "      <th>Year 3</th>\n",
       "      <td>115.44</td>\n",
       "      <td>38</td>\n",
       "      <td>16</td>\n",
       "      <td>54.4</td>\n",
       "    </tr>\n",
       "  </tbody>\n",
       "</table>\n",
       "</div>"
      ],
      "text/plain": [
       "        Revenues  Operating Cost  Depreciation  FCF [mil]\n",
       "Year 1     99.20              32            16       48.0\n",
       "Year 2    109.60              36            16       52.0\n",
       "Year 3    115.44              38            16       54.4"
      ]
     },
     "execution_count": 7,
     "metadata": {},
     "output_type": "execute_result"
    }
   ],
   "source": [
    "#Initialising the 3 rows of exhibit 2\n",
    "rev = [99.2, 109.6, 115.44] #Revenues\n",
    "OC = [32, 36, 38] #operating cost\n",
    "dep = [16, 16, 16] #depreciation\n",
    "\n",
    "#create a dataframe that holds all the info for exhibit 2\n",
    "dataframe = {'Revenues': rev, 'Operating Cost': OC, 'Depreciation': dep}\n",
    "epf = pd.DataFrame(data = dataframe, index = ['Year 1', 'Year 2', 'Year 3']) #estimated project financials\n",
    "\n",
    "\n",
    "#creating a function to calculate the fcf of entered data\n",
    "def get_fcf(row):\n",
    "    return ((row['Revenues'] - row['Operating Cost'] - row['Depreciation'])*(1 - t_c)) + row['Depreciation']\n",
    "\n",
    "#creating a new column to add to the epf data frame with the corresponding fcf for each year\n",
    "epf['FCF [mil]'] = epf.apply(get_fcf, axis = 1)\n",
    "epf"
   ]
  },
  {
   "cell_type": "markdown",
   "metadata": {},
   "source": [
    "### Working for question 1d\n",
    "\n",
    "Given our information in 'Exhibit 2: Estimated Project Financials' we can determine our Free Cash Flow (FCF) for the 3 years of data on the project. The equation given for the FCF,\n",
    "\n",
    "\\begin{equation}\n",
    "\\text{FCF} = \\left(\\text{Revenues} - \\text{Operating Cost} - \\text{Depreciation}\\right) \\times \\left(\\text{1} - \\text{Tax Rate}\\right) + \\text{Depreciation}\n",
    "\\end{equation}\n",
    "\n",
    "Therefore, with the tax rate being $37.5%$ we determine the value for the next 3 years to be $48$ million, $52$ million and $54.4$ million. "
   ]
  },
  {
   "cell_type": "markdown",
   "metadata": {},
   "source": [
    "## E"
   ]
  },
  {
   "cell_type": "code",
   "execution_count": 140,
   "metadata": {},
   "outputs": [
    {
     "name": "stdout",
     "output_type": "stream",
     "text": [
      "The NPV, of the project, at a Risk-Free interest rate of  0.0425  is 147.94\n",
      "\n",
      "The IRR value is:  0.2469145404466444\n"
     ]
    }
   ],
   "source": [
    "#as we have initialised all the variables needed we can directly determine the NPV using the numpy_financial library\n",
    "print(\"The NPV, of the project, at a Risk-Free interest rate of \", r, \" is {:.2f}\".format(npf.npv(r, epf['FCF [mil]'])))\n",
    "\n",
    "#same goes for the IRR (make a new one with the function built)\n",
    "irr_values = []\n",
    "irr_values.append(-100) #adding the original $100mil investment\n",
    "for z in range(len(epf['FCF [mil]'])):\n",
    "    irr_values.append(epf['FCF [mil]'][z]) #add the fcf values to the list\n",
    "\n",
    "print(\"\\nThe IRR value is: \", npf.irr(irr_values))"
   ]
  },
  {
   "cell_type": "markdown",
   "metadata": {},
   "source": [
    "### Working on question 1e\n",
    "\n",
    "**Working for the NPV**\n",
    "\n",
    "We determine the NPV by using it's equation:\n",
    "\n",
    "\\begin{equation}\n",
    "\\operatorname{NPV} = \\frac{\\operatorname{FCF_{t}}}{\\left(\\text{1} + \\operatorname{r}\\right)^{t}}\n",
    "\\end{equation}\n",
    "\n",
    "Therefore, we compute the result by summing the results from $1$ to $t$:\n",
    "\n",
    "\\begin{equation}\n",
    "\\operatorname{NPV} = \\frac{\\text{48}}{\\left(\\text{1 + 0.0425}\\right)^{1}} + \\frac{\\text{52}}{\\left(\\text{1 + 0.0425}\\right)^{2}} + \\frac{\\text{54.4}}{\\left(\\text{1 + 0.0425}\\right)^{3}} = \\text{147.94 million}\n",
    "\\end{equation}\n",
    "\n",
    "**Working for IRR**\n",
    "\n",
    "We determine the $IRR$ by using it's equation:\n",
    "\n",
    "\\begin{equation}\n",
    "\\operatorname{NPV} = \\text{0} =  \\frac{\\operatorname{FCF_{t}}}{\\left(\\text{1} + \\operatorname{IRR}\\right)^{t}} - \\operatorname{C_{0}}\n",
    "\\end{equation}\n",
    "\n",
    "With the $NPV$ value being 0 we solve for the $IRR$. In addition, we also know that $C_0$ is the original investment of $100$ million\n",
    "\n",
    "The $IRR$ is then determined to be:\n",
    "\n",
    "\\begin{equation}\n",
    "\\operatorname{IRR} = \\text{0.247}\n",
    "\\end{equation}"
   ]
  },
  {
   "cell_type": "markdown",
   "metadata": {},
   "source": [
    "## F"
   ]
  },
  {
   "cell_type": "code",
   "execution_count": 9,
   "metadata": {},
   "outputs": [
    {
     "name": "stdout",
     "output_type": "stream",
     "text": [
      "304\n",
      "304\n",
      "When the economy is booming we have the stock current value of: $18.64\n",
      "\n",
      "When the economy is falling we have the stock current value of: $18.12\n"
     ]
    }
   ],
   "source": [
    "#create a function to determine the current value of DEF stock\n",
    "def ddm(booming = True):\n",
    "    #initialising the original dividend and a variable to determine which time period\n",
    "    d0 = 0.65\n",
    "    t = 0\n",
    "    #create a while loop for the infinite series of the ddm model\n",
    "    while True:\n",
    "        if (t < 5 and booming): #the condition for when economy is booming and to have growth of 12%\n",
    "            g = 1.12\n",
    "        else:\n",
    "            g = 1.035\n",
    "        \n",
    "        num = d0 * g ** t #the numerator\n",
    "        den = (1 + 0.0735) ** t #the denominator\n",
    "        a = num / den\n",
    "        \n",
    "        if a < 10e-6: #when the addition of ddm becomes negligable to the current value\n",
    "            print(t) #present the final time period of importance\n",
    "            break\n",
    "        \n",
    "        t += 1 #incrementing the time period for each loop\n",
    "        yield num / den #returning a lazy iterator to compute an infinite series\n",
    "\n",
    "rise_econ = sum(ddm(booming = True)) #when we have a booming economy\n",
    "fall_econ = sum(ddm(booming = False)) #when we have a falling economy\n",
    "\n",
    "print(\"When the economy is booming we have the stock current value of: ${:.2f}\".format(rise_econ))\n",
    "print(\"\\nWhen the economy is falling we have the stock current value of: ${:.2f}\".format(fall_econ))"
   ]
  },
  {
   "cell_type": "markdown",
   "metadata": {},
   "source": [
    "### Working on question 1f\n",
    "\n",
    "We know the discount dividend model (DDM) to be:\n",
    "\n",
    "\\begin{equation}\n",
    "\\operatorname{P_{\\text{current value of stock}}} = \\sum_{t = 1}^\\infty \\frac{\\operatorname{D_{\\text{t}}}}{\\left(\\text{1} - \\operatorname{r}\\right)^{\\text{t}}}\n",
    "\\end{equation}\n",
    "\n",
    "where $D_t$ is equivalent to $D_0 \\times g^t$. $g$ is the growth the dividend will face.\n",
    "\n",
    "Therefore we need to re-apply this model for the two scenarios given:\n",
    "\n",
    "**Economy is booming**\n",
    "\n",
    "In this case the first 4 time periods will have a growth $g$ of $12$% while than stabilizing at a $3.5$% growth for the remainder. Therefore the current value of company DEF stock will be compute:\n",
    "\n",
    "\\begin{equation}\n",
    "\\operatorname{P_{\\text{booming}}} = \\sum_{t = 1}^{H} \\frac{\\text{0.65} \\times \\text{0.12}^{\\text{t}}}{\\left(\\text{1} - \\text{0.0735}\\right)^{\\text{t}}} + \\sum_{t = 5}^\\infty \\frac{\\text{0.65} \\times \\text{0.035}^{\\text{t}}}{\\left(\\text{1} - \\text{0.0735}\\right)^{\\text{t}}} = \\$\\text{18.64}\n",
    "\\end{equation}\n",
    "\n",
    "\n",
    "**Economy is in recession**\n",
    "\n",
    "In this case the growth is stable at a growth rate $g$ of $3.5$%, which means we will compute the equation shown below:\n",
    "\n",
    "\\begin{equation}\n",
    "\\operatorname{P_{\\text{recession}}} = \\sum_{t = 1}^\\infty \\frac{\\text{0.65} \\times \\text{0.035}^{\\text{t}}}{\\left(\\text{1} - \\text{0.0735}\\right)^{\\text{t}}} = \\$\\text{18.12}\n",
    "\\end{equation}"
   ]
  },
  {
   "cell_type": "markdown",
   "metadata": {},
   "source": [
    "## G"
   ]
  },
  {
   "cell_type": "code",
   "execution_count": 10,
   "metadata": {},
   "outputs": [
    {
     "name": "stdout",
     "output_type": "stream",
     "text": [
      "The sustainable growth rate of company GHI:  0.084\n",
      "\n",
      "The value of the company GHI's stock: $33.35\n",
      "\n",
      "The present value of growth opportunities: 15.17\n"
     ]
    }
   ],
   "source": [
    "#initializing the variables required for the calculations in this question\n",
    "b = 0.6 #plowback ratio\n",
    "eps = 2 #Earnings Per Share\n",
    "roe = 0.14 #return on equity (for company GHI)\n",
    "ror = 0.11 #rate of return\n",
    "\n",
    "#determing the sustainable growth rate g\n",
    "g = roe * b \n",
    "print(\"The sustainable growth rate of company GHI: \", g)\n",
    "\n",
    "#determine thevalue of the company's stock at the beginning of 2022\n",
    "#EPS remains the same\n",
    "por = 1 - b #the payout ratio\n",
    "\n",
    "#we know that the payout ratio also is the ratio of the dividends to the EPS thus we can determine the d_0\n",
    "d_0 = eps * por\n",
    "\n",
    "#we can therefor determine the value of the company stock to be\n",
    "p_0 = (d_0 * (1 + g)) / (ror - g)\n",
    "print(\"\\nThe value of the company GHI's stock: ${:.2f}\".format(p_0))\n",
    "\n",
    "#we can now determine the present value of growth opportunity\n",
    "#use the relationship between stock price and earnings to achieve this result\n",
    "pvgo = p_0 - (eps / ror)\n",
    "print(\"\\nThe present value of growth opportunities: {:.2f}\".format(pvgo))"
   ]
  },
  {
   "cell_type": "markdown",
   "metadata": {},
   "source": [
    "### Working for question 1g\n",
    "\n",
    "**Sustainable Growth Rate [$g$]**\n",
    "\n",
    "To determine the sustainable growth rate we follow the equation below:\n",
    "\n",
    "\\begin{equation}\n",
    "\\operatorname{g} = \\operatorname{b} \\times \\operatorname{ROE}\n",
    "\\end{equation}\n",
    "\n",
    "where $b$ is the plowback ratio\n",
    "\n",
    "We are given both the plowback ratio and the return on equity therefore we can determine the sustainable growth to be\n",
    "\n",
    "\\begin{equation}\n",
    "\\operatorname{g} = \\text{0.6} \\times \\text{0.14} = \\text{0.084}\n",
    "\\end{equation}\n",
    "\n",
    "**The Value of the Company's Stock [$P_{company's stock value}$]**\n",
    "\n",
    "We will be able to determine the value of the company's stock by modelling the value of a business as the value of growing perpetuity:\n",
    "\n",
    "\\begin{equation}\n",
    "\\operatorname{P_{\\text{Company's stock value}}} = \\frac{\\operatorname{D_{\\text{0}}} \\times \\left(\\text{1} + \\operatorname{g}\\right)}{\\operatorname{r} - \\operatorname{g}}\n",
    "\\end{equation}\n",
    "\n",
    "We first need to determine the value for the current dividend $D_0$:\n",
    "\n",
    "\\begin{equation}\n",
    "\\operatorname{D_{\\text{0}}} = \\operatorname{EPS} \\times \\operatorname{Payout ratio}\n",
    "\\end{equation}\n",
    "\n",
    "Furthermore, the payout ratio is known to be $1 - b$, where $b$ is the plowback ratio. Therefore, we know the payout ratio to be $0.4$\n",
    "\n",
    "Thus, the current dividend is:\n",
    "\n",
    "\\begin{equation}\n",
    "\\operatorname{D_{\\text{0}}} = 2 \\times 0.4 = 0.8\n",
    "\\end{equation}\n",
    "\n",
    "To conclude, we can now determine the value of the stock, which will give us:\n",
    "\n",
    "\\begin{equation}\n",
    "\\operatorname{P_{\\text{Company's stock value}}} = \\frac{0.8 \\times \\left(1 + 0.084\\right)}{0.11 \\times 0.084} = \\$33.35\n",
    "\\end{equation}\n",
    "\n",
    "**The Company's Present Value of Growth Opportunities [$PVGO$]**\n",
    "\n",
    "We can utilise the relationship between the stock price and earnings to determine the present value of growth opportunities. This is achieved by re-arranging the above relationship into:\n",
    "\n",
    "\\begin{equation}\n",
    "\\operatorname{PVGO} = \\operatorname{P_{\\text{Company's stock value}}} - \\frac{\\operatorname{EPS}}{\\operatorname{r}}\n",
    "\\end{equation}\n",
    "\n",
    "As we determine the value of the company's stock previously we can determine the $PVGO$ to be:\n",
    "\n",
    "\\begin{equation}\n",
    "\\operatorname{PVGO} = 33.35 - \\frac{2}{0.11} = 15.17\n",
    "\\end{equation}"
   ]
  },
  {
   "cell_type": "markdown",
   "metadata": {},
   "source": [
    "# Question 2"
   ]
  },
  {
   "cell_type": "code",
   "execution_count": 141,
   "metadata": {},
   "outputs": [],
   "source": [
    "def discountFactors(spot_rates, mats):\n",
    "    df = 1 / ((1 + spot_rates)**mats)\n",
    "    return df\n",
    "\n",
    "def spotRates(DF_cumsum, par_value, par_rates, mats):\n",
    "    spot_rate = ((par_value * (1 + par_rates)) / \n",
    "                 (par_value * (1 - par_rates * DF_cumsum)))**(1 / mats) - 1\n",
    "    return spot_rate\n",
    "\n",
    "def bond_CashFLow(T, par_value, coupon_rate):\n",
    "    cfs = np.zeros(T)\n",
    "    for t in range(T):\n",
    "        if (t < T):\n",
    "            cash_flow = par_value * coupon_rate\n",
    "        if (t == T - 1):\n",
    "            cash_flow = par_value * (1 + coupon_rate)\n",
    "        cfs[t] = cash_flow\n",
    "    return cfs\n",
    "\n",
    "def price_Bond_Tree(p_up, p_down, strike, bond_name, Bond_Data, IR_Tree):\n",
    "    # bond-specific info\n",
    "    idx = (Bond_Data['Name'] == bond_name)\n",
    "    T = Bond_Data['Mat'][idx].values[0]\n",
    "    fv = Bond_Data['FV'][idx].values[0]\n",
    "    cpn = Bond_Data['Cpn'][idx].values[0]\n",
    "    type_bond = Bond_Data['Type'][idx].values[0]\n",
    "    idx_op = Bond_Data['Idx_op'][idx].values[0]\n",
    "    # initialise tree\n",
    "    Bond_Tree = np.empty([T + 1, T + 1])\n",
    "    Bond_Tree[:] = np.nan\n",
    "    # populate the terminal nodes of the tree (principal repayment + coupon)\n",
    "    Bond_Tree[:, -1] = [fv * (1 + cpn)] * (T + 1)\n",
    "    # generate binomial tree \n",
    "    for t in range(T):\n",
    "        t_i = -(t + 1) # last node index (bond tree)\n",
    "        t_ii = T - (t + 1) # last node index (IR tree)\n",
    "        node_before = Bond_Tree[:, t_i]\n",
    "        IR_loop = IR_Tree.iloc[:, t_ii]\n",
    "        # calculate nodes\n",
    "        if t == (T - 1): # initial node\n",
    "            node_before_aux = node_before[:-1] # no nan\n",
    "            up_node = node_before_aux[0]\n",
    "            down_node = node_before_aux[1]\n",
    "            node_new = ((p_up * up_node) + (p_down * down_node) + (fv * cpn)) / (1 + IR_loop)\n",
    "        else: # all other nodes\n",
    "            node_new = node_before[:-1] / (1 + IR_loop) \n",
    "            if type_bond != 'Vanilla':\n",
    "                if (t_ii in idx_op): # bond can be recalled\n",
    "                    if type_bond == 'Callable':\n",
    "                        idx_loop = (node_new > strike)\n",
    "                        node_new[idx_loop] = strike\n",
    "                    elif type_bond == 'Putable':\n",
    "                        idx_loop = (node_new < strike)\n",
    "                        node_new[idx_loop] = strike\n",
    "        # write\n",
    "        Bond_Tree[:, t_i - 1] = np.concatenate((np.array(node_new), [np.nan]))\n",
    "    Bond_Tree = pd.DataFrame(data = Bond_Tree)\n",
    "    return Bond_Tree"
   ]
  },
  {
   "cell_type": "code",
   "execution_count": 142,
   "metadata": {},
   "outputs": [],
   "source": [
    "# inputs exhibit 1\n",
    "maturities = [1, 2, 3, 4, 5]\n",
    "par_rates = [2.5, 2.99, 3.48, 3.95, 4.37]\n",
    "spot_rates = [2.5, 3.0, 3.5, 4.0, np.nan]\n",
    "curve_Data = {'Mat' : maturities,\n",
    "              'Par' : [x / 100 for x in par_rates],\n",
    "              'Spot': [x / 100 for x in spot_rates]\n",
    "             }\n",
    "curve_Data = pd.DataFrame.from_dict(curve_Data)\n",
    "# inputs exhibit 2\n",
    "bond_names = ['A', 'B', 'C']\n",
    "FV = [1000, 100, 100]\n",
    "maturities = [3, 3, 3]\n",
    "coupon = [6.0, 4.4, 4.4]\n",
    "type_bond = ['Vanilla', 'Callable', 'Putable']\n",
    "idx_option = [np.nan, [1, 2], [1, 2]] # years in which bond can be recalled (by issuer or holder)\n",
    "Bond_Data = {'Name'  : bond_names,\n",
    "             'FV'    : FV,\n",
    "             'Mat'   : maturities,\n",
    "             'Cpn'   : [x / 100 for x in coupon],\n",
    "             'Type'  : type_bond,\n",
    "             'Idx_op': idx_option\n",
    "            }\n",
    "Bond_Data = pd.DataFrame.from_dict(Bond_Data)\n",
    "# inputs exhibit 3\n",
    "data_IR = [[2.2500, np.nan, np.nan], \n",
    "           [3.5930, 2.9417, np.nan],\n",
    "           [4.6470, 3.8046, 3.1150]]\n",
    "IR_Tree = pd.DataFrame([[i / 100 for i in data_IR[j]] \n",
    "                        for j in range(len(data_IR[1]))]).T"
   ]
  },
  {
   "cell_type": "markdown",
   "metadata": {},
   "source": [
    "## A"
   ]
  },
  {
   "cell_type": "code",
   "execution_count": 147,
   "metadata": {},
   "outputs": [
    {
     "data": {
      "text/html": [
       "<div>\n",
       "<style scoped>\n",
       "    .dataframe tbody tr th:only-of-type {\n",
       "        vertical-align: middle;\n",
       "    }\n",
       "\n",
       "    .dataframe tbody tr th {\n",
       "        vertical-align: top;\n",
       "    }\n",
       "\n",
       "    .dataframe thead th {\n",
       "        text-align: right;\n",
       "    }\n",
       "</style>\n",
       "<table border=\"1\" class=\"dataframe\">\n",
       "  <thead>\n",
       "    <tr style=\"text-align: right;\">\n",
       "      <th></th>\n",
       "      <th>Mat</th>\n",
       "      <th>Par</th>\n",
       "      <th>Spot</th>\n",
       "      <th>DF</th>\n",
       "    </tr>\n",
       "  </thead>\n",
       "  <tbody>\n",
       "    <tr>\n",
       "      <th>0</th>\n",
       "      <td>1</td>\n",
       "      <td>0.0250</td>\n",
       "      <td>0.02500</td>\n",
       "      <td>0.975610</td>\n",
       "    </tr>\n",
       "    <tr>\n",
       "      <th>1</th>\n",
       "      <td>2</td>\n",
       "      <td>0.0299</td>\n",
       "      <td>0.03000</td>\n",
       "      <td>0.942596</td>\n",
       "    </tr>\n",
       "    <tr>\n",
       "      <th>2</th>\n",
       "      <td>3</td>\n",
       "      <td>0.0348</td>\n",
       "      <td>0.03500</td>\n",
       "      <td>0.901943</td>\n",
       "    </tr>\n",
       "    <tr>\n",
       "      <th>3</th>\n",
       "      <td>4</td>\n",
       "      <td>0.0395</td>\n",
       "      <td>0.04000</td>\n",
       "      <td>0.854804</td>\n",
       "    </tr>\n",
       "    <tr>\n",
       "      <th>4</th>\n",
       "      <td>5</td>\n",
       "      <td>0.0437</td>\n",
       "      <td>0.04453</td>\n",
       "      <td>0.804258</td>\n",
       "    </tr>\n",
       "  </tbody>\n",
       "</table>\n",
       "</div>"
      ],
      "text/plain": [
       "   Mat     Par     Spot        DF\n",
       "0    1  0.0250  0.02500  0.975610\n",
       "1    2  0.0299  0.03000  0.942596\n",
       "2    3  0.0348  0.03500  0.901943\n",
       "3    4  0.0395  0.04000  0.854804\n",
       "4    5  0.0437  0.04453  0.804258"
      ]
     },
     "execution_count": 147,
     "metadata": {},
     "output_type": "execute_result"
    }
   ],
   "source": [
    "# inputs\n",
    "mat = 5 # chosen maturity (years)\n",
    "par_value = 100\n",
    "# calculate discount factors\n",
    "curve_Data['DF'] = discountFactors(curve_Data['Spot'].values,\n",
    "                                   curve_Data['Mat'].values)\n",
    "curve_Data['Cum_DF'] = curve_Data['DF'].cumsum()\n",
    "# calculate spot rate for chosen maturity\n",
    "idx = (curve_Data['Mat'] == mat)\n",
    "idx2 = idx.shift(-1)\n",
    "idx2[mat-1] = False\n",
    "curve_Data.loc[idx, 'Spot'] = spotRates(curve_Data['Cum_DF'][idx2].values, \n",
    "                                        par_value, \n",
    "                                        curve_Data['Par'][idx].values, \n",
    "                                        curve_Data['Mat'][idx].values)\n",
    "# recalculate discount factors for all maturities\n",
    "curve_Data['DF'] = discountFactors(curve_Data['Spot'].values,\n",
    "                                   curve_Data['Mat'].values)\n",
    "curve_Data.drop(['Cum_DF'], axis = 1, inplace = True) # delete col\n",
    "curve_Data # display table"
   ]
  },
  {
   "cell_type": "markdown",
   "metadata": {},
   "source": [
    "## B"
   ]
  },
  {
   "cell_type": "code",
   "execution_count": 148,
   "metadata": {},
   "outputs": [
    {
     "name": "stdout",
     "output_type": "stream",
     "text": [
      "[0.0817]\n"
     ]
    }
   ],
   "source": [
    "# inputs\n",
    "mat1 = 1 # loan maturity\n",
    "mat2 = 3 # loan start, mat2 > mat1\n",
    "# select spot rate for chosen maturities\n",
    "spotrate1 = curve_Data.Spot[curve_Data.Mat == mat1].values\n",
    "spotrate2 = curve_Data.Spot[curve_Data.Mat == mat2].values\n",
    "fwd_rate = (((1 + spotrate2)**mat2) / ((1 + spotrate1)**mat1)) - 1\n",
    "print(np.round(fwd_rate, 4))"
   ]
  },
  {
   "cell_type": "markdown",
   "metadata": {},
   "source": [
    "## C"
   ]
  },
  {
   "cell_type": "markdown",
   "metadata": {},
   "source": [
    "* n = 1, n combos = 0\n",
    "* n = 2, n combos = 2  : 2y1y, 1y2y \n",
    "* n = 3, n combos = 6  : 3y1y, 1y3y, 3y2y, 2y3y [...]\n",
    "* n = 4, n combos = 12 : 4y1y, 1y4y, 3y4y, 4y3y, 4y2y, 2y4y [...]\n",
    "\n",
    "<p style = 'text-align: justify;'>Given n consecutive points on spot curve, the number of forward rates is equal to n combos. For one point only, there is no forward rate that can be calculated. For a spot curve with more than two points, the number of forward rate combinations equals the cumulative number of combinations up to (and including) that point. For instance, given spot rates for one-, two-, and three-year zero bonds, 6 forward rates can be calculated: 2y1y and 1y2y are the forward rates that can be already calculated with 2 points (1y, and 2y spot), then with the added 3y point (on the spot curve) we count 4 combinations, making the total $\\text{n combos} = 6$. Extending the curve to 4 points we count 12 forward rate combinations, and we derive the formula: </p>\n",
    "\n",
    "$$ \\text{n combos} = n (n -1) \\quad \\forall n >= 1 $$"
   ]
  },
  {
   "cell_type": "markdown",
   "metadata": {},
   "source": [
    "## D"
   ]
  },
  {
   "cell_type": "code",
   "execution_count": 149,
   "metadata": {},
   "outputs": [
    {
     "name": "stdout",
     "output_type": "stream",
     "text": [
      "[0.06]\n"
     ]
    }
   ],
   "source": [
    "# inputs\n",
    "bond_name = 'A' # bond name\n",
    "# bond-specific info\n",
    "idx = (Bond_Data['Name'] == bond_name)\n",
    "T = Bond_Data['Mat'][idx].values[0]\n",
    "fv = Bond_Data['FV'][idx].values[0]\n",
    "cpn = Bond_Data['Cpn'][idx].values[0]\n",
    "# calculate bond cash flows (T x 1)\n",
    "cashFlows = bond_CashFLow(T, fv, cpn) # without initial investment\n",
    "initial_inv = np.array([-Bond_Data['FV'][idx].values[0]])\n",
    "cashFlows = np.concatenate((initial_inv, cashFlows), axis = 0)\n",
    "# find IRR\n",
    "irr = npf.irr(cashFlows);\n",
    "print([np.round(irr, 4)])"
   ]
  },
  {
   "cell_type": "markdown",
   "metadata": {},
   "source": [
    "## E"
   ]
  },
  {
   "cell_type": "code",
   "execution_count": 150,
   "metadata": {},
   "outputs": [],
   "source": [
    "# inputs\n",
    "p_up = 0.5\n",
    "p_down = 0.5\n",
    "# step 1: price a bullet (vanilla/straight) bond with the same characteristics as bonds B and C\n",
    "bond_name = 'B'\n",
    "aux_df = Bond_Data.copy()\n",
    "aux_df.loc[aux_df.Name == bond_name, 'Type'] = 'Vanilla'\n",
    "aux_df.loc[aux_df.Name == bond_name, 'Idx_op'] = np.nan\n",
    "aux_df = aux_df.loc[aux_df.Name == bond_name, :]\n",
    "vanilla_Bond_Tree = price_Bond_Tree(p_up, p_down, [], bond_name, aux_df, IR_Tree)"
   ]
  },
  {
   "cell_type": "code",
   "execution_count": 151,
   "metadata": {},
   "outputs": [
    {
     "data": {
      "text/html": [
       "<div>\n",
       "<style scoped>\n",
       "    .dataframe tbody tr th:only-of-type {\n",
       "        vertical-align: middle;\n",
       "    }\n",
       "\n",
       "    .dataframe tbody tr th {\n",
       "        vertical-align: top;\n",
       "    }\n",
       "\n",
       "    .dataframe thead th {\n",
       "        text-align: right;\n",
       "    }\n",
       "</style>\n",
       "<table border=\"1\" class=\"dataframe\">\n",
       "  <thead>\n",
       "    <tr style=\"text-align: right;\">\n",
       "      <th></th>\n",
       "      <th>0</th>\n",
       "      <th>1</th>\n",
       "      <th>2</th>\n",
       "      <th>3</th>\n",
       "    </tr>\n",
       "  </thead>\n",
       "  <tbody>\n",
       "    <tr>\n",
       "      <th>0</th>\n",
       "      <td>99.170329</td>\n",
       "      <td>96.303774</td>\n",
       "      <td>99.763968</td>\n",
       "      <td>104.4</td>\n",
       "    </tr>\n",
       "    <tr>\n",
       "      <th>1</th>\n",
       "      <td>NaN</td>\n",
       "      <td>97.699550</td>\n",
       "      <td>100.573578</td>\n",
       "      <td>104.4</td>\n",
       "    </tr>\n",
       "    <tr>\n",
       "      <th>2</th>\n",
       "      <td>NaN</td>\n",
       "      <td>NaN</td>\n",
       "      <td>101.246181</td>\n",
       "      <td>104.4</td>\n",
       "    </tr>\n",
       "    <tr>\n",
       "      <th>3</th>\n",
       "      <td>NaN</td>\n",
       "      <td>NaN</td>\n",
       "      <td>NaN</td>\n",
       "      <td>104.4</td>\n",
       "    </tr>\n",
       "  </tbody>\n",
       "</table>\n",
       "</div>"
      ],
      "text/plain": [
       "           0          1           2      3\n",
       "0  99.170329  96.303774   99.763968  104.4\n",
       "1        NaN  97.699550  100.573578  104.4\n",
       "2        NaN        NaN  101.246181  104.4\n",
       "3        NaN        NaN         NaN  104.4"
      ]
     },
     "execution_count": 151,
     "metadata": {},
     "output_type": "execute_result"
    }
   ],
   "source": [
    "vanilla_Bond_Tree # vanilla"
   ]
  },
  {
   "cell_type": "code",
   "execution_count": 152,
   "metadata": {},
   "outputs": [],
   "source": [
    "# step 2: set the strike to par and price callable and putable bonds\n",
    "strike = vanilla_Bond_Tree.iloc[0, 0] # par value\n",
    "bond_name = 'B' # bond name\n",
    "b_Bond_Tree = price_Bond_Tree(p_up, p_down, strike, bond_name, Bond_Data, IR_Tree)\n",
    "bond_name = 'C' # bond name\n",
    "c_Bond_Tree = price_Bond_Tree(p_up, p_down, strike, bond_name, Bond_Data, IR_Tree)"
   ]
  },
  {
   "cell_type": "code",
   "execution_count": 153,
   "metadata": {},
   "outputs": [
    {
     "data": {
      "text/html": [
       "<div>\n",
       "<style scoped>\n",
       "    .dataframe tbody tr th:only-of-type {\n",
       "        vertical-align: middle;\n",
       "    }\n",
       "\n",
       "    .dataframe tbody tr th {\n",
       "        vertical-align: top;\n",
       "    }\n",
       "\n",
       "    .dataframe thead th {\n",
       "        text-align: right;\n",
       "    }\n",
       "</style>\n",
       "<table border=\"1\" class=\"dataframe\">\n",
       "  <thead>\n",
       "    <tr style=\"text-align: right;\">\n",
       "      <th></th>\n",
       "      <th>0</th>\n",
       "      <th>1</th>\n",
       "      <th>2</th>\n",
       "      <th>3</th>\n",
       "    </tr>\n",
       "  </thead>\n",
       "  <tbody>\n",
       "    <tr>\n",
       "      <th>0</th>\n",
       "      <td>98.223534</td>\n",
       "      <td>95.730725</td>\n",
       "      <td>99.170329</td>\n",
       "      <td>104.4</td>\n",
       "    </tr>\n",
       "    <tr>\n",
       "      <th>1</th>\n",
       "      <td>NaN</td>\n",
       "      <td>96.336402</td>\n",
       "      <td>99.170329</td>\n",
       "      <td>104.4</td>\n",
       "    </tr>\n",
       "    <tr>\n",
       "      <th>2</th>\n",
       "      <td>NaN</td>\n",
       "      <td>NaN</td>\n",
       "      <td>99.170329</td>\n",
       "      <td>104.4</td>\n",
       "    </tr>\n",
       "    <tr>\n",
       "      <th>3</th>\n",
       "      <td>NaN</td>\n",
       "      <td>NaN</td>\n",
       "      <td>NaN</td>\n",
       "      <td>104.4</td>\n",
       "    </tr>\n",
       "  </tbody>\n",
       "</table>\n",
       "</div>"
      ],
      "text/plain": [
       "           0          1          2      3\n",
       "0  98.223534  95.730725  99.170329  104.4\n",
       "1        NaN  96.336402  99.170329  104.4\n",
       "2        NaN        NaN  99.170329  104.4\n",
       "3        NaN        NaN        NaN  104.4"
      ]
     },
     "execution_count": 153,
     "metadata": {},
     "output_type": "execute_result"
    }
   ],
   "source": [
    "b_Bond_Tree # callable"
   ]
  },
  {
   "cell_type": "code",
   "execution_count": null,
   "metadata": {},
   "outputs": [
    {
     "data": {
      "text/html": [
       "<div>\n",
       "<style scoped>\n",
       "    .dataframe tbody tr th:only-of-type {\n",
       "        vertical-align: middle;\n",
       "    }\n",
       "\n",
       "    .dataframe tbody tr th {\n",
       "        vertical-align: top;\n",
       "    }\n",
       "\n",
       "    .dataframe thead th {\n",
       "        text-align: right;\n",
       "    }\n",
       "</style>\n",
       "<table border=\"1\" class=\"dataframe\">\n",
       "  <thead>\n",
       "    <tr style=\"text-align: right;\">\n",
       "      <th></th>\n",
       "      <th>0</th>\n",
       "      <th>1</th>\n",
       "      <th>2</th>\n",
       "      <th>3</th>\n",
       "    </tr>\n",
       "  </thead>\n",
       "  <tbody>\n",
       "    <tr>\n",
       "      <th>0</th>\n",
       "      <td>101.291276</td>\n",
       "      <td>99.170329</td>\n",
       "      <td>99.763968</td>\n",
       "      <td>104.4</td>\n",
       "    </tr>\n",
       "    <tr>\n",
       "      <th>1</th>\n",
       "      <td>NaN</td>\n",
       "      <td>99.170329</td>\n",
       "      <td>100.573578</td>\n",
       "      <td>104.4</td>\n",
       "    </tr>\n",
       "    <tr>\n",
       "      <th>2</th>\n",
       "      <td>NaN</td>\n",
       "      <td>NaN</td>\n",
       "      <td>101.246181</td>\n",
       "      <td>104.4</td>\n",
       "    </tr>\n",
       "    <tr>\n",
       "      <th>3</th>\n",
       "      <td>NaN</td>\n",
       "      <td>NaN</td>\n",
       "      <td>NaN</td>\n",
       "      <td>104.4</td>\n",
       "    </tr>\n",
       "  </tbody>\n",
       "</table>\n",
       "</div>"
      ],
      "text/plain": [
       "            0          1           2      3\n",
       "0  101.291276  99.170329   99.763968  104.4\n",
       "1         NaN  99.170329  100.573578  104.4\n",
       "2         NaN        NaN  101.246181  104.4\n",
       "3         NaN        NaN         NaN  104.4"
      ]
     },
     "execution_count": 12,
     "metadata": {},
     "output_type": "execute_result"
    }
   ],
   "source": [
    "c_Bond_Tree # callable"
   ]
  },
  {
   "cell_type": "markdown",
   "metadata": {},
   "source": [
    "Bond B (callable) < Vanilla Bond < Bond C (putable)\n",
    "\n",
    "- The price of a callable bond is always lower than the price of a straight bond, because the call option adds value to the issuer. \n",
    "- The price of a puttable bond is always higher than the price of a straight bond, due to the option premium (put) that the investors pay to the issuer."
   ]
  },
  {
   "cell_type": "markdown",
   "metadata": {},
   "source": [
    "## F"
   ]
  },
  {
   "cell_type": "markdown",
   "metadata": {},
   "source": [
    "<p style = 'text-align: justify;'>A fall in interest rates on the vanilla (bullet) bond with the same characteristics as B and C (price=99.17), causes the bond to appreciate since future cash flows are discounted at at a lower rate (price new > price). \n",
    "\n",
    "<p style = 'text-align: justify;'>Bond B is callable, offering the issuer the option to recall/redeem the bond at a specified price (par in this case) during certain periods before maturity (start of year 1 and year 2). An issuer may choose to recall a bond if it forecasts lower interest rates, so that it can proceed to re-issue the bond at a lower rate. A fall in interest rates makes it more likely for the issuer to redeem a callable bond, which is reflected in the price of the option embedded in the bond (option value = vanilla bond price - callable/putable bond price). When an issuer sells a callable bond, it also sells (writes) a call option: the option writer gets the premium up-front, but has a downside if the option is exercised. In case of a fall in interest rates, the option is more likely to be exercised and its premium (price) increases. The issuer has to offer a discount (relative to the vanilla bond) in order to attract investors. Everything else being equal, the fall in interest rates causes the price of bond B to be wider relative to its vanilla counterpart (which increases in the first place because of a fall in interest rates).\n",
    "\n",
    "<p style = 'text-align: justify;'>Bond C is putable, which means that the bond-holder has the right to demand early repayment of the principal (it protects investors, contrarily to a callable bond which protects the issuer). The price behaviour of puttable bonds is the opposite of that of a callable bond, because the issuer effectively sells (writes) a put option to the investors. In case of a fall in interest rates, it is less likely that the investors sell the bond back to the issuer (before maturity) and do not benefit from the low rates environment. The issuer writes a put and receives the premium, and after the fall in interest rates the price of the put is lower with respect to its initial level. Everything else being equal, the fall in interest rates causes the price of bond C to be closer relative to its vanilla counterpart (which increases in the first place because of a fall in interest rates). </p>"
   ]
  },
  {
   "cell_type": "markdown",
   "metadata": {},
   "source": [
    "## G"
   ]
  },
  {
   "cell_type": "markdown",
   "metadata": {},
   "source": [
    "<p style = 'text-align: justify;'>Because of the optionality embedded in the callable and putable bonds, I analyse the effect of an increase in realised volatility on the option premia (call and put respectively). An increase in realised vol (which translates into higher implied vol) makes the option premia increase equally for puts and calls. When the issuer sells a put to the investor, the price of the putable bond is equal to the vanilla price plus the put premium, thus bond C is most likely to increase in value if interest rate volatility increases. </p>"
   ]
  },
  {
   "cell_type": "markdown",
   "metadata": {},
   "source": [
    "# Question 3"
   ]
  },
  {
   "cell_type": "code",
   "execution_count": null,
   "metadata": {},
   "outputs": [],
   "source": [
    "def d1(stock, strike, r, sigma, T):\n",
    "    Moneyness = m.log(stock / strike)\n",
    "    shift = r + 0.5 * (sigma**2)\n",
    "    d1 = (1 / (sigma * m.sqrt(T)) * (Moneyness + shift * T))\n",
    "    return d1\n",
    "    \n",
    "def d2(d1, sigma, T):\n",
    "    d2 = d1 - sigma * m.sqrt(T)\n",
    "    return d2\n",
    "\n",
    "def call_option(d1, d2, stock, strike, r, T):\n",
    "    call = stock * norm.cdf(d1) - m.exp(-r * T) * strike * norm.cdf(d2)\n",
    "    return call \n",
    "\n",
    "def put_option(call_price, S, K, r, T):\n",
    "    Put_price = call_price - S + (K * np.exp(-r * T)) # put-call parity\n",
    "    return Put_price\n",
    "\n",
    "def num_comb(n, j):\n",
    "    y = m.factorial(n) / (m.factorial(j) * m.factorial(n - j))\n",
    "    return y\n",
    "\n",
    "def binomial_prob(p, n, j):\n",
    "    y = (p**j) * ((1 - p)**(n - j))\n",
    "    return y\n",
    "\n",
    "def stock_price(up, down, n, j, S):\n",
    "    y = ((up**j) * (down**(n-j)) * S)\n",
    "    return y\n",
    "\n",
    "def payoff_Call(up, down, n, j, S, K):\n",
    "    y = np.max((stock_price(up, down, n, j, S) - K, 0))\n",
    "    return y\n",
    "\n",
    "def price_Option(n, S, K, T, vol, r):\n",
    "    # inputs\n",
    "    time_factor = T / n\n",
    "    up = m.exp(vol * np.sqrt(time_factor)) # up move\n",
    "    down = 1 / up # down move\n",
    "    R = m.exp(r * time_factor) # denominator of discount factor\n",
    "    p = (R - down) / (up - down) # implied probability\n",
    "    \n",
    "    # initialise\n",
    "    partial_prices = np.empty((n, 1))\n",
    "    payoffs = np.empty((n, 1))\n",
    "    stock_prices = np.empty((n, 1))\n",
    "    \n",
    "    # binomial method\n",
    "    for j in range(n):\n",
    "        stock_prices[j] = stock_price(up, down, n, j, S) # stock prices at maturity\n",
    "        payoffs[j] = payoff_Call(up, down, n, j, S, K) # payoffs at maturity\n",
    "        partial_prices[j] = num_comb(n, j) * binomial_prob(p, n, j) * payoff_Call(up, down, n, j, S, K)\n",
    "    \n",
    "    # call price\n",
    "    call_price = (1 / R) * np.sum(partial_prices) \n",
    "    # put price\n",
    "    put_price = call_price - S + (K * np.exp(-r * T)) # put-call parity\n",
    "\n",
    "    return call_price, put_price, payoffs, stock_prices"
   ]
  },
  {
   "cell_type": "markdown",
   "metadata": {},
   "source": [
    "## A"
   ]
  },
  {
   "cell_type": "markdown",
   "metadata": {},
   "source": [
    "<p style = 'text-align: justify;'>Forward Contracts are usually traded Over The Counter (OTC) and do not have a single delivery date. In most cases they are settled at the end of the contract and delivery usually takes place. There is credit risk as the counterparty may not be able to meet the obligation. \n",
    "\n",
    "<p style = 'text-align: justify;'>In contrast, a future contract is traded on an exchange. There is a wide range of delivery dates, and the contracts can be closed prior to maturity. There is also no credit risk involved because these instruments are traded on an exchange and a clearing house guarantees against default risk by taking both sides of the trade and marking to market their positions every night.</p>"
   ]
  },
  {
   "cell_type": "markdown",
   "metadata": {},
   "source": [
    "## B"
   ]
  },
  {
   "cell_type": "markdown",
   "metadata": {},
   "source": [
    "$T=1y$ ; $F_0=110$\n",
    "\n",
    "$S_0=100 ; r=2%$\n",
    "\n",
    "$F_t=S_t(1+r)-div$\n",
    "\n",
    "$F_t=S_t(1+r(x/365))-div$\n",
    "\n",
    "\n",
    "$F_0=110$  \n",
    "\n",
    "$\\hat{F_0} = 100(1+0.02)=102 (Fair Price)$\n",
    "\n",
    "if $\\hat{F_0} < F_0$ then $F_0$ will decline -> short the future \n",
    "\n",
    "otherwise -> long future\n",
    " \n",
    " Now:\n",
    " - Sell futures contract; \n",
    " - Borrow Stock at risk free rate;\n",
    " - Buy Stock;\n",
    " \n",
    " At time t:\n",
    " - delivery of futureds contract\n",
    " - pay back the loan"
   ]
  },
  {
   "cell_type": "markdown",
   "metadata": {},
   "source": [
    "## C"
   ]
  },
  {
   "cell_type": "markdown",
   "metadata": {},
   "source": [
    "$T=1y$ ; $F_0=95$\n",
    "\n",
    "$S_0=100 ; r=2%$\n",
    "\n",
    "$F_t=S_t(1+r)-div$\n",
    "\n",
    "$F_t=S_t(1+r(x/365))-div$\n",
    "\n",
    "\n",
    "$F_0=95$  \n",
    "\n",
    "$\\hat{F_0} = 100(1+0.02)=102 (Fair Price)$\n",
    "\n",
    "if $\\hat{F_0} > F_0$ then $F_0$ will increase -> long the future\n",
    " \n",
    " Now:\n",
    " - buy futures contract; \n",
    " - short sell stock;\n",
    " - lend the premium collected from short selling at the risk free rate;\n",
    " \n",
    " At time t:\n",
    " - collect interest on loan\n",
    " - take the delivery of the futures contract\n",
    " - return the borrowed stock (from short selling)"
   ]
  },
  {
   "cell_type": "markdown",
   "metadata": {},
   "source": [
    "## D"
   ]
  },
  {
   "cell_type": "code",
   "execution_count": null,
   "metadata": {},
   "outputs": [
    {
     "data": {
      "text/plain": [
       "4.694615032107006"
      ]
     },
     "execution_count": 14,
     "metadata": {},
     "output_type": "execute_result"
    }
   ],
   "source": [
    "# inputs\n",
    "S = 57.03 # current stock price\n",
    "K = 55 # strike\n",
    "r = 0.22 / 100 # risk-free rate (p.a.)\n",
    "vol = 0.32 # implied vol (p.a.)\n",
    "T = 0.25 # time to expiration (in years)\n",
    "\n",
    "# Black-Scholes price\n",
    "d1_input = d1(S, K, r, vol, T)\n",
    "d2_input = d2(d1_input, vol, T)\n",
    "call_price_BS = call_option(d1_input, d2_input, S, K, r, T)\n",
    "call_price_BS "
   ]
  },
  {
   "cell_type": "markdown",
   "metadata": {},
   "source": [
    "## E"
   ]
  },
  {
   "cell_type": "markdown",
   "metadata": {},
   "source": [
    "To replicate a call consider: \n",
    "    Δc units of Stock\n",
    "    B units of lending \n",
    "    \n",
    "Call = Borrowing B + buying Δ of underlying stock "
   ]
  },
  {
   "cell_type": "markdown",
   "metadata": {},
   "source": [
    "## F"
   ]
  },
  {
   "cell_type": "code",
   "execution_count": null,
   "metadata": {},
   "outputs": [
    {
     "data": {
      "text/plain": [
       "4.696228989748563"
      ]
     },
     "execution_count": 16,
     "metadata": {},
     "output_type": "execute_result"
    }
   ],
   "source": [
    "# inputs\n",
    "n = 100 # number of periods in the binomial tree (number of terminal values)\n",
    "# binomial formula for a European call/put on non-dividend paying stock n periods from expiration\n",
    "call_price_BN, cut_price_BN, payoffs_BN, stock_prices_BN = price_Option(n, S, K, T, vol, r)\n",
    "call_price_BN"
   ]
  },
  {
   "cell_type": "markdown",
   "metadata": {},
   "source": [
    "## G"
   ]
  },
  {
   "cell_type": "code",
   "execution_count": null,
   "metadata": {},
   "outputs": [
    {
     "data": {
      "image/png": "[encoded data removed]",
      "text/plain": [
       "<Figure size 432x288 with 1 Axes>"
      ]
     },
     "metadata": {
      "needs_background": "light"
     },
     "output_type": "display_data"
    }
   ],
   "source": [
    "# inputs\n",
    "N = 100 # number of steps\n",
    "\n",
    "# calculate option prices using the binomial formula\n",
    "range_N = range(N)\n",
    "prices = np.empty([N, 1])\n",
    "\n",
    "for i in range_N:\n",
    "    ii = i+1 # n loop\n",
    "    call_price_BN, put_price_BN, payoffs_BN, stock_prices_BN = price_Option(ii, S, K, T, vol, r)\n",
    "    prices[i] = call_price_BN\n",
    "\n",
    "# plot    \n",
    "fig, ax = plt.subplots()    \n",
    "ax.plot(range_N, prices)\n",
    "ax.axhline(y = call_price_BS, color = 'r', linestyle = '--')\n",
    "ax.legend(['Binomial', 'Black-Scholes'])\n",
    "plt.xlabel('n')\n",
    "plt.ylabel('Call Price ($)')\n",
    "plt.show()"
   ]
  },
  {
   "cell_type": "markdown",
   "metadata": {},
   "source": [
    "With increasing number of terminal values/steps in the Binomial tree (n), the Binomial price converges to the Black-Scholes price. This is because the binomial tree is in practice a discretisation of the solution in B-S, which is developed in a continous-time framework.  "
   ]
  },
  {
   "cell_type": "markdown",
   "metadata": {},
   "source": [
    "## H"
   ]
  },
  {
   "cell_type": "code",
   "execution_count": null,
   "metadata": {},
   "outputs": [],
   "source": [
    "def call_payoff (S, K, premium):\n",
    "    return np.where(S > K, S - K, 0) - premium\n",
    "\n",
    "# inputs\n",
    "S = 57.03 # current stock price\n",
    "\n",
    "# long call position\n",
    "higher_strike_price_long_call = 60\n",
    "lower_strike_price_long_call = 50\n",
    "premium_higher_strike_long_call = 5\n",
    "premium_lower_strike_long_call = 10\n",
    "\n",
    "# short call position\n",
    "strike_price_short_call = 55\n",
    "premium_short_call = 7\n",
    "sT = np.arange(10, 100, 1) # range of prices"
   ]
  },
  {
   "cell_type": "code",
   "execution_count": null,
   "metadata": {},
   "outputs": [
    {
     "data": {
      "image/png": "[encoded data removed]",
      "text/plain": [
       "<Figure size 432x288 with 1 Axes>"
      ]
     },
     "metadata": {
      "needs_background": "light"
     },
     "output_type": "display_data"
    }
   ],
   "source": [
    "# long call lower strike\n",
    "lower_strike_long_call_payoff = call_payoff(sT, lower_strike_price_long_call, premium_lower_strike_long_call)\n",
    "\n",
    "# long call higher strike\n",
    "higher_strike_long_call_payoff = call_payoff(sT, higher_strike_price_long_call, premium_higher_strike_long_call)\n",
    "\n",
    "# short call \n",
    "short_call_payoff = call_payoff(sT, strike_price_short_call, premium_short_call) * -1\n",
    "\n",
    "# calculate strategy payoff\n",
    "butterfly_spread_payoff = lower_strike_long_call_payoff + higher_strike_long_call_payoff + (2 * short_call_payoff)\n",
    "\n",
    "# plot strategy payoff\n",
    "fig, ax = plt.subplots()\n",
    "ax.plot(sT, butterfly_spread_payoff , color = 'b', label = 'Butterfly Spread')\n",
    "ax.plot(sT, lower_strike_long_call_payoff, '--', color = 'g', label = '50 Strike Long Call')\n",
    "ax.plot(sT, higher_strike_long_call_payoff, '--', color = 'g', label = '60 Strike Long Call')\n",
    "ax.plot(sT, short_call_payoff, '--', color='r', label = '55 Strike Short call')\n",
    "plt.legend()\n",
    "plt.xlabel('Stock Price ($)')\n",
    "plt.ylabel('Profit & Loss ($)')\n",
    "plt.show()"
   ]
  },
  {
   "cell_type": "markdown",
   "metadata": {},
   "source": [
    "## I"
   ]
  },
  {
   "cell_type": "markdown",
   "metadata": {},
   "source": [
    "Investors can enter this strategy if they believe that the stock price will stay in between K1 and K3. The profit is maximized when the stock price lies in the middle of these two strike prices at expiry. Therefore in a low volatility environment this strategy can yield nice short term returns for investors. "
   ]
  },
  {
   "cell_type": "markdown",
   "metadata": {},
   "source": [
    "# Question 4"
   ]
  },
  {
   "cell_type": "markdown",
   "metadata": {},
   "source": [
    "## A"
   ]
  },
  {
   "cell_type": "code",
   "execution_count": null,
   "metadata": {},
   "outputs": [
    {
     "data": {
      "text/html": [
       "<div>\n",
       "<style scoped>\n",
       "    .dataframe tbody tr th:only-of-type {\n",
       "        vertical-align: middle;\n",
       "    }\n",
       "\n",
       "    .dataframe tbody tr th {\n",
       "        vertical-align: top;\n",
       "    }\n",
       "\n",
       "    .dataframe thead th {\n",
       "        text-align: right;\n",
       "    }\n",
       "</style>\n",
       "<table border=\"1\" class=\"dataframe\">\n",
       "  <thead>\n",
       "    <tr style=\"text-align: right;\">\n",
       "      <th></th>\n",
       "      <th>AAPL</th>\n",
       "      <th>AMZN</th>\n",
       "      <th>FB</th>\n",
       "      <th>GOOG</th>\n",
       "    </tr>\n",
       "    <tr>\n",
       "      <th>Date</th>\n",
       "      <th></th>\n",
       "      <th></th>\n",
       "      <th></th>\n",
       "      <th></th>\n",
       "    </tr>\n",
       "  </thead>\n",
       "  <tbody>\n",
       "    <tr>\n",
       "      <th>2017-01-04</th>\n",
       "      <td>-0.001119</td>\n",
       "      <td>0.004657</td>\n",
       "      <td>0.015660</td>\n",
       "      <td>0.000967</td>\n",
       "    </tr>\n",
       "    <tr>\n",
       "      <th>2017-01-05</th>\n",
       "      <td>0.005085</td>\n",
       "      <td>0.030732</td>\n",
       "      <td>0.016682</td>\n",
       "      <td>0.009048</td>\n",
       "    </tr>\n",
       "    <tr>\n",
       "      <th>2017-01-06</th>\n",
       "      <td>0.011148</td>\n",
       "      <td>0.019912</td>\n",
       "      <td>0.022707</td>\n",
       "      <td>0.015277</td>\n",
       "    </tr>\n",
       "    <tr>\n",
       "      <th>2017-01-09</th>\n",
       "      <td>0.009160</td>\n",
       "      <td>0.001168</td>\n",
       "      <td>0.012074</td>\n",
       "      <td>0.000620</td>\n",
       "    </tr>\n",
       "    <tr>\n",
       "      <th>2017-01-10</th>\n",
       "      <td>0.001008</td>\n",
       "      <td>-0.001280</td>\n",
       "      <td>-0.004404</td>\n",
       "      <td>-0.002306</td>\n",
       "    </tr>\n",
       "  </tbody>\n",
       "</table>\n",
       "</div>"
      ],
      "text/plain": [
       "                AAPL      AMZN        FB      GOOG\n",
       "Date                                              \n",
       "2017-01-04 -0.001119  0.004657  0.015660  0.000967\n",
       "2017-01-05  0.005085  0.030732  0.016682  0.009048\n",
       "2017-01-06  0.011148  0.019912  0.022707  0.015277\n",
       "2017-01-09  0.009160  0.001168  0.012074  0.000620\n",
       "2017-01-10  0.001008 -0.001280 -0.004404 -0.002306"
      ]
     },
     "execution_count": 20,
     "metadata": {},
     "output_type": "execute_result"
    }
   ],
   "source": [
    "# inputs\n",
    "tickers = ['GOOG', 'AAPL', 'AMZN', 'FB']\n",
    "start_date = '2017-01-01'\n",
    "end_date = '2020-12-31'\n",
    "freq = '1d' # daily\n",
    "\n",
    "# download data using yahoo finance API\n",
    "data_df = yf.download(tickers, \n",
    "                      start = start_date,\n",
    "                      end = end_date,\n",
    "                      interval = freq,\n",
    "                      progress = False,\n",
    "                      auto_adjust = True)\n",
    "\n",
    "# calculate arithmetic (simple) returns on closing end-of-day prices\n",
    "Return = ((data_df.Close / data_df.Close.shift(1)) - 1) \n",
    "Return = Return.iloc[1:, :].dropna() # delete nans\n",
    "\n",
    "# calculate cumulative returns\n",
    "cumRet = Return.apply(lambda x : (x+1).cumprod()) -1\n",
    "Return.head()"
   ]
  },
  {
   "cell_type": "markdown",
   "metadata": {},
   "source": [
    "## B"
   ]
  },
  {
   "cell_type": "code",
   "execution_count": null,
   "metadata": {},
   "outputs": [
    {
     "data": {
      "text/html": [
       "<div>\n",
       "<style scoped>\n",
       "    .dataframe tbody tr th:only-of-type {\n",
       "        vertical-align: middle;\n",
       "    }\n",
       "\n",
       "    .dataframe tbody tr th {\n",
       "        vertical-align: top;\n",
       "    }\n",
       "\n",
       "    .dataframe thead th {\n",
       "        text-align: right;\n",
       "    }\n",
       "</style>\n",
       "<table border=\"1\" class=\"dataframe\">\n",
       "  <thead>\n",
       "    <tr style=\"text-align: right;\">\n",
       "      <th></th>\n",
       "      <th>GOOG</th>\n",
       "      <th>AAPL</th>\n",
       "      <th>AMZN</th>\n",
       "      <th>FB</th>\n",
       "    </tr>\n",
       "  </thead>\n",
       "  <tbody>\n",
       "    <tr>\n",
       "      <th>GOOG</th>\n",
       "      <td>0.000398</td>\n",
       "      <td>0.000246</td>\n",
       "      <td>0.000263</td>\n",
       "      <td>0.000237</td>\n",
       "    </tr>\n",
       "    <tr>\n",
       "      <th>AAPL</th>\n",
       "      <td>0.000246</td>\n",
       "      <td>0.000372</td>\n",
       "      <td>0.000261</td>\n",
       "      <td>0.000230</td>\n",
       "    </tr>\n",
       "    <tr>\n",
       "      <th>AMZN</th>\n",
       "      <td>0.000263</td>\n",
       "      <td>0.000261</td>\n",
       "      <td>0.000459</td>\n",
       "      <td>0.000263</td>\n",
       "    </tr>\n",
       "    <tr>\n",
       "      <th>FB</th>\n",
       "      <td>0.000237</td>\n",
       "      <td>0.000230</td>\n",
       "      <td>0.000263</td>\n",
       "      <td>0.000306</td>\n",
       "    </tr>\n",
       "  </tbody>\n",
       "</table>\n",
       "</div>"
      ],
      "text/plain": [
       "          GOOG      AAPL      AMZN        FB\n",
       "GOOG  0.000398  0.000246  0.000263  0.000237\n",
       "AAPL  0.000246  0.000372  0.000261  0.000230\n",
       "AMZN  0.000263  0.000261  0.000459  0.000263\n",
       "FB    0.000237  0.000230  0.000263  0.000306"
      ]
     },
     "execution_count": 21,
     "metadata": {},
     "output_type": "execute_result"
    }
   ],
   "source": [
    "# calculate sample covariance\n",
    "covMatrix = np.cov(Return.T, bias = True)\n",
    "\n",
    "# structure dataframe\n",
    "covMatrix_aux = pd.DataFrame(data = covMatrix,\n",
    "                             columns = tickers,\n",
    "                             index = tickers)\n",
    "covMatrix_aux"
   ]
  },
  {
   "cell_type": "markdown",
   "metadata": {},
   "source": [
    "## C"
   ]
  },
  {
   "cell_type": "markdown",
   "metadata": {},
   "source": [
    "$E_p = w' \\mu = \\sum_{i = 1}^{N} w_{i} E[R_i]$ s.t. $\\mu = E[R]$, (Nx1) vector"
   ]
  },
  {
   "cell_type": "markdown",
   "metadata": {},
   "source": [
    "$Var_p = w' \\Sigma w = \\sum_{i = 1}^{N} w_{i} w_{j} cov(i, j)$ with $i \\neq j$ s.t. $\\Sigma$ (NxN) covariance matrix"
   ]
  },
  {
   "cell_type": "code",
   "execution_count": null,
   "metadata": {},
   "outputs": [],
   "source": [
    "# calculate weights\n",
    "n = Return.shape[1]\n",
    "weights = [1 / n] * n\n",
    "\n",
    "# estimate asset moments\n",
    "means = np.mean(Return, axis = 0)\n",
    "\n",
    "# structure dataframe\n",
    "means_aux = pd.DataFrame(data = means, columns = ['mean'])\n",
    "\n",
    "# portfolio expected return\n",
    "portfolio_return = np.matmul(weights, means) \n",
    "\n",
    "# portfolio variance\n",
    "w_aux = np.matmul(weights, covMatrix)\n",
    "portfolio_variance = np.matmul(w_aux, weights)\n",
    "\n",
    "# annualise values\n",
    "ndays = 250 # number of business days in a year in the US\n",
    "portfolio_return_annual = portfolio_return * ndays\n",
    "portfolio_variance_annual = portfolio_variance * np.sqrt(ndays)"
   ]
  },
  {
   "cell_type": "code",
   "execution_count": null,
   "metadata": {},
   "outputs": [
    {
     "data": {
      "text/plain": [
       "34.0134400576706"
      ]
     },
     "execution_count": 23,
     "metadata": {},
     "output_type": "execute_result"
    }
   ],
   "source": [
    "portfolio_return_annual * 100 # in %"
   ]
  },
  {
   "cell_type": "code",
   "execution_count": null,
   "metadata": {},
   "outputs": [
    {
     "data": {
      "text/plain": [
       "0.44810856541319866"
      ]
     },
     "execution_count": 24,
     "metadata": {},
     "output_type": "execute_result"
    }
   ],
   "source": [
    "portfolio_variance_annual * 100 # in %"
   ]
  },
  {
   "cell_type": "markdown",
   "metadata": {},
   "source": [
    "## D"
   ]
  },
  {
   "cell_type": "code",
   "execution_count": null,
   "metadata": {},
   "outputs": [],
   "source": [
    "# inputs\n",
    "rf = 0.01 # zero risk-free rate (p.a.)\n",
    "N_sim = 1000\n",
    "\n",
    "# structure dataframe\n",
    "means_aux = pd.DataFrame(data = means)\n",
    "\n",
    "# initialise\n",
    "mean_variance_pairs = []\n",
    "weights_list = [] \n",
    "tickers_list = []\n",
    "\n",
    "# calculate efficient frontier\n",
    "for i in range(N_sim): # simulations\n",
    "    next_i = False\n",
    "    while True:\n",
    "        # draw assets randomly without replacement\n",
    "        assets = np.random.choice(tickers, n, replace = False)\n",
    "        \n",
    "        # draw random weights\n",
    "        weights = np.random.rand(n)\n",
    "        weights = weights / sum(weights)\n",
    "        \n",
    "        # loop over asset pairs and compute portfolio moments\n",
    "        portfolio_E_Variance = 0\n",
    "        portfolio_E_Return = 0\n",
    "        \n",
    "        for i in range(len(assets)):\n",
    "            portfolio_E_Return += weights[i] * means_aux.loc[assets[i]][0]\n",
    "            \n",
    "            for j in range(len(assets)):\n",
    "                portfolio_E_Variance += weights[i] * weights[j] * covMatrix_aux.loc[assets[i], assets[j]]\n",
    "        \n",
    "        # delete dominated portfolios (portfolios with ret < avg ret and/or with var > avg var)\n",
    "        for R, V in mean_variance_pairs:\n",
    "            if (R > portfolio_E_Return) & (V < portfolio_E_Variance): # not dominated\n",
    "                next_i = True\n",
    "                break\n",
    "        \n",
    "        # exit loop condition        \n",
    "        if next_i:\n",
    "            break\n",
    "        \n",
    "        # append mean/variance pairs\n",
    "        mean_variance_pairs.append([portfolio_E_Return, portfolio_E_Variance])\n",
    "        \n",
    "        # append weights\n",
    "        weights_list.append(weights)\n",
    "        \n",
    "        # append asset list\n",
    "        tickers_list.append(assets)\n",
    "        break\n",
    "\n",
    "# structure dataframes\n",
    "mean_variance_pairs_aux = pd.DataFrame(data = mean_variance_pairs,\n",
    "                                       columns = ['mean', 'var'])\n",
    "\n",
    "weights_aux = pd.DataFrame(data = weights_list,\n",
    "                                       columns = tickers)\n",
    "\n",
    "# calculate max sharpe ratio (from daily estimates)\n",
    "mean_variance_pairs_aux['SR'] = (mean_variance_pairs_aux['mean'] - (rf / ndays)) / mean_variance_pairs_aux['var'] \n",
    "max_SR = np.max(mean_variance_pairs_aux['SR'])\n",
    "idx_opt = (mean_variance_pairs_aux['SR'] == max_SR).values"
   ]
  },
  {
   "cell_type": "code",
   "execution_count": null,
   "metadata": {},
   "outputs": [
    {
     "data": {
      "text/html": [
       "<div>\n",
       "<style scoped>\n",
       "    .dataframe tbody tr th:only-of-type {\n",
       "        vertical-align: middle;\n",
       "    }\n",
       "\n",
       "    .dataframe tbody tr th {\n",
       "        vertical-align: top;\n",
       "    }\n",
       "\n",
       "    .dataframe thead th {\n",
       "        text-align: right;\n",
       "    }\n",
       "</style>\n",
       "<table border=\"1\" class=\"dataframe\">\n",
       "  <thead>\n",
       "    <tr style=\"text-align: right;\">\n",
       "      <th></th>\n",
       "      <th>GOOG</th>\n",
       "      <th>AAPL</th>\n",
       "      <th>AMZN</th>\n",
       "      <th>FB</th>\n",
       "    </tr>\n",
       "  </thead>\n",
       "  <tbody>\n",
       "    <tr>\n",
       "      <th>40</th>\n",
       "      <td>0.063531</td>\n",
       "      <td>0.226531</td>\n",
       "      <td>0.127122</td>\n",
       "      <td>0.582816</td>\n",
       "    </tr>\n",
       "  </tbody>\n",
       "</table>\n",
       "</div>"
      ],
      "text/plain": [
       "        GOOG      AAPL      AMZN        FB\n",
       "40  0.063531  0.226531  0.127122  0.582816"
      ]
     },
     "execution_count": 26,
     "metadata": {},
     "output_type": "execute_result"
    }
   ],
   "source": [
    "weights_aux[idx_opt]"
   ]
  },
  {
   "cell_type": "code",
   "execution_count": null,
   "metadata": {},
   "outputs": [
    {
     "data": {
      "text/plain": [
       "5.141806914812957"
      ]
     },
     "execution_count": 27,
     "metadata": {},
     "output_type": "execute_result"
    }
   ],
   "source": [
    "max_SR # based on daily figures (means, vars)"
   ]
  },
  {
   "cell_type": "markdown",
   "metadata": {},
   "source": [
    "## E"
   ]
  },
  {
   "cell_type": "code",
   "execution_count": null,
   "metadata": {},
   "outputs": [
    {
     "data": {
      "image/png": "[encoded data removed]",
      "text/plain": [
       "<Figure size 432x288 with 2 Axes>"
      ]
     },
     "metadata": {
      "needs_background": "light"
     },
     "output_type": "display_data"
    }
   ],
   "source": [
    "# # annualise values\n",
    "mean_variance_pairs_aux['mean'] = mean_variance_pairs_aux['mean'] * ndays\n",
    "mean_variance_pairs_aux['var'] = mean_variance_pairs_aux['var'] * np.sqrt(ndays)\n",
    "\n",
    "# create plot\n",
    "ax = mean_variance_pairs_aux.plot.scatter(x = 'var',\n",
    "                                          y = 'mean',\n",
    "                                          c = 'SR',\n",
    "                                          title = 'Efficient Frontier',\n",
    "                                          sharex = False)\n",
    "plt.xlabel('Annualised Variance')\n",
    "plt.ylabel('Annualised Return')\n",
    "plt.show()\n",
    "# note: shades of grey represent portfolio sharpe ratios"
   ]
  },
  {
   "cell_type": "markdown",
   "metadata": {},
   "source": [
    "## F"
   ]
  },
  {
   "cell_type": "markdown",
   "metadata": {},
   "source": [
    "The current portfolio consists of four US tech stocks which means the portfolio is cyclical. The portfolio includes only largely capitalised companies.\n",
    "\n",
    "To improve the portfolio diversification, the following should be considered: \n",
    "-\tEquities unrelated to the economic cycle, examples of non-cyclical stocks are Coca Cola, Walmart, Mc Donalds. Tech stocks perform poorly in high interest rate environments because they are valued using discounted cash flow models. Higher interest rates result in a lower value of the future cashflows of these companies which means that their valuations will decrease and hence the performance of the whole portfolio will suffer. \n",
    "-\tEmerging market equities including far east in order to diversify the geographical locations of the stocks in the portfolio. \n",
    "-\tAdd stocks with lower market capitalizations. Usually those stocks have higher risk return profiles. By merging small and big caps stocks in a portfolio, you are including stocks with different risk profiles hence the portfolio is being diversified. \n",
    "-\tInclude different asset classes such as bonds, options, mutual funds, indexes, and commodities. This will help to diversify the portfolio on an asset class level and this is the most effective diversification for a portfolio. \n"
   ]
  },
  {
   "cell_type": "markdown",
   "metadata": {},
   "source": [
    "# Question 5"
   ]
  },
  {
   "cell_type": "code",
   "execution_count": 115,
   "metadata": {},
   "outputs": [],
   "source": [
    "import datetime\n",
    "\n",
    "# Read the correct xlsx sheet and skip the first two rows\n",
    "data = pd.read_excel(\"2015-vbt-smoker-distinct-alb-anb.xlsx\", sheet_name=\"2015 FSM ANB\", skiprows=2)\n",
    "\n",
    "# Set the index to the age for easier indexing\n",
    "data = data.set_index(\"Iss. Age\")\n",
    "\n",
    "# Drop Att. Age as it won't be needed in the calculations\n",
    "data = data.drop(columns=[\"Att. Age\"])\n",
    "\n",
    "# Divide the data by 1000 to get it for a single person. We can iterate over all columns because the Iss. Age is already in the index and Att. Age was removed\n",
    "for col in data.columns:\n",
    "    data[col] /= 1000\n",
    " \n",
    "# 26th period (Ultimate) is treated differently\n",
    "TOTAL_PERIODS = data.shape[1] - 1\n",
    "TOTAL_AGE = data.shape[0] - 1 + data.index.min()\n",
    "\n",
    "# Calculate Alice's age\n",
    "today =  datetime.datetime(2022, 3, 13)\n",
    "born = datetime.datetime(1983, 10, 28)\n",
    "age = today.year - born.year - ((today.month, today.day) < (born.month, born.day))"
   ]
  },
  {
   "cell_type": "markdown",
   "metadata": {},
   "source": [
    "2015 Valuation Basic Table (VBT) includes the mortality evaluation of male / female, smoker / nonsmoker and age-nearest birthday (ANB) / age-last birthday (ALB).\n",
    "Since Alice is born on 28th October 1983 and today's date is 13th March 2022, she classifies as 38 years old according to the ANB.\n",
    "She is also a female smoker which concludes that her mortality rate will be taken for Iss. Age 38 from the 2015 FSM ANB sheet.\n",
    "The mortality rates are presented per 1000 meaning that we need to divide the data by 1000 to get the % mortality per person.\n",
    "\n"
   ]
  },
  {
   "attachments": {
    "Q5.png": {
     "image/png": "[encoded data removed]"
    }
   },
   "cell_type": "markdown",
   "metadata": {},
   "source": [
    "![Q5.png](attachment:Q5.png)"
   ]
  },
  {
   "cell_type": "markdown",
   "metadata": {},
   "source": [
    "## A"
   ]
  },
  {
   "cell_type": "code",
   "execution_count": 119,
   "metadata": {},
   "outputs": [
    {
     "name": "stdout",
     "output_type": "stream",
     "text": [
      "Survival rate is 0.9975022688161242\n"
     ]
    }
   ],
   "source": [
    "# Survival Rate from age_current to age_survive (not by the end of age_survive)\n",
    "def survival_rate(data, age_current, age_survive):\n",
    "    duration = age_survive - age_current\n",
    "    npx = 1.0\n",
    "    \n",
    "    # Multiply all survival rates to indicate that all of them are occurring (survive the full 38, 39, 40 and 41 = survive from 38 to 42)\n",
    "    for i in range(duration + 1):\n",
    "        npx = survival_rate_shift(data, npx, age_current, i)\n",
    "        \n",
    "    return npx\n",
    "\n",
    "# Survival Rate from age to age + duration. The code was separated into a function for reusability purposes because survavial_rate() is inefficient\n",
    "def survival_rate_shift(data, npx, age, duration):\n",
    "    if duration <= 0:\n",
    "        return 1\n",
    "    else:\n",
    "        # Decrease the duration by one because npx takes 1 - n-1qx. Only doing these increase and decrease because I'm using the functions on their own somewhere else.\n",
    "        return npx * (1 - mortality_rate(data, age, duration - 1))\n",
    "\n",
    "# Mortality rate taken from the xlsx file\n",
    "def mortality_rate(data, age, duration):\n",
    "    if duration < 0:\n",
    "        return 0\n",
    "    \n",
    "    # Increase by one because the n|qx in the xlsx equals duration of n + 1; 0|qx is duration 0 + 1\n",
    "    duration += 1\n",
    "        \n",
    "    if (duration >= TOTAL_PERIODS):\n",
    "        # We go down the ultimate column when the maximum periods in the row are reached. Note that we also want the Ult for the current age\n",
    "        return data[\"Ult.\"][age + duration - (TOTAL_PERIODS + 1)]\n",
    "    else:\n",
    "        return data[duration][age]\n",
    "\n",
    "print(\"Survival rate is \" + str(survival_rate(data, age, 42)))"
   ]
  },
  {
   "cell_type": "markdown",
   "metadata": {},
   "source": [
    "### Working for question 5a\n",
    "\n",
    "The unconditional survival rate npx represents the probability that a person aged x is alive at the end of the nth year. If someone is aged x, he will survive to age $x+n+1$. In our case, we would want Alice to survive to age 42 which will be equivalent to $_{3}$$p_{38}$ (i.e. alive at the end of $3 + 38 = 41$ or survive to age $3 + 38 + 1 = 42$)\n",
    "\n",
    "The equation is as follows:\n",
    "\n",
    "\n",
    "$$ _{n}p_{x} =\\begin{equation}\n",
    "\\left\\{ \n",
    "  \\begin{aligned}\n",
    "    1,& &\\text{n}\\leq{0}\\\\\n",
    "    \\prod_{m=0}^{n-1}\\,\\left(1 - _{m|}q_{x}\\right),&   &\\text{n}\\geq{1}\\\\   \n",
    "  \\end{aligned}\n",
    "  \\right.\n",
    "\\end{equation}\n",
    "$$\n",
    "\n",
    "where\n",
    "\n",
    "$_{n-1|}q_{x}$ is the probability that a person is dead at the end of the nth year given that he is alive at the end of $(n-1)^{th}$ year:\n",
    "- $_{0|}q_{38} =$ Alice dies by the end of 39$^{\\text{th}}$ age, given she survived 38$^{\\text{th}}$ age!\n",
    "- $_{1|}q_{38} =$ Alice dies by the end of 40$^{\\text{th}}$ age, given she survived 39$^{\\text{th}}$ age!\n",
    "\n",
    "\n",
    "$1 - _{n-1|}q_{x}$ is the probability that a person is alive at the end of the nth year, given that he survived at the end of (n-1)th year:\n",
    "- $1 - _{0|}q_{38} =$ Alice survives by the end of 39$^{\\text{th}}$ age, given she survived 38$^{\\text{th}}$ age!\n",
    "- $1 - _{1|}q_{38} =$ Alice survives by the end of 40$^{\\text{th}}$ age, given she survived 39$^{\\text{th}}$ age!\n",
    "\n",
    "\n",
    "\n",
    "Note that multiplying these two probabilities is equivalent to both of them occurring.\n",
    "\n",
    "Therefore,\n",
    "\n",
    "$$ \\begin{equation}\n",
    "\\left(1 - _{0|}q_{38}\\right)\\left(1 - _{1|}q_{38}\\right)\\left(1 - _{2|}q_{38}\\right)\\left(1 - _{3|}q_{38}\\right)\n",
    "\\end{equation}\n",
    "$$"
   ]
  },
  {
   "attachments": {
    "q6a.png": {
     "image/png": "[encoded data removed]"
    }
   },
   "cell_type": "markdown",
   "metadata": {},
   "source": [
    "![q6a.png](attachment:q6a.png)"
   ]
  },
  {
   "cell_type": "markdown",
   "metadata": {},
   "source": [
    "will give us the probability that Alice lives from 38 to at least 42."
   ]
  },
  {
   "cell_type": "markdown",
   "metadata": {},
   "source": [
    "## B"
   ]
  },
  {
   "cell_type": "code",
   "execution_count": 120,
   "metadata": {},
   "outputs": [
    {
     "name": "stdout",
     "output_type": "stream",
     "text": [
      "Person is expected to live 42.9 more years\n"
     ]
    }
   ],
   "source": [
    "# Remaining life Expectancy from given age\n",
    "def life_expectancy(data, age):\n",
    "    life_expectancy = 0\n",
    "    rate = 1\n",
    "    # Iterate over all periods and all Ultimate values. We have +1 because the iteration stops before the last value\n",
    "    # Other solution would be to iterate while the survival_rate is higher than a certain threshold like 0.00001\n",
    "    # +1 because the loop finished 1 value earlier and +1 because we want to consider the Ult value for the current age as well\n",
    "    for i in range(1, TOTAL_PERIODS + TOTAL_AGE - age + 2):\n",
    "        rate = survival_rate_shift(data, rate, age, i)\n",
    "        life_expectancy += rate\n",
    "        \n",
    "    # Add 0.5 to give on average that people could life half of their last year\n",
    "    return (life_expectancy + 0.5)\n",
    "\n",
    "print(\"Person is expected to live {:.1f} more years\".format(life_expectancy(data, 38)))"
   ]
  },
  {
   "cell_type": "markdown",
   "metadata": {},
   "source": [
    "### Working for question 5b\n",
    "\n",
    "The life expectancy of a person aged x is the expected future lifetime given survival to age x, which is shown below\n",
    "\n",
    "$$\n",
    "\\begin{equation}\n",
    "LE = E[\\text{Lifetime}(x)] = \\sum_{n = 0}^\\infty n \\times \\left( _{n}p_{x}\\right) \\times q_{x+n}\n",
    "\\end{equation}\n",
    "$$\n",
    "\n",
    "where \n",
    "- $n =$ years lived\n",
    "- $q_{x + n} =$ probability of living these years\n",
    "\n",
    "If we substitute $q_{x + n} = \\left( _{n}p_{x}\\right) - \\left( _{n+1}p_{x}\\right)$ and simplify we get:\n",
    "\n",
    "$$\n",
    "\\begin{equation}\n",
    "LE = \\sum_{n = 1}^\\infty \\left( _{n}p_{x}\\right)\n",
    "\\end{equation}\n",
    "$$\n",
    "\n",
    "If we assume that on average people live half year in their last year, we can add 0.5 to the equation\n",
    "\n",
    "$$\n",
    "\\begin{equation}\n",
    "LE = \\sum_{n = 1}^\\infty \\left( _{n}p_{x}\\right) + 0.5\n",
    "\\end{equation}\n",
    "$$\n",
    "\n",
    "Note that this is equivalent to the equation in the lecture slides because this one starts from $n=1$ and adds 0.5, whereas the other starts from $n=0$ and subtracts 0.5.\n",
    "As we increase the surviving years (e.g. survives $38, 39,…, 50,…, 100,… \\infty$), the survival rate will start approaching 0\n",
    "\n",
    "$$\n",
    "\\begin{equation}\n",
    "\\lim_{n \\rightarrow \\infty} \\left( _{n}p_{x}\\right) = 0\n",
    "\\end{equation}\n",
    "$$\n",
    "\n",
    "Therefore, summing all the survival rates will converge to a certain number."
   ]
  },
  {
   "cell_type": "markdown",
   "metadata": {},
   "source": [
    "## C"
   ]
  },
  {
   "cell_type": "code",
   "execution_count": 121,
   "metadata": {},
   "outputs": [
    {
     "name": "stdout",
     "output_type": "stream",
     "text": [
      "Probability of death between year 6 and 9 is 0.00227\n"
     ]
    }
   ],
   "source": [
    "# Death between certain years\n",
    "def death_between_years(data, age_current, age_die_start, age_die_end):\n",
    "    # Retrieve probability of death until age_die_end assuming that the person is already at age_die_start\n",
    "    # Flipping the probability of surviving through all these years should give us the probability of dying in any of these years\n",
    "    q = 1 - survival_rate(data, age_die_start, age_die_end)\n",
    "    \n",
    "    # Retrieve probability of survival to age_die_start\n",
    "    p = survival_rate(data, age_current, age_die_start)\n",
    "    \n",
    "    # The product of two will assume both probabilities occurring (surviving to die_start and dying between die_start and die_end)\n",
    "    return p * q\n",
    "    \n",
    "print(\"Probability of death between year 6 and 9 is {:.5f}\".format(death_between_years(data, 38, 38+6, 38+9)))"
   ]
  },
  {
   "cell_type": "markdown",
   "metadata": {},
   "source": [
    "### Working for question 5c\n",
    "\n",
    "The probability that someone of age x will survive for y years and die in the following z years:\n",
    "\n",
    "$$\n",
    "\\begin{equation}\n",
    "_{y|z}q_{x} = \\left( _{y}p_{x}\\right) \\times \\left( _{z}q_{x + y}\\right)\n",
    "\\end{equation}\n",
    "$$\n",
    "\n",
    "It is essentially the product of surviving from age 38 to 44 and dying between age 44 and the end of 46.\n",
    "The dying age will include the 3-year interval between the end of 6th year (beginning of 44) and the end of 9th year (end of 46).\n",
    "\n",
    "Getting the probability of dying at any of 44, 45 or 46 ages can be achieved by flipping the probability of surviving all 44, 45 and 46 years.\n",
    "\n",
    "$$\n",
    "\\begin{equation}\n",
    "\\left( _{3}q_{44}\\right) = 1 - \\left( _{3}p_{44}\\right)\n",
    "\\end{equation}\n",
    "$$"
   ]
  },
  {
   "cell_type": "markdown",
   "metadata": {},
   "source": [
    "## D"
   ]
  },
  {
   "cell_type": "code",
   "execution_count": 130,
   "metadata": {},
   "outputs": [
    {
     "name": "stdout",
     "output_type": "stream",
     "text": [
      "Minimum Annual Premium Rate is 0.01044\n"
     ]
    }
   ],
   "source": [
    "# Minimum Annual Premium Rate \n",
    "def minimum_premium_rate(data, age, interest_rate):\n",
    "    npx = 1\n",
    "    a = 0\n",
    "    b = 0\n",
    "    \n",
    "    # Iterate over all periods including the ultimate ones as n -> inf will converge\n",
    "    for i in range(TOTAL_PERIODS + TOTAL_AGE - age + 2):\n",
    "        # Discount rate\n",
    "        discount = (1 + interest_rate)**i \n",
    "        \n",
    "        pn = survival_rate_shift(data, npx, age, i-1) * mortality_rate(data, age, i-1)\n",
    "        a += pn / discount\n",
    "        \n",
    "        npx = survival_rate_shift(data, npx, age, i)\n",
    "        b += npx / discount\n",
    "        \n",
    "    return a / b\n",
    "\n",
    "print(\"Minimum Annual Premium Rate is {:.5f}\".format(minimum_premium_rate(data, 38, 0.035)))"
   ]
  },
  {
   "cell_type": "markdown",
   "metadata": {},
   "source": [
    "### Working for question 5d\n",
    "\n",
    "Present Value of a permanent life insurance policy is:\n",
    "\n",
    "$$\n",
    "\\begin{equation}\n",
    "PV = \\sum_{n = 0}^\\infty \\frac{\\left( _{n}p_{x}\\right) \\times \\pi_{n} - \\mathbb{P}_{n} \\times DB}{\\left(1 + r\\right)^{n}}\n",
    "\\end{equation}\n",
    "$$\n",
    "\n",
    "- $\\pi_{n}$: premium to be paid at time $n$ (up-front payment, from time 0)\n",
    "- $DB$: death benefit amount\n",
    "- $r$: valuation interest rate\n",
    "\n",
    "The idea behind it is to get the cash inflows (premiums) multiplied by the survival probability (i.e. probability of receiving it) subtracted by the cash outflows (death benefits) multiplied by the death probability (i.e. probability of giving the death benefit). All of that is discounted by the interest rate and it is summed for all years.\n",
    "\n",
    "Since we want to get the premium rate (premium as a fraction of death benefit), we would need to rearrange the equation so that we get $\\frac{\\pi}{DB}$\n",
    "\n",
    "Finding the minimum premium rate means that we should set the present value to 0 (i.e. the company neither makes loss nor profit).\n",
    "\n",
    "The equation indicates that the premium could be different for the different years. However, since we are interested in the $\\frac{\\text{premium}}{\\text{death benefit}}$ ratio, we can assume that the premium will be a constant (or average over all different premiums). \n",
    "\n",
    "The equation can therefore be rearranged as follows:\n",
    "\n",
    "$$\n",
    "\\begin{equation}\n",
    "\\sum_{n = 0}^\\infty \\frac{\\left( _{n}p_{x}\\right) \\times \\pi}{\\left(1 + r\\right)^{n}} - \\sum_{n = 0}^\\infty \\frac{\\mathbb{P}_{n} \\times DB}{\\left(1 + r\\right)^{n}} = 0\n",
    "\\end{equation}\n",
    "$$\n",
    "\n",
    "$$\n",
    "\\begin{equation}\n",
    " \\pi \\times \\sum_{n = 0}^\\infty \\frac{\\left( _{n}p_{x}\\right)}{\\left(1 + r\\right)^{n}} = DB \\times \\sum_{n = 0}^\\infty \\frac{\\mathbb{P}_{n}}{\\left(1 + r\\right)^{n}}\n",
    "\\end{equation}\n",
    "$$\n",
    "\n",
    "$$\n",
    "\\begin{equation}\n",
    "\\frac{\\pi}{DB} = \\frac{\\sum_{n = 0}^\\infty \\frac{\\mathbb{P}_{n}}{\\left(1 + r\\right)^{n}}}{\\sum_{n = 0}^\\infty \\frac{\\left( _{n}p_{x}\\right)}{\\left(1 + r\\right)^{n}}}\n",
    "\\end{equation}\n",
    "$$\n",
    "\n",
    "$\\mathbb{P}_{n}$ is the probability that the person dies between year $n-1$ and $n$, and that he will survive by $n-1$\n",
    "\n",
    "$$\n",
    "\\begin{equation}\n",
    "\\mathbb{P}_{n} = \\left( _{n-1}p_{x}\\right) \\times \\left( _{n-1|}q_{x}\\right)\n",
    "\\end{equation}\n",
    "$$"
   ]
  },
  {
   "cell_type": "markdown",
   "metadata": {},
   "source": [
    "## E"
   ]
  },
  {
   "cell_type": "markdown",
   "metadata": {},
   "source": [
    "<p style = 'text-align: justify;'>Technology spreads throughout the insurance sector outpacing traditional approaches with better risk scoring and underwriting procedures. Wearable devices provide deep insights into customer’s general health like physical activity, blood pressure, pulse and temperature. Social media could also disclose customer risk tolerance. All these structured and unstructured data can be passed to predictive analytics engines to explore lifestyle patterns. Thus, risk of death can be calculated on an individual basis rather than using data generalised for groups of people. Providing personalised reminders around diet, doctor appointments, disease management, and physical activity will likely make customers healthier allowing insurers to get more accurate risk assessment and stable margins (i.e. more likely to collect the forecasted premium payments). Cloud computing also contributes to the closer prediction of cash flows as it provides scalable and efficient infrastructure for the more sophisticated risk models and calculations (e.g. big data, predictive analytics, AI). An implementation of blockchain can provide transparent and tamper-proof storage of insurance policies and claims. It will provide a mechanism against fraud and human input errors to eliminate unintended or inaccurate premium payments (cash inflows) and death benefits (cash outflows).</p>"
   ]
  },
  {
   "cell_type": "markdown",
   "metadata": {},
   "source": [
    "# Question 6"
   ]
  },
  {
   "cell_type": "markdown",
   "metadata": {},
   "source": [
    "## A"
   ]
  },
  {
   "attachments": {},
   "cell_type": "markdown",
   "metadata": {},
   "source": [
    "<p style = 'text-align: justify;'>In wealth management and brokerage traditional assets such as bonds and stocks are typically well researched by many big banks and independent research houses. However, with the world so connected by technology, new data can’t be processed quickly enough, which is why we should consider the use of Artificial Intelligence (AI) to help us filter all this new information and data. This technology would offer a clear opportunity for the firm to further personalize our services, while being able to better understand our clients’ requirements as well [2]. Whilst several wealth management firms are already claiming the use of AI; it is mostly used on the trading side, such as pattern recognition focus. A manner to apply this to the business infrastructure would be to build a core team that can do fundamental bottom-up analysis utilizing virtual analysts. Whilst this may be a long and difficult process, if successful it would allow our firm to compete head-on with the largest firms in our sector and stay ahead of the pack. When taking on new clients, due diligence is a key process that must be undertaken, which is known as KYC (know your customer), to ensure the identity. This process is done to determine the risk in terms of identity test, terrorism, and money laundering. In common firms, such process still requires human involvement, which results in the process having an unnecessarily long completion time. We propose our business to seek third party KYC identity check providers, such as Harbor [3]. These third-party providers use a set of machine learning algorithms to verify the identity of our customers and return results in a much shorter period than our current methods. Furthermore, we will see a reduction in the amount of errors, it is cost effective and a smoother onboarding experience for our clients. Cloud computing is another emerging technology that is gradually becoming an industry standard. Replacing the on-premise servers with cloud alternatives would provide scalable computation power, durability due to data copies across data centres, and cheaper costs with fees only on the used resources. [words: 345]</p>"
   ]
  },
  {
   "cell_type": "markdown",
   "metadata": {},
   "source": [
    "## B"
   ]
  },
  {
   "attachments": {},
   "cell_type": "markdown",
   "metadata": {},
   "source": [
    "<p style = 'text-align: justify;'>Traditional brokerage and wealth management businesses resemble a high-touch business model where managing someone's wealth involves personal attention and service. The rise of technology, however, has made all investment services faster, smarter and cheaper. AI and ML have become the most used technologies for automation, with examples like electronic KYC, biometric authentication, robo-advisors, algorithmic trading and predictive stock rating. Considering the bullish technology future, a low-touch model would be advantageous as the business can focus on adapting the latest innovations while decreasing the sales force through automated services.\n",
    "    \n",
    "<p style = 'text-align: justify;'>Trading electronically has also changed the landscape of investing as the number of new entrants has dramatically increased, reducing single brokers' dominance. As a result, commission fees were gradually reduced, giving the birth of discount brokers with zero commission (e.g. Robinhood). Although the traditional businesses offer more services, a Freemium business model can stop customers from switching to the cheaper fees. The model is a pricing strategy that offers limited features at no cost and charges users for additional services and usage. Examples of successful adaptations are Youtube, Spotify, Dropbox and Revolut (Figure 1).\n",
    "</p>"
   ]
  },
  {
   "attachments": {
    "q6b.png": {
     "image/png": "[encoded data removed]"
    }
   },
   "cell_type": "markdown",
   "metadata": {},
   "source": [
    "![q6b.png](attachment:q6b.png)"
   ]
  },
  {
   "attachments": {},
   "cell_type": "markdown",
   "metadata": {},
   "source": [
    "<p style = 'text-align: justify;'>The new Web3 paradigm may also hold important lessons in the wealth management space. In today's environment, with rising inflation expectations, VC and pre-IPO deals may have to become a bigger part of portfolios. In those markets, network effects are crucial. You need to be part of the inner circles to access the best deals. At the core of Web3 is a blockchain business model which rewards all participants who keep a decentralised network alive. This network is an immutable database that no one owns, but anyone can see and contribute. Such transparency could change the exclusive club mentality and broaden the reach for both investors and companies. Moreover, a company that develops a platform where everyone wins will undoubtedly gain market share. The days in which a sponsor of a SPAC automatically gets 20% of a target company seem numbered. [words: 323]</p>"
   ]
  },
  {
   "cell_type": "markdown",
   "metadata": {},
   "source": [
    "## C"
   ]
  },
  {
   "attachments": {},
   "cell_type": "markdown",
   "metadata": {},
   "source": [
    "<p style = 'text-align: justify;'>Traditionally, people looking to manage their wealth would consult a financial advisor to plan investment strategies based on their risk tolerance. However, the cost of such human service can be significant, and advisors tend to prefer high-value clients with upfront capital. Robo-advisory is an automated solution that could be ideal for younger investors as it offers low fees and low balance entry. The underlying AI technology also keeps improving, considering it can now handle tax-loss harvesting and portfolio rebalancing. Researchers also continuously work on machine learning algorithms that can be utilised in these virtual advisors for better market predictions.\n",
    "    \n",
    "<p style = 'text-align: justify;'>Copy trading is another complementary service suitable for people who are busy watching the markets or want to leverage other traders' expertise. In such a case, algorithms automatically enable users to copy positions opened and managed by top-performing trades. The trades would be instantly replicated in the user's portfolio, and the invested value will be calculated as a proportion of the chosen amount to copy. \n",
    "    \n",
    "<p style = 'text-align: justify;'>Considering the recent blockchain trend, the business can also support new assets. For example, cryptocurrencies and NFTs are based on this technology and are becoming increasingly popular investments. Adding a staking functionality would further stimulate the buying of the former asset. However, entering this digital market would face a lot of competition from cryptocurrency exchanges. The largest one, Binance, issued a successful utility token for discounted trading and the incentive of holding it as its value increases due to a burning mechanism. This could be a strategy worth exploring to attract new clients. There is also a big challenge. In the age of cybercrime and regulators, any financial institution that wants to offer access to these assets has a fiduciary duty to build both a technologically robust solution and one that fits within the regulatory framework. Lastly, a decentralised exchange system can battle liquidity issues and the matching process of buyers and sellers on an order book. It implements an automated market maker that determines the asset price based on the state of the liquidity pool. [words: 340]</p>"
   ]
  },
  {
   "cell_type": "markdown",
   "metadata": {},
   "source": [
    "# References"
   ]
  },
  {
   "cell_type": "markdown",
   "metadata": {},
   "source": [
    "This is some info.\n",
    "1. https://en.wikipedia.org/wiki/Life_table\n",
    "2. https://emerj.com/partner-content/an-overview-of-ai-for-wealth-management-whats-possible-today/\n",
    "3. https://harbor.com/platform\n",
    "4. https://en.wikipedia.org/wiki/Life_expectancy\n",
    "5. https://home.kpmg/xx/en/home/insights/2019/02/insurtech-10-digital-risk-reduction.html\n",
    "6. https://www.infopulse.com/blog/insurtech-risk-management-risk-scoring-underwriting\n",
    "7. https://www.altexsoft.com/blog/insurance-technologies/"
   ]
  }
 ],
 "metadata": {
  "kernelspec": {
   "display_name": "Python 3",
   "language": "python",
   "name": "python3"
  },
  "language_info": {
   "codemirror_mode": {
    "name": "ipython",
    "version": 3
   },
   "file_extension": ".py",
   "mimetype": "text/x-python",
   "name": "python",
   "nbconvert_exporter": "python",
   "pygments_lexer": "ipython3",
   "version": "3.9.0"
  }
 },
 "nbformat": 4,
 "nbformat_minor": 4
}
